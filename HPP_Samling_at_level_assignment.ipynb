{
  "nbformat": 4,
  "nbformat_minor": 0,
  "metadata": {
    "colab": {
      "name": "Copy of House_price_prediction_showcase_solution.ipynb",
      "version": "0.3.2",
      "provenance": [],
      "toc_visible": true,
      "include_colab_link": true
    },
    "kernelspec": {
      "name": "python2",
      "display_name": "Python 2"
    }
  },
  "cells": [
    {
      "cell_type": "markdown",
      "metadata": {
        "id": "view-in-github",
        "colab_type": "text"
      },
      "source": [
        "<a href=\"https://colab.research.google.com/github/fabiansd/AI-workshop/blob/master/HPP_Samling_at_level_assignment.ipynb\" target=\"_parent\"><img src=\"https://colab.research.google.com/assets/colab-badge.svg\" alt=\"Open In Colab\"/></a>"
      ]
    },
    {
      "metadata": {
        "id": "RlalqDcx5vdA",
        "colab_type": "text"
      },
      "cell_type": "markdown",
      "source": [
        "# House price prediction"
      ]
    },
    {
      "metadata": {
        "id": "AVpAxQka502M",
        "colab_type": "text"
      },
      "cell_type": "markdown",
      "source": [
        "## initialization script\n",
        "\n",
        "This is a initialization code. Run this and ignore it for now"
      ]
    },
    {
      "metadata": {
        "id": "yGcsrvdWCA5h",
        "colab_type": "code",
        "colab": {}
      },
      "cell_type": "code",
      "source": [
        "## Import of libraries\n",
        "import sklearn\n",
        "import pandas as pd\n",
        "import seaborn as sns\n",
        "import numpy as np\n",
        "from matplotlib import pyplot as plt\n",
        "\n",
        "## Option settings\n",
        "pd.options.mode.chained_assignment = None  # default='warn'\n",
        "pd.set_option('display.max_columns', None)\n",
        "\n",
        "import warnings\n",
        "warnings.simplefilter(action='ignore', category=FutureWarning)\n",
        "\n",
        "\n",
        "#############################################################################\n",
        "\n",
        "\n",
        "## Function that converts categorical variables to integer-encoded varables\n",
        "def encode_variables(data):\n",
        "\n",
        "  \n",
        "  from sklearn import preprocessing\n",
        "\n",
        "  ## Make encoder objects\n",
        "  Neighborhood_enc = preprocessing.LabelEncoder()\n",
        "  Condition1_enc = preprocessing.LabelEncoder()\n",
        "  HouseStyle_enc = preprocessing.LabelEncoder()\n",
        "  Fence_enc = preprocessing.LabelEncoder()\n",
        "  PoolQualityCondition_enc = preprocessing.LabelEncoder()\n",
        "  LandContour_enc = preprocessing.LabelEncoder()\n",
        "  Heating_enc = preprocessing.LabelEncoder()\n",
        "\n",
        "  ## Convert categorical columns\n",
        "  data['Neighborhood'] = Neighborhood_enc.fit_transform(data['Neighborhood'])\n",
        "  data['Condition1'] = Condition1_enc.fit_transform(data['Condition1'])\n",
        "  data['HouseStyle'] = HouseStyle_enc.fit_transform(data['HouseStyle'])\n",
        "  data['Fence'] = Fence_enc.fit_transform(data['Fence'])\n",
        "  data['PoolQC'] = PoolQualityCondition_enc.fit_transform(data['PoolQC'])\n",
        "  data['LandContour'] = LandContour_enc.fit_transform(data['LandContour'])\n",
        "  data['Heating'] = Heating_enc.fit_transform(data['Heating'])\n",
        "\n",
        "  \n",
        "  return data\n",
        "\n",
        "## Function that plots a correlation plot over the features in the dataset\n",
        "def correlation_plot(data, figsize = (18,16)):\n",
        "  sns.set(style=\"white\")\n",
        "\n",
        "  # Compute the correlation matrix\n",
        "  corr = data.corr()\n",
        "\n",
        "  # Generate a mask for the upper triangle\n",
        "  mask = np.zeros_like(corr, dtype=np.bool)\n",
        "  mask[np.triu_indices_from(mask)] = True\n",
        "\n",
        "  # Set up the matplotlib figure\n",
        "  f, ax = plt.subplots(figsize=figsize)\n",
        "\n",
        "  # Generate a custom diverging colormap\n",
        "  cmap = sns.diverging_palette(220, 10, as_cmap=True)\n",
        "\n",
        "  # Draw the heatmap with the mask and correct aspect ratio\n",
        "  sns.heatmap(corr, mask=mask, cmap=cmap,annot = True,fmt = \".2f\", vmax=.3, center=0,\n",
        "              square=True, linewidths=.5, cbar_kws={\"shrink\": .5})\n",
        "  \n",
        "def correlation_scatter(feature1, feature2, data, figsize=(15, 10), color = 'black'):\n",
        "  plt.figure(figsize=figsize)\n",
        "  plt.scatter(data[feature1], data[feature2], color=color)\n",
        "  plt.xlabel(feature1)\n",
        "  plt.ylabel(feature2)\n",
        "  plt.title(feature1 + ' correlation with ' + feature2)\n",
        "  plt.legend(loc='upper left')\n",
        "  plt.show()\n",
        "\n",
        "def distribution_numeric_features(feature, data, figsize=(15,7)):\n",
        "  #Lab figur-objekt og bestem størrelsen\n",
        "  plt.figure(figsize=figsize)\n",
        "\n",
        "  #Velg type plot med sns (seaborn) biblioteket.\n",
        "  sns.distplot(data[feature],bins=50, kde=False);\n",
        "\n",
        "  #X- og y-aksen kan navngis\n",
        "  plt.ylabel('Distribution amount')\n",
        "  plt.xlabel(feature)\n",
        "\n",
        "\n",
        "  #Sett tittel på figur\n",
        "  plt.title('Distribution of ' + feature)\n",
        "  plt.show()\n",
        "  \n",
        "def distribution_categorical_features(feature, data, sub_feature = None, figsize=(15,7)):\n",
        "  plt.figure(figsize=figsize)\n",
        "  plt.xticks(rotation=90)\n",
        "  if sub_feature != None:\n",
        "    sns.countplot(x=feature, hue=sub_feature, data=data)\n",
        "    plt.title('Distribution of ' + feature + ' within ' + sub_feature)\n",
        "  else: \n",
        "    sns.countplot(x=feature, data=data)\n",
        "  \n",
        "    plt.title('Distribution of ' + feature)\n",
        "  \n",
        "  \n",
        "def split_data_function(data):\n",
        "  \n",
        "  \n",
        "  from sklearn.model_selection import train_test_split\n",
        "  \n",
        "  input_features = list(data.columns.values)\n",
        "  input_features.remove('SalePrice')\n",
        "\n",
        "  ## Input data is all columns except the last, output data is the last column\n",
        "  input_data = data.loc[:,input_features].copy(deep=True)\n",
        "  output_data = data['SalePrice'].copy(deep=True)\n",
        "\n",
        "  return train_test_split(input_data, output_data, test_size=0.2, random_state=1)\n",
        "\n",
        "def prediction_result_plot(true_saleprice, predicted_saleprice, figsize=(15, 10)):\n",
        "  plt.figure(figsize=figsize)\n",
        "  plt.scatter(x=true_saleprice, y=predicted_saleprice)\n",
        "  plt.xlabel('True Saleprice')\n",
        "  plt.ylabel('Predicted Saleprice')\n",
        "  plt.title('Prediction result -- truth against prediction')\n",
        "  plt.show()\n",
        "\n",
        "## Download dataset from Github into the script\n",
        "from six.moves import urllib\n",
        "urllib.request.urlretrieve(\"https://raw.githubusercontent.com/fabiansd/AI-workshop/master/data/Melbourne_train.csv\", \"./Melbourne_train.csv\")\n",
        "data_raw = pd.read_csv('Melbourne_train.csv')\n",
        "\n",
        "# Select a number of columns to include\n",
        "aktuelle_kolonner = ['Id','LotArea','Neighborhood','WoodDeckSF','Condition1','HouseStyle','LandContour','OverallQual','OverallCond','YearBuilt','YearRemodAdd','Heating','1stFlrSF','FullBath','HalfBath','BedroomAbvGr','Fence','KitchenAbvGr','TotRmsAbvGrd','GarageCars','GarageArea','Fireplaces','PoolArea','PoolQC','MoSold','YrSold']\n",
        "data = data_raw[aktuelle_kolonner]\n",
        "\n",
        "# Generating new feature based on other features\n",
        "data['HouseAge'] = data_raw['YrSold'] - data_raw['YearBuilt']\n",
        "\n",
        "#Fence NaN changed to None\n",
        "data['Fence'] = data['Fence'].fillna('None')\n",
        "\n",
        "#Adding saleprice on the end\n",
        "data['SalePrice'] = data_raw['SalePrice']\n",
        "\n",
        "#Removal of extreme points\n",
        "data = data[data['LotArea'] < 100000]"
      ],
      "execution_count": 0,
      "outputs": []
    },
    {
      "metadata": {
        "id": "L0-QzZj7WyVW",
        "colab_type": "text"
      },
      "cell_type": "markdown",
      "source": [
        "## Getting started\n",
        "\n",
        "Python alows users to use pre-made functions from various libraries. The libraries has to be **imported** in order to use them. Once imported, their functions can be used by defining what library, followed by dot and what function to use. E.g.:\n",
        "\n",
        "library.function()\n",
        "\n",
        "\n",
        "### Running a notebook\n",
        "\n",
        "To run a code: press ctrl + enter or press play on the left top corner of the code block.\n",
        "\n",
        "See all shortcuts on \"Tools\" or press Ctrl + m + h\n",
        "\n",
        "Remember that you run code sequentally. If you try to use a variable/object from an earlier code block, this code block must have been run. If not, the notebook will not find the variable/object.\n",
        "\n",
        "\n",
        "### Python library documentation\n",
        "\n",
        "Pandas (data processing) <a href=\"https://pandas.pydata.org/pandas-docs/stable/generated/pandas.DataFrame.html\">dokumentasjon</a> og <a href=\"https://pandas.pydata.org/pandas-docs/stable/10min.html#min\">tutorial</a> <br> \n",
        "\n",
        "\n",
        "Matplotlib (plot functions) <a href=\"https://matplotlib.org/gallery/index.html\"> dokumentasjon </a> og <a href=\"https://www.datacamp.com/community/tutorials/matplotlib-tutorial-python\">tutorial </a> <br>\n",
        "\n",
        "Scikit-learn (machine learning library) <a href=\"http://scikit-learn.org/stable/\" > dokumentasjon </a> og <a href=\"http://scikit-learn.org/stable/tutorial/index.html\"> tutorial </a> <br>\n",
        "\n",
        "In python, the **Scikit-learn** library is called **sklearn** for simplicity\n",
        "\n",
        "Dont forget to google, often!"
      ]
    },
    {
      "metadata": {
        "id": "oxicozhB5-qS",
        "colab_type": "text"
      },
      "cell_type": "markdown",
      "source": [
        "# Explore data\n",
        "\n",
        "## Pandas dataframe\n",
        "\n",
        " <a href=\"https://www.kaggle.com/c/home-data-for-ml-course/data\"> Description </a> of Melbourne house sale dataset on Kaggle\n",
        " \n",
        " We use Pandas to read the dataset and load it into the python script. Pandas offers a lot of functions that allows us to explore the data.\n",
        " \n",
        " Print the n first registrations in the dataset using\n",
        " \n",
        " <br>$data.head(n)$\n",
        " \n",
        " "
      ]
    },
    {
      "metadata": {
        "id": "l5HWkMYl57W4",
        "colab_type": "code",
        "colab": {}
      },
      "cell_type": "code",
      "source": [
        "\n",
        "\n",
        "\n",
        "\n",
        "\n"
      ],
      "execution_count": 0,
      "outputs": []
    },
    {
      "metadata": {
        "id": "bkAyBn98SY_8",
        "colab_type": "text"
      },
      "cell_type": "markdown",
      "source": [
        "Use the function $data.describe()$ <br> to print a statistical overview of the dataset"
      ]
    },
    {
      "metadata": {
        "id": "THwKDVysobRk",
        "colab_type": "code",
        "colab": {}
      },
      "cell_type": "code",
      "source": [
        "\n",
        "\n",
        "\n",
        "\n",
        "\n",
        "\n"
      ],
      "execution_count": 0,
      "outputs": []
    },
    {
      "metadata": {
        "id": "oJRCVAPUSn_9",
        "colab_type": "text"
      },
      "cell_type": "markdown",
      "source": [
        "The function $data.info() $<br>\n",
        "will print useable information about each feature in the dataset"
      ]
    },
    {
      "metadata": {
        "id": "YgxBsOR8Wmng",
        "colab_type": "code",
        "colab": {}
      },
      "cell_type": "code",
      "source": [
        "\n",
        "\n",
        "\n",
        "\n",
        "\n",
        "\n"
      ],
      "execution_count": 0,
      "outputs": []
    },
    {
      "metadata": {
        "id": "ivCPJ76ecZEr",
        "colab_type": "text"
      },
      "cell_type": "markdown",
      "source": [
        "## Plotting features\n",
        "\n",
        "We can plot numerical features to see how they are distributed.\n",
        "\n",
        "Use the following function to plot numerical features\n",
        "\n",
        "$distribution\\_numeric\\_features(feature = 'feature\\_name', data = dataset, figsize=(width, height))$"
      ]
    },
    {
      "metadata": {
        "id": "k1YT48NXdIhW",
        "colab_type": "code",
        "colab": {}
      },
      "cell_type": "code",
      "source": [
        "#Example\n",
        "#distribution_numeric_features(feature = 'SalePrice', data = data, figsize=(20,7))\n",
        "\n",
        "\n",
        "\n"
      ],
      "execution_count": 0,
      "outputs": []
    },
    {
      "metadata": {
        "id": "K_6n1Mjjd3VE",
        "colab_type": "text"
      },
      "cell_type": "markdown",
      "source": [
        "When plotting categorical variables we count the features rather than plotting a distribution.\n",
        "\n",
        "$distribution\\_categorical\\_features(feature = 'feature\\_name', data = dataset, figsize=(width, height))$ <br>\n",
        "\n",
        "This function is used to plot categorical features. It can be modified to include undercategories as well:\n",
        "\n",
        "$distribution\\_categorical\\_features(feature = 'feature\\_name', sub\\_feature = 'sub\\_feature\\_name', data = dataset, figsize=(width, height))$ <br>"
      ]
    },
    {
      "metadata": {
        "id": "xixpvLmreA3Q",
        "colab_type": "code",
        "colab": {}
      },
      "cell_type": "code",
      "source": [
        "#Example\n",
        "#distribution_categorical_features(feature = 'Neighborhood', data = data, figsize=(15,7))\n",
        "\n",
        "\n",
        "\n"
      ],
      "execution_count": 0,
      "outputs": []
    },
    {
      "metadata": {
        "id": "TfxFOVTDfbG_",
        "colab_type": "code",
        "colab": {}
      },
      "cell_type": "code",
      "source": [
        "#Example\n",
        "#distribution_categorical_features(feature = 'YrSold', sub_feature='MoSold', data = data, figsize=(15,7))\n",
        "\n",
        "\n",
        "\n",
        "\n",
        "\n"
      ],
      "execution_count": 0,
      "outputs": []
    },
    {
      "metadata": {
        "id": "C6hb4btTV49F",
        "colab_type": "text"
      },
      "cell_type": "markdown",
      "source": [
        "##Algorithms prefer numbers\n",
        "\n",
        "Algorithms read only number. Therefore, the categorical fetures must be encoded into a numeric labelling. For example, a feature containing 'Yes' and 'No' can be encoded to 0 and 1.\n",
        "\n",
        "\n",
        "Use the function $ data = encode\\_variables(data)$ to encode the categorical features and print the 10 first registrations in the dataset.\n"
      ]
    },
    {
      "metadata": {
        "id": "Sbe99lcPSjL1",
        "colab_type": "code",
        "colab": {}
      },
      "cell_type": "code",
      "source": [
        "# Encode categorical featrues into numbers\n",
        "\n",
        "\n",
        "\n",
        "\n"
      ],
      "execution_count": 0,
      "outputs": []
    },
    {
      "metadata": {
        "id": "pwOvnUfAcs13",
        "colab_type": "text"
      },
      "cell_type": "markdown",
      "source": [
        "Now print the 5 first rows of the dataset to see that the categorical features has been encoded into number"
      ]
    },
    {
      "metadata": {
        "id": "1DnsrGPt5nlk",
        "colab_type": "text"
      },
      "cell_type": "markdown",
      "source": [
        "# Select features\n",
        "\n",
        "## Correlation plot\n",
        "\n",
        "A correlation plot shows to what degree features change in correlation. If two features have a high correlation, they are somewhat related and have an impact on each other. In other words, they are connected. \n",
        "\n",
        "We generally want features that have an impact on the saleprice such that we can use these features to predict the saleprice. \n",
        "\n",
        "If a features has a positive correlation with the saleprice, the saleprice will be high when this feature is high (like house area). If a feature has a negative correlation with the saleprice, then the saleprice is high when the feature is low (like house age).\n",
        "\n",
        "\n",
        "To plot correlation, use the function <br> $correlation\\_plot(data = 'data', figsize = (width,height))$"
      ]
    },
    {
      "metadata": {
        "id": "0j2rbFj_UIWo",
        "colab_type": "code",
        "colab": {}
      },
      "cell_type": "code",
      "source": [
        "\n",
        "\n",
        "\n",
        "\n",
        "\n",
        "\n"
      ],
      "execution_count": 0,
      "outputs": []
    },
    {
      "metadata": {
        "id": "8L7mQn-T6S27",
        "colab_type": "text"
      },
      "cell_type": "markdown",
      "source": [
        "## Create subdataset\n",
        "\n",
        "We can select features by creating a sub dataset including only the desired features. This is obtained by creating a list of the specific features we want to use.\n",
        "\n"
      ]
    },
    {
      "metadata": {
        "id": "rfNoA838MyNh",
        "colab_type": "code",
        "colab": {}
      },
      "cell_type": "code",
      "source": [
        "#Write down the features you want to include. E.g.: \n",
        "\n",
        "# data_selection = data[['LotArea','WoodDeckSF','SalePrice']]'\n",
        "\n",
        "# data_selection.head()\n"
      ],
      "execution_count": 0,
      "outputs": []
    },
    {
      "metadata": {
        "id": "yGIJeLx4V_Df",
        "colab_type": "text"
      },
      "cell_type": "markdown",
      "source": [
        "Print an info summary and correlation plot of the new dataset"
      ]
    },
    {
      "metadata": {
        "id": "mlT7F2gKNDP7",
        "colab_type": "code",
        "colab": {}
      },
      "cell_type": "code",
      "source": [
        "\n",
        "\n",
        "\n",
        "\n"
      ],
      "execution_count": 0,
      "outputs": []
    },
    {
      "metadata": {
        "id": "a_Y-wpLRVxFZ",
        "colab_type": "text"
      },
      "cell_type": "markdown",
      "source": [
        "#Machine learning modelling\n",
        "\n",
        "We typically select machine learning model based on the amount of features and data. Scikit-learn offers a <a href = \"http://scikit-learn.org/stable/tutorial/machine_learning_map/index.html\">  model chart </a> that allows you to easily select the right models to test.\n",
        "\n",
        "\n",
        "## Dividing into test and train data\n",
        "\n",
        "First, the data is splitt into two separate data objects <br>\n",
        "-- **Input**: all the features the model is predicting on <br>\n",
        "-- **output** the saleprice, or label <br>\n",
        "<br>\n",
        "Then, the data is split into a train dataset and test dataset <br>\n",
        " -- **Train dataset**: used for training or building the machine learning model <br>\n",
        " -- **Test dataset**: used for testing after machine learning model is built (model validation) <br>\n",
        " <br>\n",
        " This results in a total of 4 datasets. We use the split function:\n",
        " \n",
        " <br>\n",
        " $input\\_trainingdata, input\\_testdata, output\\_trainingdata, output\\_testdata = split\\_data\\_function('data')$"
      ]
    },
    {
      "metadata": {
        "id": "RQIlvihNddGi",
        "colab_type": "code",
        "colab": {}
      },
      "cell_type": "code",
      "source": [
        "## The data is split into two: Trainingdata and testdata for input and output (4 data objects in total)\n",
        "input_trainingdata, input_testdata, output_trainingdata, output_testdata = split_data_function(data_selection)\n",
        "\n",
        "\n",
        "#Print functions to reveal the shape of the data\n",
        "print('Input trainingdata (samples, features): {}, Input testdata (samples, features): {}\\n'.format(input_trainingdata.shape, input_testdata.shape)) \n",
        "print('Output trainingsdata (samples, label): {}, Output testdata (samples, label): {}\\n'.format(output_trainingdata.shape, output_testdata.shape))\n"
      ],
      "execution_count": 0,
      "outputs": []
    },
    {
      "metadata": {
        "id": "d2QNnXghDgIt",
        "colab_type": "text"
      },
      "cell_type": "markdown",
      "source": [
        "To measure the error on our predictions, we use mean absolute error. This is simply the absolute error between out prediction and the real saleprice over the whole test dataset."
      ]
    },
    {
      "metadata": {
        "id": "1wmzkAQTkNgS",
        "colab_type": "code",
        "colab": {}
      },
      "cell_type": "code",
      "source": [
        "from sklearn.metrics import mean_absolute_error"
      ],
      "execution_count": 0,
      "outputs": []
    },
    {
      "metadata": {
        "id": "ImRepjHVW6Uo",
        "colab_type": "text"
      },
      "cell_type": "markdown",
      "source": [
        "## Training a linear regression model\n",
        "\n",
        "<img src=\"https://upload.wikimedia.org/wikipedia/commons/thumb/3/3a/Linear_regression.svg/438px-Linear_regression.svg.png\">\n",
        "\n",
        "\n",
        "This step shows how to use the data to build a macine learning model based using the trainingdata, then test the performance using the testdata.\n",
        "\n",
        "To build a linear regression model, go to the <a href = \"http://scikit-learn.org/stable/modules/generated/sklearn.linear_model.LinearRegression.html\" > sklearn documentation on linear regression </a>. The documentation explains how the model is used in the python script. The sklearn models accept a range of parameters which you can define, or leave to its defaults.\n",
        "\n"
      ]
    },
    {
      "metadata": {
        "id": "YS5AsCoLWtz9",
        "colab_type": "code",
        "colab": {}
      },
      "cell_type": "code",
      "source": [
        "### TRAINING PHASE ###\n",
        "\n",
        "## The model we want to use is imported. The model name from the documentation is used\n",
        "\n",
        "from sklearn.linear_model import LinearRegression\n",
        "\n",
        "## We then create a model object, which is a linear regression model in this case\n",
        "\n",
        "model_linear_regression = LinearRegression()\n",
        "\n",
        "\n",
        "## Finally, we train the model by using its built in function 'fit'. The input and output training data is used as parameters\n",
        "\n",
        "model_linear_regression.fit(input_trainingdata, output_trainingdata)\n",
        "\n",
        "\n",
        "## We now have a trained machine learning model that is able to predict output (saleprice) from input (features)"
      ],
      "execution_count": 0,
      "outputs": []
    },
    {
      "metadata": {
        "id": "DGm5twGsqYj7",
        "colab_type": "code",
        "colab": {}
      },
      "cell_type": "code",
      "source": [
        "### TEST PHASE ###\n",
        "\n",
        "## We make predictions on the input from the test data by using the built in function 'predict'. The input testdata is used a parameter\n",
        "saleprice_predictions_lin_reg = model_linear_regression.predict(input_testdata)\n",
        "\n",
        "\n",
        "## Finally, we calculate the mean absolute error between output testdata (true saleprice on testdata) and output predictions (predicted saleprice on testdata)\n",
        "MAE_lin_reg = mean_absolute_error(saleprice_predictions_lin_reg, output_testdata)\n",
        "\n",
        "\n",
        "## The test error is printed\n",
        "print(\"MAE: {}\".format(MAE_lin_reg))"
      ],
      "execution_count": 0,
      "outputs": []
    },
    {
      "metadata": {
        "id": "i4WLs5fbsABM",
        "colab_type": "code",
        "colab": {}
      },
      "cell_type": "code",
      "source": [
        "### VISUALIZATION PHASE ###\n",
        "## 'output_testdata' is the true house price\n",
        "## 'saleprice_predictions_lin_reg' is the predicted house prices from the linear regression model\n",
        "prediction_result_plot(true_saleprice = output_testdata, predicted_saleprice = saleprice_predictions_lin_reg, figsize=(15, 10))"
      ],
      "execution_count": 0,
      "outputs": []
    },
    {
      "metadata": {
        "id": "oPiYSSHgvZp6",
        "colab_type": "text"
      },
      "cell_type": "markdown",
      "source": [
        "This is the coding pipeline for creating your own machine learning model. Fill inn the "
      ]
    },
    {
      "metadata": {
        "id": "T3Szf7BWuJBM",
        "colab_type": "code",
        "colab": {}
      },
      "cell_type": "code",
      "source": [
        "## The text strings need to be defined by you ##\n",
        "\n",
        "#Training\n",
        "from sklearn.'Model_Type' import 'Model'\n",
        "\n",
        "'model_name' = 'Model'\n",
        "\n",
        "'model_name'.fit(input_trainingdata, output_trainingdata)\n",
        "\n",
        "#Testing\n",
        "'predictions_name' = 'model_name'.predict(input_testdata)\n",
        "\n",
        "'MAE_name' = mean_absolute_error('predictions_name', output_testdata)\n",
        "\n",
        "print(\"MAE: {}\".format('MAE_name'))\n",
        "\n",
        "#Visualizing\n",
        "prediction_result_plot(true_saleprice = output_testdata, predicted_saleprice = 'predictions_name', figsize=(15, 10))"
      ],
      "execution_count": 0,
      "outputs": []
    },
    {
      "metadata": {
        "id": "U053cncebbNr",
        "colab_type": "text"
      },
      "cell_type": "markdown",
      "source": [
        "### Model proposals:\n",
        "\n",
        "<a href=\"http://scikit-learn.org/stable/modules/generated/sklearn.tree.DecisionTreeRegressor.html\">Decision tree regression</a>\n",
        "\n",
        "<a href=\"https://scikit-learn.org/stable/modules/generated/sklearn.linear_model.Lasso.html\">Lasso regression</a>\n",
        "\n",
        "<a href=\"https://scikit-learn.org/stable/modules/generated/sklearn.ensemble.GradientBoostingRegressor.html\">Gradient boosting regression</a>\n",
        "\n"
      ]
    },
    {
      "metadata": {
        "id": "8H75vZIBbQH_",
        "colab_type": "code",
        "colab": {}
      },
      "cell_type": "code",
      "source": [
        "#### Import examples ####\n",
        "\n",
        "# from sklearn.tree import DecisionTreeRegressor\n",
        "# from sklearn.linear_model import Lasso\n",
        "# from sklearn.ensemble import GradientBoostingRegressor\n"
      ],
      "execution_count": 0,
      "outputs": []
    },
    {
      "metadata": {
        "id": "OJDY1lWeGRRF",
        "colab_type": "text"
      },
      "cell_type": "markdown",
      "source": [
        "# Custom models\n",
        "\n",
        "Create a model that beats the linear regression score"
      ]
    },
    {
      "metadata": {
        "id": "xSLK0UajcGyn",
        "colab_type": "text"
      },
      "cell_type": "markdown",
      "source": [
        "Training phase"
      ]
    },
    {
      "metadata": {
        "id": "nrn5kkDUcBoh",
        "colab_type": "code",
        "colab": {}
      },
      "cell_type": "code",
      "source": [
        "\n",
        "\n",
        "\n",
        "\n"
      ],
      "execution_count": 0,
      "outputs": []
    },
    {
      "metadata": {
        "id": "bXHIkDJfcNUe",
        "colab_type": "text"
      },
      "cell_type": "markdown",
      "source": [
        "Testing phase"
      ]
    },
    {
      "metadata": {
        "id": "nPMojKMRcDhe",
        "colab_type": "code",
        "colab": {}
      },
      "cell_type": "code",
      "source": [
        "\n",
        "\n",
        "\n",
        "\n",
        "\n"
      ],
      "execution_count": 0,
      "outputs": []
    },
    {
      "metadata": {
        "id": "8XUZuwi4cQFq",
        "colab_type": "text"
      },
      "cell_type": "markdown",
      "source": [
        "Results visualization"
      ]
    },
    {
      "metadata": {
        "id": "iCn9tDn1cSTQ",
        "colab_type": "code",
        "colab": {}
      },
      "cell_type": "code",
      "source": [
        "\n",
        "\n",
        "\n",
        "\n",
        "\n",
        "\n",
        "\n"
      ],
      "execution_count": 0,
      "outputs": []
    }
  ]
}