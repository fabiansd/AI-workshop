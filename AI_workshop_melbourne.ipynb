{
  "nbformat": 4,
  "nbformat_minor": 0,
  "metadata": {
    "colab": {
      "name": "AI_workshop_melbourne.ipynb",
      "version": "0.3.2",
      "provenance": [],
      "collapsed_sections": [
        "AONVtkIr-xaH",
        "Kz76BZO32imh",
        "WLFDGH2PfijY",
        "jCg2e_DKx5F5",
        "lKrA30orwXou",
        "-LtjWLM-dn8A",
        "U8Ol2pPSFk9D"
      ],
      "toc_visible": true,
      "include_colab_link": true
    },
    "kernelspec": {
      "name": "python3",
      "display_name": "Python 3"
    }
  },
  "cells": [
    {
      "cell_type": "markdown",
      "metadata": {
        "id": "view-in-github",
        "colab_type": "text"
      },
      "source": [
        "[View in Colaboratory](https://colab.research.google.com/github/fabiansd/AI-workshop/blob/master/AI_workshop_melbourne.ipynb)"
      ]
    },
    {
      "metadata": {
        "id": "23kPOlTZs8DW",
        "colab_type": "text"
      },
      "cell_type": "markdown",
      "source": [
        "Forfatter: Fabian Sødal Dietrichson\n",
        "\n",
        "Github: https://github.com/fabiansd/AI-workshop/blob/master/AI_workshop_melbourne.ipynb"
      ]
    },
    {
      "metadata": {
        "id": "Mj-iU85nxENm",
        "colab_type": "text"
      },
      "cell_type": "markdown",
      "source": [
        "# Datasett\n",
        "\n",
        "Beskrivelse av datasett:\n",
        "\n",
        "https://www.kaggle.com/c/home-data-for-ml-course/data\n",
        "\n",
        "\n",
        "Alle måleenhetene utgjør hver sin kolonne, og kalles *features*\n"
      ]
    },
    {
      "metadata": {
        "id": "vSAy5T75eZQi",
        "colab_type": "text"
      },
      "cell_type": "markdown",
      "source": [
        "# Importering av data og python-bibliotek\n",
        "\n",
        "Python tillater å bruke mange forskjellige ferdigskrevne funksjoner. Disse lagres i biblioteker som må importeres før de kan brukes. \n",
        "\n",
        "### Bibliotek dokumentasjon\n",
        "\n",
        "Pandas (datahåndtering) <a href=\"https://pandas.pydata.org/pandas-docs/stable/generated/pandas.DataFrame.html\">dokumentasjon</a> og <a href=\"https://pandas.pydata.org/pandas-docs/stable/10min.html#min\">tutorial</a> <br> \n",
        "\n",
        "\n",
        "Seaborn (plottefunksjoner) <a href=\"https://seaborn.pydata.org/index.html\">dokumentasjon </a> og <a href=\"https://seaborn.pydata.org/tutorial.html\">tutorial</a> <br>\n",
        "\n",
        "Matplotlib (plottestøttefunksjoner) <a href=\"https://matplotlib.org/gallery/index.html\"> dokumentasjon </a> og <a href=\"https://www.datacamp.com/community/tutorials/matplotlib-tutorial-python\">tutorial </a> <br>\n",
        "\n",
        "Scikit-learn (maskinlæring) <a href=\"http://scikit-learn.org/stable/\" > dokumentasjon </a> og <a href=\"http://scikit-learn.org/stable/tutorial/index.html\"> tutorial </a> <br>\n",
        "\n",
        "I python heter **Scikit-learn** biblioteket **sklearn** for enkelhetens skyld\n",
        "\n",
        "Bruk google hyppig, se på eksempler!"
      ]
    },
    {
      "metadata": {
        "id": "NTWD1FGw3Smp",
        "colab_type": "code",
        "colab": {}
      },
      "cell_type": "code",
      "source": [
        "## Import av biblioteker \n",
        "import sklearn\n",
        "import pandas as pd\n",
        "import seaborn as sns\n",
        "from matplotlib import pyplot as plt\n",
        "\n",
        "pd.options.mode.chained_assignment = None  # default='warn'\n",
        "\n",
        "pd.set_option('display.max_columns', None)\n",
        "\n",
        "import warnings\n",
        "warnings.simplefilter(action='ignore', category=FutureWarning)\n",
        "\n",
        "\n",
        "## Laster ned datasettet fra lenken og lagrer dette som filen Melbourne_train.csv\n",
        "from six.moves import urllib\n",
        "urllib.request.urlretrieve(\"https://raw.githubusercontent.com/fabiansd/AI-workshop/master/data/Melbourne_train.csv\", \"./Melbourne_train.csv\")"
      ],
      "execution_count": 0,
      "outputs": []
    },
    {
      "metadata": {
        "id": "aVZuxHi_361P",
        "colab_type": "text"
      },
      "cell_type": "markdown",
      "source": [
        "# Databehandling\n",
        "\n",
        "Første steg i et AI-prosjekt er å undersøke og studere dataen. Pandas har mange funksjoner som kan hjelpe til med dette. Det er viktig få et innblikk i hvordan dataen ser ut og hva slag verdier den faktisk inneholder. Pandas kan sammenliknes med excel, bare for python.\n"
      ]
    },
    {
      "metadata": {
        "id": "66oiq_AKrrbp",
        "colab_type": "text"
      },
      "cell_type": "markdown",
      "source": [
        "## Opplasting av data\n",
        "\n",
        "Dataen blir lest og lastet opp av pandas biblioteket. Dette gjøres ved å bruke pandas-funksjonen <br>\n",
        "$pd.read\\_csv('filnavn.csv')$. <br>Funksjonen tar en parameter som er filstien til csv-filen vi har lastet ned. Parameteren må være av typen String. Det betyr tekst og må skrives inne mellom anførselstegn. <br> I dette tilfellet er parameteren<i> \"Melbourne_train.csv\"</i><br>\n",
        "\n",
        "Funksjonen returnerer et objekt fra Pandas, kalt Dataframe, som representerer datasettet vårt. I dette tilfellet heter objektet, eller Dataframen, $data$"
      ]
    },
    {
      "metadata": {
        "id": "2P2YICvV4Co0",
        "colab_type": "code",
        "colab": {}
      },
      "cell_type": "code",
      "source": [
        "data = pd.read_csv('Melbourne_train.csv')"
      ],
      "execution_count": 0,
      "outputs": []
    },
    {
      "metadata": {
        "id": "c3Aq-Tcar3dq",
        "colab_type": "text"
      },
      "cell_type": "markdown",
      "source": [
        "En Pandas dataframe har mange funksjoner. Disse utfører ulike operasjoner på dataen. <br>\n",
        "Eksempelvis kan man skrive ut de n førset elementene i datasettet ved å skrive: <br> $data.head(n)$ <br>\n",
        "Denne funksjonen tar parametre av typen heltall, også kalt Integer.<br> I dette tilfellet er parameteren <i>n=10</i>"
      ]
    },
    {
      "metadata": {
        "id": "OmvwCThz6Qdu",
        "colab_type": "code",
        "colab": {}
      },
      "cell_type": "code",
      "source": [
        "data.head(10)"
      ],
      "execution_count": 0,
      "outputs": []
    },
    {
      "metadata": {
        "id": "rAwJ_VcusDLg",
        "colab_type": "text"
      },
      "cell_type": "markdown",
      "source": [
        "På samme vis kan de 5 siste elementene vises ved å skrive: \n",
        "<br>$data.tail(5)$"
      ]
    },
    {
      "metadata": {
        "id": "r1hIBvu2RDLm",
        "colab_type": "code",
        "colab": {}
      },
      "cell_type": "code",
      "source": [
        "data.tail(5)"
      ],
      "execution_count": 0,
      "outputs": []
    },
    {
      "metadata": {
        "id": "rqWAijVQoCDp",
        "colab_type": "text"
      },
      "cell_type": "markdown",
      "source": [
        "Videre kan det være nyttig å skrive ut navnet på alle kolonnene i datasettet vårt. Disse er lagret i en variabel til objektet $data$, og kan aksesseres ved å skrive $data.columns$"
      ]
    },
    {
      "metadata": {
        "id": "bHfl_nCCoNLO",
        "colab_type": "code",
        "colab": {}
      },
      "cell_type": "code",
      "source": [
        "data.columns"
      ],
      "execution_count": 0,
      "outputs": []
    },
    {
      "metadata": {
        "id": "lLSDe-B_znYo",
        "colab_type": "text"
      },
      "cell_type": "markdown",
      "source": [
        "Denne informasjonen er nyttig når man vil hente ut spesifikk data fra en pandas dataframe. Du kan hente ut dataen i en kolonne ved å skrive\n",
        "\n",
        "$ data.kolonnenavn $\n",
        "\n",
        "Dataen du henter ut her vil ikke lenger være en dataframe, men en liste (array) med verdier."
      ]
    },
    {
      "metadata": {
        "id": "ahF7QHFvgBYR",
        "colab_type": "code",
        "colab": {}
      },
      "cell_type": "code",
      "source": [
        "data.SaleCondition.head()"
      ],
      "execution_count": 0,
      "outputs": []
    },
    {
      "metadata": {
        "id": "KUBpTfishZOH",
        "colab_type": "text"
      },
      "cell_type": "markdown",
      "source": [
        "Vi kan oppnå det samme ved å bruke klammer med kolonnenavnet. Da vil det se slik ut:\n",
        "\n",
        "$data['kolonnenavn'] $"
      ]
    },
    {
      "metadata": {
        "id": "GslDmUXfiJ6x",
        "colab_type": "code",
        "colab": {}
      },
      "cell_type": "code",
      "source": [
        "data['SaleCondition'].head()"
      ],
      "execution_count": 0,
      "outputs": []
    },
    {
      "metadata": {
        "id": "BBT_boFWm2hH",
        "colab_type": "text"
      },
      "cell_type": "markdown",
      "source": [
        "Pandas fungerer på mange måter som Excel. Man kan derfor hente ut verdier ved å refere til en bestemt \"celle\" i objektet. \n",
        "På den måten kan enkeltverdier hentes ut med tall-indeksering ved bruk av Pandas iloc-funksjonen. <br>\n",
        "\n",
        "<br> $data.iloc[rad, kolonne] $ <br>\n",
        "\n",
        "\n",
        "Eksempelvis kan data lagret i <i>rad 0</i> og <i>kolonne 3</i> hentes ut slik:"
      ]
    },
    {
      "metadata": {
        "id": "00YBaG-unO0J",
        "colab_type": "code",
        "colab": {}
      },
      "cell_type": "code",
      "source": [
        "## Verdien fra linje 0, kolonne 3 lagres i variabelen verdi\n",
        "verdi = data.iloc[0,3]\n",
        "\n",
        "## Navnet på kolonne 3 lagres i variabelen feature\n",
        "feature = data.columns[3]\n",
        "\n",
        "## Skriver ut variablene feature og verdi\n",
        "print(feature, verdi)"
      ],
      "execution_count": 0,
      "outputs": []
    },
    {
      "metadata": {
        "id": "NiqSUdFXtvv-",
        "colab_type": "text"
      },
      "cell_type": "markdown",
      "source": [
        "Pandas kan også gi info om hva slags data som er lagret i datasettet og hvor mange instanser det er i hver kolonne. Dette gjøres gjennom funksjonen <br>\n",
        "$data.info()$ <br>"
      ]
    },
    {
      "metadata": {
        "id": "2r-HQcObR72m",
        "colab_type": "code",
        "colab": {}
      },
      "cell_type": "code",
      "source": [
        "data.info()"
      ],
      "execution_count": 0,
      "outputs": []
    },
    {
      "metadata": {
        "id": "GsLL0p1Mv0s9",
        "colab_type": "text"
      },
      "cell_type": "markdown",
      "source": [
        "Det kan også være greit å vite hvor mange linjer det faktisk er. Vi teller derfor antallet linjer i objektet $data$ ved å bruke funksjonen <br>\n",
        "$len()$ <br>\n",
        "Denne funksjonen kan ta objektet $data$, som vi ønsker å telle, som parameter."
      ]
    },
    {
      "metadata": {
        "id": "m2qYyrD2v1kI",
        "colab_type": "code",
        "colab": {}
      },
      "cell_type": "code",
      "source": [
        "## Skriver ut lengden på datasettet. Dvs antallet linjer i datasettet\n",
        "print('\\n Antall registreringer i datasettet: {}'.format(len(data)))"
      ],
      "execution_count": 0,
      "outputs": []
    },
    {
      "metadata": {
        "id": "AONVtkIr-xaH",
        "colab_type": "text"
      },
      "cell_type": "markdown",
      "source": [
        "## Utforsking av data\n",
        "\n",
        "Med pandas kan man få en statistisk oversikt over datasettet med funksjonen <br> $data.describe()$ <br> For eksempel kan vi se hva gjennomsnittlig salgspris er for alle salgene i datasettet. <br> Merk at oversikten viser kun numeriske features, og ikke kategoriske features som også finnes i datasettet. Kategoriske features kan være navn på nabolag eller type oppkjørsel."
      ]
    },
    {
      "metadata": {
        "id": "AGVrC79uREgA",
        "colab_type": "code",
        "colab": {}
      },
      "cell_type": "code",
      "source": [
        "data.describe()"
      ],
      "execution_count": 0,
      "outputs": []
    },
    {
      "metadata": {
        "id": "OGiAyF7zg1-w",
        "colab_type": "text"
      },
      "cell_type": "markdown",
      "source": [
        "Pandas har mange statistiske funksjoner som kan være nyttig. Hvis du ønsker å finne høyeste salgspris direkte, kan du bruke $.max()$ funksjonen på attributten du ønsker."
      ]
    },
    {
      "metadata": {
        "id": "8ZTJ25gKhEap",
        "colab_type": "code",
        "colab": {}
      },
      "cell_type": "code",
      "source": [
        "data['SalePrice'].max()"
      ],
      "execution_count": 0,
      "outputs": []
    },
    {
      "metadata": {
        "id": "fVu3Lbfwi_Bb",
        "colab_type": "text"
      },
      "cell_type": "markdown",
      "source": [
        "Om du ønsker å hente ut registreringen med høyest salgspris derimot, må man benytte funksjonen $.idmax()$ som returnerer posisjonen til regisreringen med høyest salgspris i dataframen."
      ]
    },
    {
      "metadata": {
        "id": "HMB5SInvjLj-",
        "colab_type": "code",
        "colab": {}
      },
      "cell_type": "code",
      "source": [
        "index_størst_salgspris = [data['SalePrice'].idxmax()]\n",
        "data.iloc[index_størst_salgspris].head()"
      ],
      "execution_count": 0,
      "outputs": []
    },
    {
      "metadata": {
        "id": "FAOwr1HSssQZ",
        "colab_type": "text"
      },
      "cell_type": "markdown",
      "source": [
        "Pandas tillater å hente ut enkeltkolonner, og man kan dermed hente ut attributtene man ønsker og eskludere de man ikke ønsker. Disse utvinnes ved å referere til \"kolonnenavnet.\" For å lage en ny dataframe med utvalgte kolonner, må kolonnene hentes ut med en liste over kolonnenavn: <br>\n",
        "$data[['Kolonnenavn1','kolonnenav2',...]]$<br>\n",
        "I vårt tilfelle velger vi å lagre kolonnen med salgsår i en nytt pandas dataframe kalt $data\\_ÅrSolgt$."
      ]
    },
    {
      "metadata": {
        "id": "vKHvOqcLceTk",
        "colab_type": "code",
        "colab": {}
      },
      "cell_type": "code",
      "source": [
        "## Kolonnen \"YrSold\" lagres i et nytt Pandas-objekt kalt data_ÅrSolgt\n",
        "data_ÅrSolgt = data[['YrSold']]\n",
        "\n",
        "## Skriver ut de 10 første linjene i data_ÅrSolgt\n",
        "data_ÅrSolgt.head()"
      ],
      "execution_count": 0,
      "outputs": []
    },
    {
      "metadata": {
        "id": "KjXJjTq6wXb5",
        "colab_type": "text"
      },
      "cell_type": "markdown",
      "source": [
        "Man kan også filtrere ut spesifikk data, som for eksempel alle boliger solgt i 2008 ved å hente ut data som tilfredsstiller $ data['YrSold'] == 2008 $. Her kan man også hente ut alle boliger solgt etter 2008 ved å sette $ data['YrSold'] > 2008 $."
      ]
    },
    {
      "metadata": {
        "id": "HUI_vBp7AZe9",
        "colab_type": "code",
        "colab": {}
      },
      "cell_type": "code",
      "source": [
        "## Henter ut alle linjer der YrSold er lik 2008\n",
        "data_Solgt2008 = data[data['YrSold'] == 2008]\n",
        "\n",
        "## Skriver ut 10 første linjer av data_Solgt2008\n",
        "data_Solgt2008.head()"
      ],
      "execution_count": 0,
      "outputs": []
    },
    {
      "metadata": {
        "id": "fEC9TTeJ-bxj",
        "colab_type": "text"
      },
      "cell_type": "markdown",
      "source": [
        "Om man vil filtrere ut på en spesifikk attributt, kan man først spesifisere hvilke kolonner man vil ha ut, $data[['Neighborhood', 'PoolArea','PoolQC']] $ og deretter spesifisere filtreringen $[data['PoolArea'] > 0]$. Resultatet er en oversikt med nabolag, størrelse og kvalitet på basseng. Man kan også telle antall forekomster som blir igjen etter filtreringen ved å bruke $.count()$"
      ]
    },
    {
      "metadata": {
        "id": "qCy3Kf-0_Eu0",
        "colab_type": "code",
        "colab": {}
      },
      "cell_type": "code",
      "source": [
        "data[['Neighborhood']][data['PoolArea'] > 0].count()"
      ],
      "execution_count": 0,
      "outputs": []
    },
    {
      "metadata": {
        "id": "FRHIPslk9h8o",
        "colab_type": "code",
        "colab": {}
      },
      "cell_type": "code",
      "source": [
        "data[['Neighborhood', 'PoolArea','PoolQC']][data['PoolArea'] > 0].head(10)"
      ],
      "execution_count": 0,
      "outputs": []
    },
    {
      "metadata": {
        "id": "R8Dg524S_kzR",
        "colab_type": "text"
      },
      "cell_type": "markdown",
      "source": [
        "En annen måte å filtrere på er å sette opp if-tester på kolonnene ved å bruke $ data.kolonnenavn$. Med denne metoden kan det settes opp flere filtreringer, for eksempel å filtrere ut alle boliger med boligareal større enn 15000 kvf i NridgHt nabolaget."
      ]
    },
    {
      "metadata": {
        "id": "NaNVtgfk33jX",
        "colab_type": "code",
        "colab": {}
      },
      "cell_type": "code",
      "source": [
        "data_CollgCr_Pool = data[(data.Neighborhood == 'NridgHt') & (data.LotArea >= 15000)]\n",
        "data_CollgCr_Pool.head()"
      ],
      "execution_count": 0,
      "outputs": []
    },
    {
      "metadata": {
        "id": "R874aW3XwjXZ",
        "colab_type": "text"
      },
      "cell_type": "markdown",
      "source": [
        "Nye subdatasett kan konstrueres ut av det originale datasettet ved å hente ut ønskede kolonner med data. Dette lar deg konstruere helt nye datasett.<br>\n",
        "\n",
        "Dette kan gjøres ved å lage en Pythons liste med **3** verdier av typen String; \"MoSold\", \"YrSold\", og \"SalesPrice\". $ ['MoSold', 'YrSold', 'SalesPrice']$ <br>\n",
        "\n",
        "Deretter kan de ønskede kolonnene hentes ut med denne listen ved å sende listen inn som index i dataframen."
      ]
    },
    {
      "metadata": {
        "id": "InCy1_ERdfkK",
        "colab_type": "code",
        "colab": {}
      },
      "cell_type": "code",
      "source": [
        "##  Henter ut kolonnene vi ønsker fra data. Lagres i data_salgsinfo\n",
        "data_salgsinfo = data[['MoSold','YrSold','SalePrice']]\n",
        "\n",
        "## Skriver ut de 10 første linjene i data_salgsinfo\n",
        "data_salgsinfo.head(10)"
      ],
      "execution_count": 0,
      "outputs": []
    },
    {
      "metadata": {
        "id": "tCDz3w7Cw3Rq",
        "colab_type": "text"
      },
      "cell_type": "markdown",
      "source": [
        "Nye features kan konstrueres ved å lage kombinasjoner av kolonner i datasettet. Siden kolonnen 'HouseAge' ikke finnes i datasettet vil det blir oprettet som en ny kolonne som inneholder data om hvor gammelt huset er. <br>Dette regnes ut ved å trekke årstallet for når huset ble solgt fra husets byggeår. \n"
      ]
    },
    {
      "metadata": {
        "id": "Bg6EUOREyeV9",
        "colab_type": "code",
        "colab": {}
      },
      "cell_type": "code",
      "source": [
        "## Regner ut husets alder og lagrer dette i en ny kolonne kalt HouseAge\n",
        "data_salgsinfo['HouseAge'] = data['YrSold'] - data['YearBuilt']\n",
        "\n",
        "## Skriver ut de 5 første linjene av data_salgsinfo for å se at den nye kolonnen er på plass med logiske verdier.\n",
        "data_salgsinfo.head(5)"
      ],
      "execution_count": 0,
      "outputs": []
    },
    {
      "metadata": {
        "id": "9Y78HHV4xelB",
        "colab_type": "text"
      },
      "cell_type": "markdown",
      "source": [
        "Vi kan nå enkelt finne gjennomsnittlig husalder ved å bruke <br> $ describe()$<br> "
      ]
    },
    {
      "metadata": {
        "id": "t2KWLt1lgl4C",
        "colab_type": "code",
        "colab": {}
      },
      "cell_type": "code",
      "source": [
        "data_salgsinfo.describe()"
      ],
      "execution_count": 0,
      "outputs": []
    },
    {
      "metadata": {
        "id": "Kz76BZO32imh",
        "colab_type": "text"
      },
      "cell_type": "markdown",
      "source": [
        "## Kategoriske attributter\n",
        "\n",
        "Man kan også få en oversikt over hva kategoriske features inneholder, som for eksempel \"Neighborhood\", for å hjelpe deg med å bli kjent med hva dataen inneholder.\n",
        "\n",
        "For å telle antall enititeter av ulike kategorier i \"Neighborhood\" kan man skrive:<br>\n",
        "$data[\"Neighborhood\"].value\\_counts()$<br>\n"
      ]
    },
    {
      "metadata": {
        "id": "DOv_-4lm2tAn",
        "colab_type": "code",
        "colab": {}
      },
      "cell_type": "code",
      "source": [
        "data[\"Neighborhood\"].value_counts()"
      ],
      "execution_count": 0,
      "outputs": []
    },
    {
      "metadata": {
        "id": "tTv5koZP6tu2",
        "colab_type": "text"
      },
      "cell_type": "markdown",
      "source": [
        "$.value\\_counts()$ kan brukes til mye nyttig, som for eksempel å telle antall boliger som har generell kvalitet på 8 eller høyere i hvert nabolag. Dette forteller oss at NridgHt er et nabolag av høy kvalitet, siden 59 av 77 boliger har kvalitet av 8 eller høyere."
      ]
    },
    {
      "metadata": {
        "id": "2Dw8Yw6o5_1q",
        "colab_type": "code",
        "colab": {}
      },
      "cell_type": "code",
      "source": [
        "data[\"Neighborhood\"][data['OverallQual'] >= 8].value_counts()"
      ],
      "execution_count": 0,
      "outputs": []
    },
    {
      "metadata": {
        "id": "N7mvJ0nnz9u-",
        "colab_type": "text"
      },
      "cell_type": "markdown",
      "source": [
        "Den kategoriske attributten 'Neighborhood' viser at boligene er fordelt over mange nabolag. Dette er en god attributt siden det varierer veldig hvilken nabolag en bolig er plassert i. \n",
        "<br>\n",
        "Om vi ser på attributten 'Utilities' derimot, så ser vi at det er kun en eneste registrering på kategorien **NoSeWa**, resten er på den andre kategorien **Allpub**. Dette vil være en feature som ikke tilfører noe informasjon siden den så og si ikke varierer. Denne attributten vil bare oppta plass og øke kompleksiteten på datasettet, uten å bidra med nyttig informasjon om salget."
      ]
    },
    {
      "metadata": {
        "id": "PDL0E6xk3VFQ",
        "colab_type": "code",
        "colab": {}
      },
      "cell_type": "code",
      "source": [
        "data['Utilities'].value_counts()"
      ],
      "execution_count": 0,
      "outputs": []
    },
    {
      "metadata": {
        "id": "3YHU6G8b8VFo",
        "colab_type": "text"
      },
      "cell_type": "markdown",
      "source": [
        "Det er viktig å tilstrebe et datasett som inneholder så mye informasjon som mulig med lavest mulig kompleksitet. Disse undersøkelsene er viktig for å eliminere attributter, slik som 'Utilities', som ikke vil hjelpe maskinlæringsmodellene våre."
      ]
    },
    {
      "metadata": {
        "id": "WLFDGH2PfijY",
        "colab_type": "text"
      },
      "cell_type": "markdown",
      "source": [
        "## Manglende verdier\n",
        "\n",
        "Som vi kan se i denne informasjonen så er det ikke like mange verdier i de ulike attributtene, det vi kaller features. Det er ikke uvanlig at det mangler verdier i datasettet. Vi kan sjekke hvilke features som mangler en eller flere verdier med funksjonene <br> $.isnull().any()$ <br>\n",
        "Alle features som har True etter seg, inneholder minst en manglende verdi. Ofte er dette skrevet som NA, not available."
      ]
    },
    {
      "metadata": {
        "id": "nBnrfyyqfepB",
        "colab_type": "code",
        "colab": {}
      },
      "cell_type": "code",
      "source": [
        "data.isnull().any()"
      ],
      "execution_count": 0,
      "outputs": []
    },
    {
      "metadata": {
        "id": "mkjlOaUyk_gF",
        "colab_type": "text"
      },
      "cell_type": "markdown",
      "source": [
        "Ofte er registreringer ufullstendige og mangler data i spesifikke kolonner. En vanlig måte å håndtere manglende verdier på er å fjerne hele raden.\n",
        "\n",
        "$data.info()$ fortalte oss for eksempel at kvalitet på badebasseng <i> (\"PoolQC\")</i> finnes det kun <b>7</b> registreringer. Ved å fjerne alle linjer som ikke innholder verdi for denne kolonnen ville man følgelig stått igjen med <b>7</b> registreringer totalt i hele datasettet. Men, om vi studerer bassengattributtene, $['PoolArea','PoolQC']$, vil vi se at det mangler kun verdier på bassengkvalitet når bassengareal er 0. Altså mangler det verdi på 'PoolQC' når det ikke er no basseng. \n",
        "\n"
      ]
    },
    {
      "metadata": {
        "id": "WRuKq2KIB9eq",
        "colab_type": "code",
        "colab": {}
      },
      "cell_type": "code",
      "source": [
        "data[['PoolArea','PoolQC']].head()"
      ],
      "execution_count": 0,
      "outputs": []
    },
    {
      "metadata": {
        "id": "P2azSREh1-3F",
        "colab_type": "code",
        "colab": {}
      },
      "cell_type": "code",
      "source": [
        "data[['PoolArea','PoolQC']][data['PoolArea'] > 0].head()"
      ],
      "execution_count": 0,
      "outputs": []
    },
    {
      "metadata": {
        "id": "h6O3Z-K7B13t",
        "colab_type": "text"
      },
      "cell_type": "markdown",
      "source": [
        "Vi kan dermed fylle inn disse manglende verdiene med for eksempel 'None'. Dette gjøres ved å bruke pandas funksjonen <br> $.fillna('erstatningsverdi') $"
      ]
    },
    {
      "metadata": {
        "id": "1KP6hxET2C4W",
        "colab_type": "code",
        "colab": {}
      },
      "cell_type": "code",
      "source": [
        "data['PoolQC'] = data['PoolQC'].fillna(value='None')\n",
        "data[['PoolArea','PoolQC']].head()"
      ],
      "execution_count": 0,
      "outputs": []
    },
    {
      "metadata": {
        "id": "SWZbfgfFFhpy",
        "colab_type": "text"
      },
      "cell_type": "markdown",
      "source": [
        "Vi kan også se på $data.info()$ at det mangler en registrering på 'Electrical' attributten. Med $ value\\_counts()$ kan vi se fordeling av registreringer på de ulike elektriske systemene som finnes."
      ]
    },
    {
      "metadata": {
        "id": "Rbqh0MdRE9Xh",
        "colab_type": "code",
        "colab": {}
      },
      "cell_type": "code",
      "source": [
        "data['Electrical'].value_counts()"
      ],
      "execution_count": 0,
      "outputs": []
    },
    {
      "metadata": {
        "id": "bzGE2WtFGrSm",
        "colab_type": "text"
      },
      "cell_type": "markdown",
      "source": [
        "Pandas lar deg hente ut registreringene som inneholder NaN med $ .isnull()$. Her henter vi ut alle registreringer som mangler verdi, NaN, på 'Electrical' attributten."
      ]
    },
    {
      "metadata": {
        "id": "9XMRmwgjDMaO",
        "colab_type": "code",
        "colab": {}
      },
      "cell_type": "code",
      "source": [
        "data[data['Electrical'].isnull()].head()"
      ],
      "execution_count": 0,
      "outputs": []
    },
    {
      "metadata": {
        "id": "CF8OHMzvBPkV",
        "colab_type": "text"
      },
      "cell_type": "markdown",
      "source": [
        "Det er ikke mulig å indikere hva 'Electrical' skal være i dette tilfellet. Siden vi ikke kan gjette hva den manglende verdien skal være, må hele raden, altså registreringen, fjernes fra datasettet om denne attributten skal brukes i maskinlæringsmodellene våre.\n",
        "\n",
        "\n",
        "For å droppe rader men en eller flere manglende verdier kan man gjøre følgende:\n",
        "\n",
        "<br> $ data = data.dropna(subsett=valgfri) $<br>\n",
        "\n",
        "Man kan velge et subsett av attributter å evaluere når man fjerner rader med NaN. I vårt tilfelle vil vi kun fjerne rader som har NaN i 'Electrical' attributten. "
      ]
    },
    {
      "metadata": {
        "id": "fUSR6KyN05u2",
        "colab_type": "code",
        "colab": {}
      },
      "cell_type": "code",
      "source": [
        "data = data.dropna(subset=['Electrical'])\n",
        "data.info()"
      ],
      "execution_count": 0,
      "outputs": []
    },
    {
      "metadata": {
        "id": "sGncRcKrIdjd",
        "colab_type": "code",
        "colab": {}
      },
      "cell_type": "code",
      "source": [
        "print('\\n Dataen inneholder nå {} registreringer'.format(len(data)))"
      ],
      "execution_count": 0,
      "outputs": []
    },
    {
      "metadata": {
        "id": "WSE60XmkkPiF",
        "colab_type": "text"
      },
      "cell_type": "markdown",
      "source": [
        "#Visualisering av data\n",
        "\n",
        "Visualisering er en viktig del av den initielle utforskingen av dataen. Det viser ofte informasjon som er vanskelig å få ved å kun se på dataen i rå form.\n",
        "\n",
        "Bibliotekene vi bruker her er Matplotlib og Seaborn (plt og sns)"
      ]
    },
    {
      "metadata": {
        "id": "jCg2e_DKx5F5",
        "colab_type": "text"
      },
      "cell_type": "markdown",
      "source": [
        "## Fordeling av data"
      ]
    },
    {
      "metadata": {
        "id": "EPX2xi5atvdi",
        "colab_type": "text"
      },
      "cell_type": "markdown",
      "source": [
        "Måten man lager en figure på er som følger:\n",
        "\n",
        "<br>$plt.figure(figsize=(n,m)) $ <br>\n",
        "Dette lager et figur objekt. Deretter velger man hvilke data man vil plott og hvordan, f.eks histogram, linjeplot osv. Her er det mange plotfunksjoner fra seaborn som er nyttige.\n",
        "\n",
        "<br> $sns.distplot() $ <br>\n",
        "\n",
        "Seaborn dokumentasjonen på distplot forklarer hvilke argumenter man kan putte inn i parantesen. For eksempel hvilken data man vil bruke. https://seaborn.pydata.org/generated/seaborn.distplot.html\n",
        "\n",
        "Deretter kan man velge hva som skal skrives langs x- og y-aksen, og om man vil ha tittel. Se mer på https://matplotlib.org/api/_as_gen/matplotlib.pyplot.figure.html#matplotlib.pyplot.figure"
      ]
    },
    {
      "metadata": {
        "id": "oy8HdNmF3tLk",
        "colab_type": "text"
      },
      "cell_type": "markdown",
      "source": [
        "Et histogram viser fordelinen av data i \"bøtter\", altså intervaller med data. Dette er velegnet for å studere fordeling av talldata. For eksempel kan vi visualisere fordelingen av salgsprisen fordelt over et valgfritt antall bøtter."
      ]
    },
    {
      "metadata": {
        "id": "gas9nZTQ11du",
        "colab_type": "code",
        "colab": {}
      },
      "cell_type": "code",
      "source": [
        "#Lab figur-objekt og bestem størrelsen\n",
        "plt.figure(figsize=(15,7))\n",
        "\n",
        "#Velg type plot med sns (seaborn) biblioteket.\n",
        "sns.distplot(data['SalePrice'],bins=50, kde=False);\n",
        "\n",
        "#X- og y-aksen kan navngis\n",
        "plt.ylabel('Antall')\n",
        "plt.xlabel('Salgspris')\n",
        "\n",
        "#Sett tittel på figur\n",
        "plt.title('Fordeling av slagspris')"
      ],
      "execution_count": 0,
      "outputs": []
    },
    {
      "metadata": {
        "id": "9l8WxeqOpnQJ",
        "colab_type": "text"
      },
      "cell_type": "markdown",
      "source": [
        "Fordelingen kan også visualiseres med en tilpasset funksjon (kde) ved å sette kde til true og hist til false."
      ]
    },
    {
      "metadata": {
        "id": "ykKneESqqM75",
        "colab_type": "code",
        "colab": {}
      },
      "cell_type": "code",
      "source": [
        "plt.figure(figsize=(15,7))\n",
        "\n",
        "## Endrer kde til True\n",
        "sns.distplot(data['SalePrice'],hist=False, kde=True);\n",
        "\n",
        "plt.title('Fordeling av slagspris')"
      ],
      "execution_count": 0,
      "outputs": []
    },
    {
      "metadata": {
        "id": "U61e6pHWCxRo",
        "colab_type": "text"
      },
      "cell_type": "markdown",
      "source": [
        "Kategorisk data kan vi visualisere ved å bruke countplots. For eksempel kan vi få en oversikt over hvor mange salg som ble gjort i de ulike årene."
      ]
    },
    {
      "metadata": {
        "id": "WhF8OvUWeEZU",
        "colab_type": "code",
        "colab": {}
      },
      "cell_type": "code",
      "source": [
        "plt.figure(figsize=(15, 6))\n",
        "sns.countplot(x='YrSold', data=data)\n",
        "plt.title('Salg per år')"
      ],
      "execution_count": 0,
      "outputs": []
    },
    {
      "metadata": {
        "id": "jkwbW1IpocGq",
        "colab_type": "text"
      },
      "cell_type": "markdown",
      "source": [
        "Man kan også gruppere inn countplots etter kategori, for eksempel kan vi fordele salg per år inn i måneder også."
      ]
    },
    {
      "metadata": {
        "id": "rv5fBpoHoi9D",
        "colab_type": "code",
        "colab": {}
      },
      "cell_type": "code",
      "source": [
        "plt.figure(figsize=(16, 7))\n",
        "sns.countplot(x='YrSold', hue='MoSold', data=data)\n",
        "plt.title('Salg per år fordelt over måneder')"
      ],
      "execution_count": 0,
      "outputs": []
    },
    {
      "metadata": {
        "id": "okeKSigWvS6D",
        "colab_type": "text"
      },
      "cell_type": "markdown",
      "source": [
        "Plottet kan legges sidelengs ved å plotte dataen i y-retning istedenfor. Dette kan gjøre det enklere å tyde plottet."
      ]
    },
    {
      "metadata": {
        "id": "5639xddQyDzg",
        "colab_type": "code",
        "colab": {}
      },
      "cell_type": "code",
      "source": [
        "plt.figure(figsize=(15, 8))\n",
        "sns.countplot(y='Neighborhood', data=data)\n",
        "plt.title('Oversik over nabolag')"
      ],
      "execution_count": 0,
      "outputs": []
    },
    {
      "metadata": {
        "id": "WEP0p5RBBojS",
        "colab_type": "text"
      },
      "cell_type": "markdown",
      "source": [
        "Et scatter plot vil vise punktvis distribusjon over dataen. Her kan vi benytte plt sin scatter funksjon.\n",
        "\n",
        "<br> $plt.scatter(x, y) $ <br>\n",
        "\n",
        "https://matplotlib.org/api/_as_gen/matplotlib.pyplot.scatter.html\n",
        "\n",
        "Her kan vi for eksempel se at nyere bygg typisk går for en høyere pris. Ikke så overraskende"
      ]
    },
    {
      "metadata": {
        "id": "vvXQvmamBzl7",
        "colab_type": "code",
        "colab": {}
      },
      "cell_type": "code",
      "source": [
        "plt.figure(figsize=(18, 12))\n",
        "plt.scatter(data['YearBuilt'], data['SalePrice'], color='black', label='Registreringer')\n",
        "plt.ylabel('Salgspris')\n",
        "plt.xlabel('Byggår')\n",
        "plt.title('Byggår mot salgspris')\n",
        "plt.legend(loc='upper left')\n",
        "plt.show()"
      ],
      "execution_count": 0,
      "outputs": []
    },
    {
      "metadata": {
        "id": "qXrAhyDVW5kn",
        "colab_type": "text"
      },
      "cell_type": "markdown",
      "source": [
        "Vi kan også plotte samme punkter for ulike nabolag, og fargekode dem forskjellig. Et nabolag filtreres ut slik:\n",
        "\n",
        "<br> $data\\_OldTown = data[data['Neighborhood'] == 'OldTown'] $<br>\n",
        "\n",
        "Deretter hentes byggår og salgspris ut som før\n",
        "\n",
        "<br> $ data\\_OldTown['YearBuilt\"] $<br>"
      ]
    },
    {
      "metadata": {
        "id": "TTq30qBqWCAq",
        "colab_type": "code",
        "colab": {}
      },
      "cell_type": "code",
      "source": [
        "data_OldTown = data[data['Neighborhood'] == 'OldTown']\n",
        "\n",
        "plt.figure(figsize=(18, 12))\n",
        "plt.scatter(data_OldTown['YearBuilt'], data_OldTown['SalePrice'], color='red', label='OldTown')\n",
        "plt.scatter(data[data['Neighborhood'] == 'Edwards']['YearBuilt'], data[data['Neighborhood'] == 'Edwards']['SalePrice'], color='blue', label='Edwards')\n",
        "plt.scatter(data[data['Neighborhood'] == 'BrkSide']['YearBuilt'], data[data['Neighborhood'] == 'BrkSide']['SalePrice'], color='green', label='BrkSide')\n",
        "plt.ylabel('Salgspris')\n",
        "plt.xlabel('Byggår')\n",
        "plt.title('Byggår mot salgspris')\n",
        "plt.legend(loc='upper left')\n",
        "plt.show()\n",
        "\n"
      ],
      "execution_count": 0,
      "outputs": []
    },
    {
      "metadata": {
        "id": "lKrA30orwXou",
        "colab_type": "text"
      },
      "cell_type": "markdown",
      "source": [
        "##Korrelasjon\n",
        "\n",
        "For å få innsikt i hvilken effekt featurene har på hverandre er det nyttig å se på korrelasjonen mellom dem. Et korrelasjonsplot mellom variabler viser hvor my to variabler endrer seg i takt med hverandre. Om en variabel korrelerer positivt med en annen variable, vil begge typisk stige på samme tidspunkt. Om to variabler korrelerer negativt, vil den ene variabelen synke når den andre stiger.\n",
        "\n",
        "\n",
        "På korrelasjonsplottet under ser vi at det er perfekt korrelasjon langs diagonalen, noe som er naturlig siden alle variabler korrelerer perfekt med seg selv. Vi kan for eksempel se at OverallQual, som er generell kvalitet, korrelerer positivt med YearBuilt. Dette er logisk siden kvaliteten på nyere hus er typisk bedre enn på eldre hus.\n",
        "\n",
        "\n",
        "Det mest interessante å studere her er korrelasjonen mellom salgspris og de andre featurene. Merk at OverallQual korrelerer sterkt positivt med SalePrice, heller ikke så overraskende."
      ]
    },
    {
      "metadata": {
        "id": "JOt7rj23gPU5",
        "colab_type": "code",
        "colab": {}
      },
      "cell_type": "code",
      "source": [
        "plt.figure(figsize=(15,15))\n",
        "sns.heatmap(data.corr(),annot = False, cbar = True)\n",
        "plt.xticks(rotation=90)\n",
        "plt.yticks(rotation = 0)"
      ],
      "execution_count": 0,
      "outputs": []
    },
    {
      "metadata": {
        "id": "-LtjWLM-dn8A",
        "colab_type": "text"
      },
      "cell_type": "markdown",
      "source": [
        "## Uteliggere og ekstrempunkter\n",
        "\n",
        "Et kjent problem med data når man skal bygge maskinlæringsmodeller ekstreme punkter. På plottet under kan du se eksempler på noen boliger som har ekstremt store tomter (kvf). For eksempel kan vi se en bolig på over 200000 kvf som er solgt for under 400000 dollar. Dette er en veldig unormalt lav pris for så mange kvf. Enten kan registreringen være feilaktig, det er kanskje en 0'er for mye, eller så er dette en gård som ligger langt unna. Selv om disse punktene kan være reelle, så er de så sjeldne og så ødeleggende at de er bedre å utelate."
      ]
    },
    {
      "metadata": {
        "id": "8L0hJEPFpMnN",
        "colab_type": "code",
        "colab": {}
      },
      "cell_type": "code",
      "source": [
        "plt.figure(figsize=(15, 10))\n",
        "plt.scatter(data['LotArea'], data['SalePrice'], color='black', label='Registreringer')\n",
        "plt.ylabel('Salgspris')\n",
        "plt.xlabel('LotArea')\n",
        "plt.title('Kvadratfot mot salgspris')\n",
        "plt.legend(loc='upper left')\n",
        "plt.show()"
      ],
      "execution_count": 0,
      "outputs": []
    },
    {
      "metadata": {
        "id": "AcvmAXAlyDGK",
        "colab_type": "code",
        "colab": {}
      },
      "cell_type": "code",
      "source": [
        "#Alle registreringer med kvadratfot mindre enn 100000 eskluderes\n",
        "data_kvf_uteneks = data[data['LotArea'] < 100000]"
      ],
      "execution_count": 0,
      "outputs": []
    },
    {
      "metadata": {
        "id": "-SCOSkTb2v2c",
        "colab_type": "text"
      },
      "cell_type": "markdown",
      "source": [
        "Etter at vi fjernet ekstrempunktene ser forholdet mellom kvadratfot og salgspris mindre forskjøvet ut. Dette vil lede til en mer stabil og generell modell."
      ]
    },
    {
      "metadata": {
        "id": "MAV_9wbSyO4a",
        "colab_type": "code",
        "colab": {}
      },
      "cell_type": "code",
      "source": [
        "plt.figure(figsize=(15, 10))\n",
        "plt.scatter(data_kvf_uteneks['LotArea'], data_kvf_uteneks['SalePrice'], color='grey', label='Registreringer')\n",
        "plt.ylabel('Salgspris')\n",
        "plt.xlabel('LotArea')\n",
        "plt.title('Kvadratfot mot salgspris - uteliggere fjernet')\n",
        "plt.legend(loc='upper left')\n",
        "plt.show()"
      ],
      "execution_count": 0,
      "outputs": []
    },
    {
      "metadata": {
        "id": "vexCu6QOFcur",
        "colab_type": "text"
      },
      "cell_type": "markdown",
      "source": [
        "# Oppgave 1: Pandas og Matplotlib\n",
        "\n"
      ]
    },
    {
      "metadata": {
        "id": "8EnpnCtclZWD",
        "colab_type": "text"
      },
      "cell_type": "markdown",
      "source": [
        "## Bli bedre kjent med Pandas og Matplotlib\n",
        "\n",
        "Disse oppgavene er ment for å bli bedre kjent med basis bibliotekene for preprosessering av data, og kan skippes hvis man er trygg på stoffet så langt.\n",
        "\n",
        "#### Pandas\n",
        "Finn og print følgende informasjon (tips: bruk describe()): \n",
        "\n",
        " - Første og siste salg (måned og år)\n",
        " \n",
        " - Største svømmebasseng\n",
        "\n",
        "#### Matplotlib\n",
        "Visualiser rådata (tips: bruk info() til å studere attributter):\n",
        "\n",
        " - Kvadratfot på boligene (både med og uten ekstrempunkter)\n",
        "\n",
        " - Årstall boligene ble bygget\n",
        "\n",
        " - Hvor mange salg det er i hver måned totalt\n",
        " \n",
        " \n",
        "#### Ekstra utfordringer\n",
        "  \n",
        " - Finn gjennomsnittlig antall bad i nabolaget: OldTown\n",
        " \n",
        " - Visualiser de ulike salgs-forholdene i nabolagene\n",
        " \n",
        " - Finn og visulaiser den generelle kvaliteten (0 til 10) fordelt inn i generell tilstand. I hvor god tilstand er husene av ulik kvalitet? \n",
        "\n",
        " - Plot forholdet mellom generell tilstand på huset og salgspris. Gjør dette gjerne med andre attributter, og vurder om du finner noen ekstrempunkter. "
      ]
    },
    {
      "metadata": {
        "id": "hTTEkDxjLxBa",
        "colab_type": "code",
        "colab": {}
      },
      "cell_type": "code",
      "source": [
        "\"Skriv kode her\""
      ],
      "execution_count": 0,
      "outputs": []
    },
    {
      "metadata": {
        "id": "lFGCQDkIK-x9",
        "colab_type": "text"
      },
      "cell_type": "markdown",
      "source": [
        "## Konstruer nytt datasett\n",
        "\n",
        "I denne oppgaven skal vi konstruere et nytt datasett tilpasset maskinlæring. \n",
        "- Velg ut features dere tenker er nyttige. \n",
        "- Bruk metodene vi har lært til å forstå attributtene i datasettet. \n",
        "- Kall det nye datasettet: $data\\_modell$\n",
        "\n",
        "Studer inneholdet i de kategoriske attributtene og hvordan den nummeriske dataen er fordelt. Vurder å fjerne ekstrempunkter og rader som skiller seg signifikant fra resten av settet. Det kan være til hjelp å lage et korrelasjonsplot til det nye datasettet.\n",
        "\n",
        "<i>Får du dårlig tid kan modellen i løsningsforslaget under seksjonen \"Konstruer nytt datasett\" brukes. Husk å kjøre koden i løsningsforslaget for å generere datasettet. <i>"
      ]
    },
    {
      "metadata": {
        "id": "_BewT2fwLyog",
        "colab_type": "code",
        "colab": {}
      },
      "cell_type": "code",
      "source": [
        "#Skriv kode her"
      ],
      "execution_count": 0,
      "outputs": []
    },
    {
      "metadata": {
        "id": "BtiocuO47OKe",
        "colab_type": "text"
      },
      "cell_type": "markdown",
      "source": [
        "# Løsningsforslag"
      ]
    },
    {
      "metadata": {
        "id": "U8Ol2pPSFk9D",
        "colab_type": "text"
      },
      "cell_type": "markdown",
      "source": [
        "## Bli bedre kjent med Pandas og Matplotlib\n",
        "\n",
        "**Pandas**"
      ]
    },
    {
      "metadata": {
        "id": "1OMp4KDyaT9D",
        "colab_type": "code",
        "colab": {}
      },
      "cell_type": "code",
      "source": [
        "beskrivelse_oppgave = data.describe()[['YrSold','MoSold','PoolArea']]\n",
        "beskrivelse_oppgave"
      ],
      "execution_count": 0,
      "outputs": []
    },
    {
      "metadata": {
        "id": "jvT6C5xvanmF",
        "colab_type": "code",
        "colab": {}
      },
      "cell_type": "code",
      "source": [
        "print('Første salg: {:.0f}/{:.0f} (mm/åååå)'.format(beskrivelse_oppgave.iloc[3,1],beskrivelse_oppgave.iloc[3,0]))\n",
        "print('Siste salg: {:.0f}/{:.0f} (mm/åååå)'.format(beskrivelse_oppgave.iloc[7,1],beskrivelse_oppgave.iloc[7,0]))\n",
        "print('Største svømmebasseng: {:.2f} kvf'.format(beskrivelse_oppgave.iloc[7,2]))"
      ],
      "execution_count": 0,
      "outputs": []
    },
    {
      "metadata": {
        "id": "Q5B9Of2QzBLr",
        "colab_type": "code",
        "colab": {}
      },
      "cell_type": "code",
      "source": [
        "data_nabolag = data[data['Neighborhood'] == 'OldTown']\n",
        "beskrivelse_OldTown = data_nabolag.describe()[['FullBath','HalfBath']]\n",
        "beskrivelse_OldTown"
      ],
      "execution_count": 0,
      "outputs": []
    },
    {
      "metadata": {
        "id": "Ij1VVi-ibpFe",
        "colab_type": "code",
        "colab": {}
      },
      "cell_type": "code",
      "source": [
        "print('Gjennomsnittlig helbad: {:.2f} og halvbad: {:.2f} i OldTown'.format(beskrivelse_OldTown.iloc[1,0],beskrivelse_OldTown.iloc[1,1]))"
      ],
      "execution_count": 0,
      "outputs": []
    },
    {
      "metadata": {
        "id": "VfqnOlESMgQr",
        "colab_type": "text"
      },
      "cell_type": "markdown",
      "source": [
        "**Matplotlib**"
      ]
    },
    {
      "metadata": {
        "id": "oJdFPu9nlprk",
        "colab_type": "code",
        "colab": {}
      },
      "cell_type": "code",
      "source": [
        "plt.figure(figsize=(15,7))\n",
        "sns.distplot(data['LotArea'],bins=100, kde=False);\n",
        "plt.ylabel('Antall')\n",
        "plt.title('Fordeling av kvadratfot på boliger - med ekstremverdier')"
      ],
      "execution_count": 0,
      "outputs": []
    },
    {
      "metadata": {
        "id": "U6Gu-0qL050N",
        "colab_type": "code",
        "colab": {}
      },
      "cell_type": "code",
      "source": [
        "plt.figure(figsize=(15,7))\n",
        "sns.distplot(data_kvf_uteneks['LotArea'],bins=100, kde=False);\n",
        "plt.ylabel('Antall')\n",
        "plt.title('Fordeling av kvadratfot på boliger - uten ekstremverdier')"
      ],
      "execution_count": 0,
      "outputs": []
    },
    {
      "metadata": {
        "id": "LQsW36xKncFw",
        "colab_type": "code",
        "colab": {}
      },
      "cell_type": "code",
      "source": [
        "plt.figure(figsize=(15, 20))\n",
        "sns.countplot(y='YearBuilt', data=data)\n",
        "plt.title('Fordeling av år boligene ble bygget')"
      ],
      "execution_count": 0,
      "outputs": []
    },
    {
      "metadata": {
        "id": "ir0CSZ8u6FuS",
        "colab_type": "code",
        "colab": {}
      },
      "cell_type": "code",
      "source": [
        "plt.figure(figsize=(15,7))\n",
        "sns.countplot(data['MoSold'])\n",
        "plt.title('Salg per måned totalt')"
      ],
      "execution_count": 0,
      "outputs": []
    },
    {
      "metadata": {
        "id": "RXAKcvQdl9T1",
        "colab_type": "code",
        "colab": {}
      },
      "cell_type": "code",
      "source": [
        "plt.figure(figsize=(20,8))\n",
        "sns.countplot(x = 'Neighborhood', hue = 'SaleCondition', data=data)\n",
        "plt.legend(loc='upper left')\n",
        "plt.xticks(rotation=90)\n",
        "plt.title('Fordeling av salgs-forhold i nabolagene')"
      ],
      "execution_count": 0,
      "outputs": []
    },
    {
      "metadata": {
        "id": "8neCczGR4WE9",
        "colab_type": "code",
        "colab": {}
      },
      "cell_type": "code",
      "source": [
        "plt.figure(figsize=(20,8))\n",
        "sns.countplot(x = 'OverallQual', hue = 'OverallCond', data=data)\n",
        "plt.legend(loc='upper left')\n",
        "plt.xticks(rotation=90)\n",
        "plt.title('Fordeling av salgs-forhold i nabolagene')"
      ],
      "execution_count": 0,
      "outputs": []
    },
    {
      "metadata": {
        "id": "R6-vAxRu3IjL",
        "colab_type": "code",
        "colab": {}
      },
      "cell_type": "code",
      "source": [
        "plt.figure(figsize=(15, 10))\n",
        "plt.scatter(data['OverallQual'], data['SalePrice'], color='blue', label='Registreringer')\n",
        "plt.xlabel('OverallQual')\n",
        "plt.ylabel('SalePrice')\n",
        "plt.title('Kvadratfot mot salgspris')\n",
        "plt.show()"
      ],
      "execution_count": 0,
      "outputs": []
    },
    {
      "metadata": {
        "id": "Ua5NIcQijdao",
        "colab_type": "text"
      },
      "cell_type": "markdown",
      "source": [
        "## Konstruer nytt datasett"
      ]
    },
    {
      "metadata": {
        "id": "zwI1OfUM-7YM",
        "colab_type": "code",
        "colab": {}
      },
      "cell_type": "code",
      "source": [
        "# Velger kolonnene man ønsker i det nye datasettet\n",
        "aktuelle_kolonner = ['LotArea','Neighborhood','WoodDeckSF','Condition1','HouseStyle','OverallQual','OverallCond','YearBuilt','YearRemodAdd','1stFlrSF','FullBath','HalfBath','BedroomAbvGr','Fence','KitchenAbvGr','TotRmsAbvGrd','GarageCars','Fireplaces','PoolArea','PoolQC','MoSold','YrSold']\n",
        "data_modell = data[aktuelle_kolonner]\n",
        "\n",
        "# Eksempel på generering av ny kolonne\n",
        "data_modell['HouseAge'] = data['YrSold'] - data['YearBuilt']\n",
        "\n",
        "#Fence NaN endret til None\n",
        "data_modell['Fence'] = data_modell['Fence'].fillna('None')\n",
        "\n",
        "#Salgspris legges til på slutten\n",
        "data_modell['SalePrice'] = data['SalePrice']\n",
        "\n",
        "#Ekstrempunkter mht kvadratfot fjernet\n",
        "data_modell = data_modell[data['LotArea'] < 100000]\n",
        "\n",
        "#Skriver ut de 5 første radene\n",
        "data_modell.head()"
      ],
      "execution_count": 0,
      "outputs": []
    },
    {
      "metadata": {
        "id": "RED51JzX5XJx",
        "colab_type": "code",
        "colab": {}
      },
      "cell_type": "code",
      "source": [
        "data_modell.describe()"
      ],
      "execution_count": 0,
      "outputs": []
    },
    {
      "metadata": {
        "id": "fTJTBdf1WlNW",
        "colab_type": "code",
        "colab": {}
      },
      "cell_type": "code",
      "source": [
        "data_modell.info()"
      ],
      "execution_count": 0,
      "outputs": []
    },
    {
      "metadata": {
        "id": "Qs_w5rR7wLO-",
        "colab_type": "code",
        "colab": {}
      },
      "cell_type": "code",
      "source": [
        "plt.figure(figsize=(15,15))\n",
        "sns.heatmap(data_modell.corr(),annot = True,fmt = \".2f\",cbar = True)\n",
        "plt.xticks(rotation=90)\n",
        "plt.yticks(rotation = 0)"
      ],
      "execution_count": 0,
      "outputs": []
    },
    {
      "metadata": {
        "id": "GM6bxAeBE956",
        "colab_type": "text"
      },
      "cell_type": "markdown",
      "source": [
        "#Maskinlæring med Scikit-Learn (Sklearn)"
      ]
    },
    {
      "metadata": {
        "id": "ybl8lXqqSFd6",
        "colab_type": "text"
      },
      "cell_type": "markdown",
      "source": [
        "## Dataforbredelser til maskinlæringsmodellene"
      ]
    },
    {
      "metadata": {
        "id": "e1bESHsxltJb",
        "colab_type": "text"
      },
      "cell_type": "markdown",
      "source": [
        "### Input og output data\n",
        "\n",
        "Nå ønsker vi å lage maskinlæringsmodeller som bruker datasettet vi har laget til å predikere salgsprisen på boliger. Den estimerte salgsprisen er basert på attributtene vi inkluderte i dette datasettet. Input til modellen vil da være disse utvalgte attributtene, og outputen vil være salgspris. Inputen og outputen deler vi opp i to ulike Pandas objekter. \n",
        "<br>\n",
        "\n",
        "Data kan aksesseres i pandas objekter ved å bruke index istedenfør kolonnenavn. Til input objektet, *input_data*, vil vi hente ut alle kolonner bortsett fra den siste, som er salgspris. Til output objecktet, *output_data*, vil vi hente ut kun siste kolonne, salgsprisen.\n",
        "<br>\n",
        "\n",
        "I python betyr index ':' alle, så row = : betyr alle raderne. Index '0:-1' betyre fra og med 0 til (og ikke med) element (-1), som i python betyr nest siste. Om du indexerer negativt i python, starter du i enden av listen."
      ]
    },
    {
      "metadata": {
        "id": "mry8x7W-xr2e",
        "colab_type": "code",
        "colab": {}
      },
      "cell_type": "code",
      "source": [
        "#Velg alle kolonner untatt den siste. Denne inneholder Salgsprisen som vi ønsker å predikere\n",
        "input_data = data_modell.iloc[:,0:-1].copy(deep=True)\n",
        "\n",
        "#Velg kun siste kolonne. Dette er salgsprisen\n",
        "output_data = data_modell['SalePrice'].copy(deep=True)\n",
        "\n",
        "print('Antall registreringer i dataen: {}, antall attributter i input: {}'.format(input_data.shape[0],input_data.shape[1]))"
      ],
      "execution_count": 0,
      "outputs": []
    },
    {
      "metadata": {
        "id": "_dMtjG5ZPRnu",
        "colab_type": "code",
        "colab": {}
      },
      "cell_type": "code",
      "source": [
        "input_data.head(5)"
      ],
      "execution_count": 0,
      "outputs": []
    },
    {
      "metadata": {
        "id": "dHV7zi0WEUbO",
        "colab_type": "code",
        "colab": {}
      },
      "cell_type": "code",
      "source": [
        "output_data.head(5)"
      ],
      "execution_count": 0,
      "outputs": []
    },
    {
      "metadata": {
        "id": "eoQMiqIMy5oK",
        "colab_type": "text"
      },
      "cell_type": "markdown",
      "source": [
        "### kategoriske attributter\n",
        "\n",
        "Maskinlæringsmodeller aksepterer kun tallverdier. Derfor er det ikke mulig å servere den kategoriske verdier som \"Neighborhood\", som er en string eller tekst verdi. Vi må derfor konvertere all kategorisk input til tallverdier. Et enkelt eksempel er å se på \"Street\" featuren, som kun har to kategorier."
      ]
    },
    {
      "metadata": {
        "id": "pIHARmIR0Uqc",
        "colab_type": "code",
        "colab": {}
      },
      "cell_type": "code",
      "source": [
        "data[\"Street\"].value_counts()"
      ],
      "execution_count": 0,
      "outputs": []
    },
    {
      "metadata": {
        "id": "KmzoFkjf16-y",
        "colab_type": "text"
      },
      "cell_type": "markdown",
      "source": [
        "Denne attributten forteller at oppkjørselen til et hus er enten av asfalt eller grus. Disse kategoriene kan oversettes til [0 , 1] istedenfor ['Pvae' , 'Grvl'] slik at de blir lesbare for modellene våre. Dette må gjøres med alle kategoriske verdier i datasettet vi skal bruke. Scikit-learn har funksjoner som gjør dette enkelt. Les mer om <a href=\"http://scikit-learn.org/stable/modules/generated/sklearn.preprocessing.LabelEncoder.html\" >LabelEncoder </a> i Scikit-learn biblioteket. \n"
      ]
    },
    {
      "metadata": {
        "id": "UHXq3aab0aCp",
        "colab_type": "code",
        "colab": {}
      },
      "cell_type": "code",
      "source": [
        "from sklearn import preprocessing\n",
        "\n",
        "## Oppretter encodere for de ulike kategoriene vi ønsker å transformere fra tekst til tall.\n",
        "Neighborhood_enc = preprocessing.LabelEncoder()\n",
        "Condition1_enc = preprocessing.LabelEncoder()\n",
        "HouseStyle_enc = preprocessing.LabelEncoder()\n",
        "Fence_enc = preprocessing.LabelEncoder()\n",
        "PoolQualityCondition_enc = preprocessing.LabelEncoder()\n",
        "\n",
        "## Konverterer kolonnene som inneholder tekstverdier til tallverdier\n",
        "input_data['Neighborhood'] = Neighborhood_enc.fit_transform(input_data['Neighborhood'])\n",
        "input_data['Condition1'] = Condition1_enc.fit_transform(input_data['Condition1'])\n",
        "input_data['HouseStyle'] = HouseStyle_enc.fit_transform(input_data['HouseStyle'])\n",
        "input_data['Fence'] = Fence_enc.fit_transform(input_data['Fence'])\n",
        "input_data['PoolQC'] = PoolQualityCondition_enc.fit_transform(input_data['PoolQC'])\n",
        "\n",
        "\n",
        "## Sjekker at kolonnene med kategoriske features har fått tallverdier\n",
        "input_data.head(5)"
      ],
      "execution_count": 0,
      "outputs": []
    },
    {
      "metadata": {
        "id": "Y6wQXsaDFp5E",
        "colab_type": "text"
      },
      "cell_type": "markdown",
      "source": [
        "Til sammenlikning kan vi sjekke dataen uten LabelEncoding for å se hvordan attributtene ble enkodet"
      ]
    },
    {
      "metadata": {
        "id": "L-sKS8atFlml",
        "colab_type": "code",
        "colab": {}
      },
      "cell_type": "code",
      "source": [
        "data_modell.head(5)"
      ],
      "execution_count": 0,
      "outputs": []
    },
    {
      "metadata": {
        "id": "hMRQynDG3D5G",
        "colab_type": "text"
      },
      "cell_type": "markdown",
      "source": [
        "### Treningsdata og testdata\n",
        "\n",
        "For å validere treffsikkerheten til maskinlæringsmodellene våre må vi fordele dataen inn i treningsdata og testdata. Prinsippet er at vi henter ut en andel av registreringene våre, for eksempel 20%, og gjemmer dem bort når vi konstruerer modellene. Når vi har designet en eller flere modeller gjøres en endelig validering ved å bruke testdataen. Når vi splitter dataen i trenings- og testdata plukker vi ut tilfeldige registreringer i datasettet. Vi bruker en hjelpefunksjon fra Scikit-learn, <a href=\"http://scikit-learn.org/stable/modules/generated/sklearn.model_selection.train_test_split.html\" > train_test_split </a>, til å gjøre dette:\n",
        "\n",
        "\n",
        "<br> $ X\\_trening, X\\_test, Y\\_trening, Y\\_test = train\\_test\\_split(X, Y, test\\_sett\\_andel) $ <br>\n",
        "\n",
        "\n",
        "Her har jeg også satt random_state = 1, noe som gjør at datasettet blir tilfeldig delt inn i trenings- og testdata på samme måte hver gang scriptet kjøres. Slik kan resultatene enklere sammenliknes mellom modellene hvis man tester modeller i flere runder.\n"
      ]
    },
    {
      "metadata": {
        "id": "hL3vBWoIvVtC",
        "colab_type": "code",
        "colab": {}
      },
      "cell_type": "code",
      "source": [
        "from sklearn.model_selection import train_test_split\n",
        "\n",
        "#Dataen deles opp i to sett: treningssett og testsett og lagres i de 4 nye objektene. Test_size bestemmer andelen av dataen som blir brukt til testing av modellen\n",
        "input_treningsdata, input_testdata, output_treningsdata, output_testdata = train_test_split(input_data, output_data, test_size=0.2, random_state=1)\n",
        "\n",
        "print('Input_treningsdata: {}, input_testdata: {}, output_treningsdata: {} og output_testdata: {}'.format(input_treningsdata.shape, input_testdata.shape, output_treningsdata.shape, output_testdata.shape))\n"
      ],
      "execution_count": 0,
      "outputs": []
    },
    {
      "metadata": {
        "id": "mKqHguRC3nQk",
        "colab_type": "code",
        "colab": {}
      },
      "cell_type": "code",
      "source": [
        "input_treningsdata.info()"
      ],
      "execution_count": 0,
      "outputs": []
    },
    {
      "metadata": {
        "id": "VKqM6AkePyCE",
        "colab_type": "code",
        "colab": {}
      },
      "cell_type": "code",
      "source": [
        "input_testdata.info(5)"
      ],
      "execution_count": 0,
      "outputs": []
    },
    {
      "metadata": {
        "id": "IxKP04VR8WRE",
        "colab_type": "text"
      },
      "cell_type": "markdown",
      "source": [
        "### Feilmåling av prediksjoner\n",
        "\n",
        "Når vi evaluerer en maskinlæringsmodell må vi bestemme oss for hvordan vi måler feilen mellom reell salgspris og estimert salgspris. Gjennomsnittet av absolutt feil er en simpel og oversiktlig måte å beregne feilprediksjoner på. Heldigvis slipper vi å regne ut dette selv da Scikit-learn har ferdigbygde metoder for dette. For å få til dette må vi  kalle $mean\\_absolute\\_error()$.  Metoden må gis to parametre; $salgspris\\_prediksjoner$ og $salgspris\\_fra\\_testdata$. På den måten kan gjennomsnittlig absloutt feil regnes ut og lagres i en $MAE$ variabel <p>"
      ]
    },
    {
      "metadata": {
        "id": "ZAnOFH9i8VOs",
        "colab_type": "code",
        "colab": {}
      },
      "cell_type": "code",
      "source": [
        "## Importerer metode for å måle gjennomsnittlig absolutt feil\n",
        "from sklearn.metrics import mean_absolute_error"
      ],
      "execution_count": 0,
      "outputs": []
    },
    {
      "metadata": {
        "id": "YwgJLVuG1bQh",
        "colab_type": "text"
      },
      "cell_type": "markdown",
      "source": [
        "##Lineær regresjon\n",
        "\n",
        "Linær regresjon er modell der man forsøker å tilpasse en rett linje til data. Målet er å minimere den totale avstanden fra datapunktene til linjen. \n",
        "\n",
        "<img src=\"https://upload.wikimedia.org/wikipedia/commons/thumb/3/3a/Linear_regression.svg/438px-Linear_regression.svg.png\">\n",
        "\n",
        "Les mer om <a href=\"https://en.wikipedia.org/wiki/Linear_regression\">Linear regression</a><br>\n",
        "<a href=\"http://scikit-learn.org/stable/modules/generated/sklearn.linear_model.LinearRegression.html\" >Scikit-learn dokumentasjon</a>\n",
        "\n",
        "<p>\n",
        "  ###  Trene lineær modell\n",
        "  For å trene en modell basert på lineær regresjon må man importere riktig modell fra Scikit-learn. Deretter må man lage et objekt som representerer modellen. Dette kan gjøres ved å skrive: <br>\n",
        "  \n",
        " $modell\\_lineær = LinearRegression()$ <br>\n",
        "  \n",
        "  Når modell-objektet er opprettet må man kalle objektets metode $fit()$. Denne metoden tar to parametere; attributtene og tilhørende output, eller X og Y. I vårt tilfelle er attributtene utvalgte kolonner som beskriver huset, mens output er salgsprisen. For å trene modellen til dette datasette skriver man derfor: <br>\n",
        "  \n",
        "  $modell\\_lineær.fit(input\\_treningsdata, output\\_treningsdata)$ <br>\n",
        "  \n",
        " Den lærte sammenhengen mellom husets egenskaper og salgspris er nå lagret i modellen. \n",
        "  \n",
        "<p/>"
      ]
    },
    {
      "metadata": {
        "id": "fWNg2sqX1bCq",
        "colab_type": "code",
        "colab": {}
      },
      "cell_type": "code",
      "source": [
        "#Treningsfase\n",
        "from sklearn.linear_model import LinearRegression\n",
        "\n",
        "#Regressjons-objekt fra scikit-learn\n",
        "modell_lineær = LinearRegression()\n",
        "\n",
        "#Tilpass regressjonskoeffesienter med treningsdata\n",
        "modell_lineær.fit(input_treningsdata, output_treningsdata)"
      ],
      "execution_count": 0,
      "outputs": []
    },
    {
      "metadata": {
        "id": "Dh8Wzx-XWPiO",
        "colab_type": "text"
      },
      "cell_type": "markdown",
      "source": [
        "**Predikere salgspris med lineær modell** <br>\n",
        "Den lærte modellen kan nå brukes til å predikere salgspriser på hus. Det eneste modellen krever er de samme attributtene den ble trent på. Siden vi har spart endel data som modellen ikke har sett før, kan man måle hvor nøyaktig modellen er til å predikere salgspris på \"nye\" hus. Dette kan gjøres ved å kalle <br>\n",
        "$modell\\_lineær.predict()$. <br>\n",
        "\n",
        "Metoden $predict()$ tar en parameter; $input\\_testdata$. Dette er dataene som vi har reservert for testing av modellen.  Resultatet av prediksjonen lagrer vi i $pris\\_prediksjoner\\_lineær$<br>\n",
        "<p>\n",
        "\n"
      ]
    },
    {
      "metadata": {
        "id": "rd7u24kM1_Gi",
        "colab_type": "code",
        "colab": {}
      },
      "cell_type": "code",
      "source": [
        "#Testfase\n",
        "\n",
        "#Gjør pris-prediksjon på testdataen. \n",
        "pris_prediksjoner_lineær = modell_lineær.predict(input_testdata)\n",
        "\n",
        "#Beregn feil\n",
        "MAE_lin = mean_absolute_error(pris_prediksjoner_lineær, output_testdata)\n",
        "\n",
        "#Feilen skrives ut\n",
        "print(\"MAE: {}\".format(MAE_lin))"
      ],
      "execution_count": 0,
      "outputs": []
    },
    {
      "metadata": {
        "id": "9r0Uz2gv5xEA",
        "colab_type": "text"
      },
      "cell_type": "markdown",
      "source": [
        "Her benytter vi plt (kallenavnet for matplotlib) sin plottefunksjon for å lage et punktplot\n",
        "<br> $plt.scatter(x, y) $ <br>\n",
        "\n",
        "Her plotter vi altså predikert pris mot ekte pris, optimalt hadde disse ligget langs en rett linje. Da hadde modellen vært 100% treffsikker."
      ]
    },
    {
      "metadata": {
        "id": "LZFxrZOY9nmq",
        "colab_type": "code",
        "colab": {}
      },
      "cell_type": "code",
      "source": [
        "plt.figure(figsize=(15, 10))\n",
        "plt.scatter(x=output_testdata, y=pris_prediksjoner_lineær)\n",
        "plt.xlabel('Pris')\n",
        "plt.ylabel('Prediskjon')\n",
        "plt.title('Faktisk pris mot estimert pris')\n",
        "plt.show()"
      ],
      "execution_count": 0,
      "outputs": []
    },
    {
      "metadata": {
        "id": "CGoRukkIFvuu",
        "colab_type": "text"
      },
      "cell_type": "markdown",
      "source": [
        "## Decision tree regression\n",
        "\n",
        "Decision trees baserer seg på å forsøke å dele datasettet i undergrupper. Ved å bevege seg gjennom treet kan et data klassifiseres. Decision trees kan også brukes til regresjon. \n",
        "\n",
        "\n",
        "---\n",
        "\n",
        "\n",
        "\n",
        "**Overlevde Titanic?:**\n",
        "\n",
        "\n",
        "\n",
        "<img src=\"https://upload.wikimedia.org/wikipedia/commons/f/f3/CART_tree_titanic_survivors.png\">\n",
        "\n",
        "Les mer om <a href=\"https://en.wikipedia.org/wiki/Decision_tree_learning\">Decision tree</a><br>\n",
        "<a href=\"http://scikit-learn.org/stable/modules/generated/sklearn.tree.DecisionTreeRegressor.html\">Scikit-learn dokumentasjon</a>\n",
        "\n",
        "<p>\n",
        "  ### Trene Decision tree \n",
        " På samme måte som tidligere må man importere riktig modell fra Scikit-learn. Vi skal ha $DecisionTreeRegressor$. Deretter må modellen lages ved å skrive. <br>\n",
        " $model\\_tre = DecisionTreeRegresseor()$ <br>\n",
        "  \n",
        "  Vi trener modellen på samme vis <br>\n",
        "  $model\\_tre.fit(input\\_treningsdata, output\\_treningsdata)$ <br>\n",
        "Sammenhengen er nå lagret i modell-objektet. \n",
        "  \n",
        "<p/>"
      ]
    },
    {
      "metadata": {
        "id": "Cz0m8BKfaWpk",
        "colab_type": "code",
        "colab": {}
      },
      "cell_type": "code",
      "source": [
        "## Importerer DecisionTreeRegressor fra sklearn\n",
        "from sklearn.tree import DecisionTreeRegressor\n",
        "\n",
        "## Oppretter modell\n",
        "modell_tre = DecisionTreeRegressor()\n",
        "\n",
        "## Trener modell med features og labels. \n",
        "modell_tre.fit(input_treningsdata, output_treningsdata)"
      ],
      "execution_count": 0,
      "outputs": []
    },
    {
      "metadata": {
        "id": "p3-iMUvpahKv",
        "colab_type": "code",
        "colab": {}
      },
      "cell_type": "code",
      "source": [
        "\n",
        "pris_prediksjon_tre = modell_tre.predict(input_testdata)\n",
        "\n",
        "MAE_tre = mean_absolute_error(pris_prediksjon_tre, output_testdata)\n",
        "\n",
        "print(\"MAE: {}\".format(MAE_tre))"
      ],
      "execution_count": 0,
      "outputs": []
    },
    {
      "metadata": {
        "id": "z4g8fHoRatms",
        "colab_type": "code",
        "colab": {}
      },
      "cell_type": "code",
      "source": [
        "plt.figure(figsize=(15, 10))\n",
        "plt.scatter(output_testdata, pris_prediksjon_tre)\n",
        "plt.xlabel('Predkisjon')\n",
        "plt.xlabel('Pris')\n",
        "plt.title('Faktisk pris mot estimert pris')\n",
        "plt.show()"
      ],
      "execution_count": 0,
      "outputs": []
    },
    {
      "metadata": {
        "id": "5hvA0IPRFq36",
        "colab_type": "text"
      },
      "cell_type": "markdown",
      "source": [
        "##Skog regressjon\n",
        "Skogmodeller tar utgangspunkt i Decision trees. Istedenfor å generere et tre, så kan skogmodeller generere mange trær. Et valgtre kan se forskjellig ut for samme datasett mellom hver gang det genereres, så mange ulike trær kan i samspill lage en mer robust prediksjon enn et eneste valgtre. Trærne i skogen \"stemmer over\"/\"enes om\" riktig resultat.\n",
        "\n",
        "<img src=\"https://upload.wikimedia.org/wikipedia/commons/7/76/Random_forest_diagram_complete.png\">\n",
        "\n",
        "Les mer om <a href=\"https://en.wikipedia.org/wiki/Random_forest\">Skogregresjon</a> <br>\n",
        "<a href=\"http://scikit-learn.org/stable/modules/generated/sklearn.ensemble.RandomForestRegressor.html\">Scikit-learn dokumentasjon</a>"
      ]
    },
    {
      "metadata": {
        "id": "T0Spzq3U4eS2",
        "colab_type": "code",
        "colab": {}
      },
      "cell_type": "code",
      "source": [
        "#Forest regression\n",
        "\n",
        "from sklearn.ensemble import RandomForestRegressor\n",
        "\n",
        "modell_skog = RandomForestRegressor(random_state=1)\n",
        "\n",
        "modell_skog.fit(input_treningsdata, output_treningsdata)"
      ],
      "execution_count": 0,
      "outputs": []
    },
    {
      "metadata": {
        "id": "kf_75UuA_rJv",
        "colab_type": "code",
        "colab": {}
      },
      "cell_type": "code",
      "source": [
        "pris_prediksjon_skog = modell_skog.predict(input_testdata)\n",
        "\n",
        "MAE_skog = mean_absolute_error(pris_prediksjon_skog, output_testdata)\n",
        "\n",
        "print(\"MAE: {}\".format(MAE_skog))"
      ],
      "execution_count": 0,
      "outputs": []
    },
    {
      "metadata": {
        "id": "bvmdjFOkAH_i",
        "colab_type": "code",
        "colab": {}
      },
      "cell_type": "code",
      "source": [
        "plt.figure(figsize=(15, 10))\n",
        "plt.plot([0,0],[400000,400000],'k-',linestyle='solid')\n",
        "\n",
        "plt.scatter(output_testdata, pris_prediksjon_skog)\n",
        "plt.xlabel('Predkisjon')\n",
        "plt.xlabel('Pris')\n",
        "plt.title('Faktisk pris mot estimert pris')\n",
        "plt.show()"
      ],
      "execution_count": 0,
      "outputs": []
    },
    {
      "metadata": {
        "id": "6SiivxKBeaOO",
        "colab_type": "text"
      },
      "cell_type": "markdown",
      "source": [
        "##Nevralt nettverk regressjon\n",
        "\n",
        "Nevrale nettverk er kjent for å være en god regresjonsmetode når dataen er kompleks og stor. Det er ikke nødvendigvis bedre enn de mer klassiske maskinlæringsmodellene og krever  mer tilpassing av parametere. \n",
        "\n",
        "<img src=\"https://upload.wikimedia.org/wikipedia/commons/thumb/4/46/Colored_neural_network.svg/296px-Colored_neural_network.svg.png\">\n",
        "\n",
        "Les mer om <a href=\"https://en.wikipedia.org/wiki/Artificial_neural_network\">nevrale nettverk</a><br>\n",
        "<a href=\"http://scikit-learn.org/stable/modules/generated/sklearn.neural_network.MLPRegressor.html\">Scikit-learn dokumentasjon</a>\n",
        "\n",
        "Noen viktige parametere å tenke på er:\n",
        "\n",
        " - Hidden_layer_sizes: Antall gjemte lag i nettverket, og antall noder i disse lagene. Det i-ende elementet er antall noder i det i-ende laget. (#noder i lag 1, #noder i lag 2, ... , #noder i lag n)\n",
        " - Learning_rate_init: hastigheten på læringen. For hurtig læring gjør at nettverket lærer hurtig og aggressivt, og lærer muligens litt for generaliserte løsninger. For sakte gjør at nettverket aldri når de gode løsningene og generaliserer muligens ikke nok.\n",
        " - Max_iter: Maximalt antall treningsiterasjoner over hele datasettet. Hvis max_iter er for liten rekker ikke nettverket å trene ferdig. Hvis den er for stor kan nettverke ende med å trene unødvendig mye, som til og med kan lede til for lite generalisering.\n",
        " - Validation_fraction: Andel av input dataen som vil bli brukt til underveis-validering mellom hver trenings iterasjon. 15% pleier å være et bra valg.\n",
        "\n",
        "\n",
        "En grei huskeregel er at jo mer kompleks dataen er, jo mer komplekst burde nettverket være. Ofte er det lurt å begynne med et enkelt og lite nettverk, for eksempel to lage med 50 noder, og så utvide nettverket gradvis mens du følger med å feilmålingen. Learning rate kan justeres på samme måte, begynn med en lav rate og øk den gradvis."
      ]
    },
    {
      "metadata": {
        "id": "udablqB1cNx1",
        "colab_type": "code",
        "colab": {}
      },
      "cell_type": "code",
      "source": [
        "from sklearn.neural_network import MLPRegressor\n",
        "\n",
        "modell_MLPR = MLPRegressor(hidden_layer_sizes=(200,100,20), activation='relu',solver='adam', max_iter=300, learning_rate_init=0.01, momentum = 0.9, validation_fraction = 0.2)\n",
        "\n",
        "modell_MLPR.fit(input_treningsdata, output_treningsdata)"
      ],
      "execution_count": 0,
      "outputs": []
    },
    {
      "metadata": {
        "id": "jgMIdlRceF5H",
        "colab_type": "code",
        "colab": {}
      },
      "cell_type": "code",
      "source": [
        "pris_prediksjon_MLPR = modell_MLPR.predict(input_testdata)\n",
        "\n",
        "MAE_MLPR = mean_absolute_error(pris_prediksjon_MLPR, output_testdata)\n",
        "\n",
        "print(\"MAE: {}\".format(MAE_MLPR))"
      ],
      "execution_count": 0,
      "outputs": []
    },
    {
      "metadata": {
        "id": "NnDi0ltdegsR",
        "colab_type": "code",
        "colab": {}
      },
      "cell_type": "code",
      "source": [
        "plt.figure(figsize=(15, 10))\n",
        "plt.scatter(output_testdata, pris_prediksjon_MLPR)\n",
        "plt.xlabel('Predkisjon')\n",
        "plt.xlabel('Pris')\n",
        "plt.title('Faktisk pris mot estimert pris')\n",
        "plt.show()"
      ],
      "execution_count": 0,
      "outputs": []
    },
    {
      "metadata": {
        "id": "xWtDnACYAJxU",
        "colab_type": "text"
      },
      "cell_type": "markdown",
      "source": [
        "## Gradient boosted regression\n",
        "\n",
        "Gradient boosting har samme prinsipp som forest regression, det er flere modeller som i samarbeid lager en prediksjon. I forest regression modellen konstrueres mange uavhengige og ulike valgtre-modeller som utfører hver sin prediksjon. Alle disse prediksjonene blir til slutt slått sammen til den endelige prediksjonen ved for eksempel å ta gjennomsnittet av alle prediksjonene. I gradient boosting lages det også mange forskjellige valgtre-modeller, men disse lages sekvensielt, og er avhengige av hverandre. \n",
        "\n",
        "\n",
        "Prinsippet er at når første valgtre blir laget, så blir neste valgtre laget basert på feilen til den første modellen. En liten bit av treningsdataen, valideringsdata, blir brukt til å gjøre en underveis-vurdering på samme måte som testdataen. Målet for neste tre er å minimere feilen til det forrige treet. Altså stepper neste modell inn for å rette opp det forrige modell gjorde det dårligst på. Dette kan gjøres evig, men i realiteten må vi sette en grense på hvor mange valgtrær man tillater modellen å lage. Prinsippet er forklart i mer detalj <a href=\"https://medium.com/mlreview/gradient-boosting-from-scratch-1e317ae4587d\n",
        "\">her</a>\n",
        "\n",
        "Les mer om <a href=\"https://en.wikipedia.org/wiki/Gradient_boosting\">gradient boosting</a><br>\n",
        "<a href=\"http://scikit-learn.org/stable/modules/generated/sklearn.ensemble.GradientBoostingRegressor.html\n",
        "\">Scikit-learn dokumentasjon</a>"
      ]
    },
    {
      "metadata": {
        "id": "3POGTDinAIco",
        "colab_type": "code",
        "colab": {}
      },
      "cell_type": "code",
      "source": [
        "from sklearn.ensemble import GradientBoostingRegressor\n",
        "from sklearn.ensemble.partial_dependence import plot_partial_dependence\n",
        "from sklearn.ensemble.partial_dependence import partial_dependence\n",
        "\n",
        "modell_boostreg = GradientBoostingRegressor(learning_rate = 0.1, max_depth = 3, random_state=1)\n",
        "\n",
        "modell_boostreg.fit(input_treningsdata, output_treningsdata)"
      ],
      "execution_count": 0,
      "outputs": []
    },
    {
      "metadata": {
        "id": "hNrXrJgEAVj-",
        "colab_type": "code",
        "colab": {}
      },
      "cell_type": "code",
      "source": [
        "pris_prediksjon_boostreg = modell_boostreg.predict(input_testdata)\n",
        "\n",
        "MAE_boostreg = mean_absolute_error(pris_prediksjon_boostreg, output_testdata)\n",
        "\n",
        "print(\"MAE: {}\".format(MAE_boostreg))"
      ],
      "execution_count": 0,
      "outputs": []
    },
    {
      "metadata": {
        "id": "lIRtmFmZAhgi",
        "colab_type": "code",
        "colab": {}
      },
      "cell_type": "code",
      "source": [
        "plt.figure(figsize=(15, 10))\n",
        "plt.scatter(output_testdata, pris_prediksjon_boostreg)\n",
        "plt.xlabel('Predkisjon')\n",
        "plt.xlabel('Pris')\n",
        "plt.title('Faktisk pris mot estimert pris')\n",
        "plt.show()"
      ],
      "execution_count": 0,
      "outputs": []
    },
    {
      "metadata": {
        "id": "C3TcE9YiGJEy",
        "colab_type": "text"
      },
      "cell_type": "markdown",
      "source": [
        "# Analyse av resultater"
      ]
    },
    {
      "metadata": {
        "id": "8bRToV29ZUqC",
        "colab_type": "code",
        "colab": {}
      },
      "cell_type": "code",
      "source": [
        "input_data['Neighborhood'] = Neighborhood_enc.fit_transform(input_data['Neighborhood'])\n",
        "input_data['Condition1'] = Condition1_enc.fit_transform(input_data['Condition1'])\n",
        "input_data['HouseStyle'] = HouseStyle_enc.fit_transform(input_data['HouseStyle'])\n",
        "input_data['Fence'] = Fence_enc.fit_transform(input_data['Fence'])\n",
        "input_data['PoolQC'] = PoolQualityCondition_enc.fit_transform(input_data['PoolQC'])"
      ],
      "execution_count": 0,
      "outputs": []
    },
    {
      "metadata": {
        "id": "wIaO4mw6kbzz",
        "colab_type": "text"
      },
      "cell_type": "markdown",
      "source": [
        "##Sammenlikning av modeller"
      ]
    },
    {
      "metadata": {
        "id": "LcgdRlZpihpK",
        "colab_type": "text"
      },
      "cell_type": "markdown",
      "source": [
        "Nå som vi har prediksjoner på salgspris i testdataen fra alle modellene kan vi slå dem sammen i en pandas dataframe for å lettere sammenlikne. Dette gjør vi ved å samle dataen i en dictionary (hashtabell), og deretter opprette en ny dataframe med denne dataen. \n",
        "\n",
        "<br> $ dict = \\{ 'modell1' : prediksjoner1, 'modell2':prediksjoner2 \\} $ <br>\n",
        "\n",
        "Se <a href=\"https://pandas.pydata.org/pandas-docs/stable/generated/pandas.DataFrame.html\"> dokumentasjonen </a>  på denne funksjonen\n",
        " "
      ]
    },
    {
      "metadata": {
        "id": "l_urruhMg2Rn",
        "colab_type": "code",
        "colab": {}
      },
      "cell_type": "code",
      "source": [
        "# Definer kolonnenavn til den nye dataframen\n",
        "kolonner_resultat = ['output_testdata', 'pris_prediksjoner_lineær', 'pris_prediksjon_tre','pris_prediksjon_skog', 'pris_prediksjon_MLPR','pris_prediksjon_boostreg']\n",
        "\n",
        "#Legg prediksjonsdataen\n",
        "resultat_data = {'output_testdata':output_testdata, 'pris_prediksjoner_lineær':pris_prediksjoner_lineær, 'pris_prediksjon_tre':pris_prediksjon_tre, 'pris_prediksjon_skog':pris_prediksjon_skog, 'pris_prediksjon_MLPR':pris_prediksjon_MLPR, 'pris_prediksjon_boostreg':pris_prediksjon_boostreg}\n",
        "\n",
        "resultat = pd.DataFrame(data=resultat_data, columns = kolonner_resultat)\n",
        "resultat.head(5)"
      ],
      "execution_count": 0,
      "outputs": []
    },
    {
      "metadata": {
        "id": "hhPMfECJ99GF",
        "colab_type": "text"
      },
      "cell_type": "markdown",
      "source": [
        "Vi samler også feilmålingene av modellene i en dataframe"
      ]
    },
    {
      "metadata": {
        "id": "amQ3kNFLi0GA",
        "colab_type": "code",
        "colab": {}
      },
      "cell_type": "code",
      "source": [
        "#Alle modeller må være kjørt\n",
        "MAE_kolonner = ['MAE_lin','MAE_tre','MAE_skog','MAE_MLPR','MAE_boostreg']\n",
        "feil_data = {'MAE_lin':[MAE_lin], 'MAE_tre':[MAE_tre], 'MAE_skog':[MAE_skog],'MAE_MLPR':[MAE_MLPR], 'MAE_boostreg':MAE_boostreg}\n",
        "\n",
        "MAE_alle = pd.DataFrame(data=feil_data,columns=MAE_kolonner)\n",
        "MAE_alle.head()"
      ],
      "execution_count": 0,
      "outputs": []
    },
    {
      "metadata": {
        "id": "-fOjTsBeioQR",
        "colab_type": "text"
      },
      "cell_type": "markdown",
      "source": [
        "Vi kan også plotte alle prediksjonspunktene til hver modell oppå hverandre for å visualisere hvordan prediksjons-distribusjonen ser ut. Her plotter vi predikert pris mot ekte pris. Ekte pris plottet mot seg selv blir naturligvis en rett linje, fordi den vil stemme 100% med seg selv."
      ]
    },
    {
      "metadata": {
        "id": "xALfnHUAUgcN",
        "colab_type": "code",
        "colab": {}
      },
      "cell_type": "code",
      "source": [
        "plt.figure(figsize=(18, 12))\n",
        "plt.scatter(output_testdata, output_testdata, color='black', label='Faktisk pris')\n",
        "plt.scatter(output_testdata, pris_prediksjoner_lineær, color='yellow', label='Lineær regressjon')\n",
        "plt.scatter(output_testdata, pris_prediksjon_tre, color='blue', label='Decision tree')\n",
        "plt.scatter(output_testdata, pris_prediksjon_skog, color='green', label='Skog regressjon')\n",
        "plt.scatter(output_testdata, pris_prediksjon_MLPR, color='red', label='Nevralt netverk')\n",
        "plt.scatter(output_testdata, pris_prediksjon_boostreg, color='purple', label='Boosted regression')\n",
        "plt.ylabel('Predkisjon')\n",
        "plt.xlabel('Pris')\n",
        "plt.title('Sammenlikning av modeller, prediskjon på testdata')\n",
        "plt.legend(loc='upper left')\n",
        "plt.show()"
      ],
      "execution_count": 0,
      "outputs": []
    },
    {
      "metadata": {
        "id": "kXGZYcT_BIgL",
        "colab_type": "text"
      },
      "cell_type": "markdown",
      "source": [
        "Det kan være mer oversiktlig å visualisere prediksjonene til en modell av gangen."
      ]
    },
    {
      "metadata": {
        "id": "mutH536sBNK3",
        "colab_type": "code",
        "colab": {}
      },
      "cell_type": "code",
      "source": [
        "plt.figure(figsize=(18, 12))\n",
        "plt.scatter(output_testdata, output_testdata, color='black', label='Faktisk pris')\n",
        "plt.scatter(output_testdata, pris_prediksjon_boostreg, color='purple', label='Boosted regression')\n",
        "plt.ylabel('Predkisjon')\n",
        "plt.xlabel('Pris')\n",
        "plt.title('Boosted regression prediksjoner på testdata')\n",
        "plt.legend(loc='upper left')\n",
        "plt.show()"
      ],
      "execution_count": 0,
      "outputs": []
    },
    {
      "metadata": {
        "id": "qG9LmNbGv-nC",
        "colab_type": "text"
      },
      "cell_type": "markdown",
      "source": [
        "## Feature importance\n",
        "\n"
      ]
    },
    {
      "metadata": {
        "id": "rrySJAfV6ZHR",
        "colab_type": "text"
      },
      "cell_type": "markdown",
      "source": [
        "Feature importance er en nyttig måling på hvor mye påvirkning de ulike attributtene har på prediksjonen, altså output. \n",
        "\n",
        "Vanligvis bidrar ikke attributtene til å predikere outputen like mye og ofte er det flere attributter som nesten ikke bidrar i det hele tatt og er i realiteten irrelevante. En viktig analyse av resultatene til de ulike modellene er å avdekke hvilke attributter som er de viktigste bidragsyterene. \n",
        "\n",
        "Valgtrær utfører utvelgelse av de viktigste attributter ved å splitte valgene på de attributtene som skiller dataen best. Denne informasjonen kan brukes til å tolke viktigheten til attributtene. Jo oftere en attribut er brukt til å splitte grener i et valgtre, jo viktigere er attributten. Dette kan også gjøres med sammensetning av flere valgtrær, som i skog og boosted, der gjennomsnittsviktigheten over alle valgtrærne blir brukt.\n",
        "\n",
        "Attributt-viktighet kan kun hentes ut av maskinlæringsmodeller som er basert på valgtrær. Informasjonen om viktigheten til attributtene er derimot overførbar til andre maskinlæringsmodeller."
      ]
    },
    {
      "metadata": {
        "id": "6qwgGMe55DmV",
        "colab_type": "code",
        "colab": {}
      },
      "cell_type": "code",
      "source": [
        "plt.figure(figsize=[15,8])\n",
        "feat_imp = pd.Series(modell_tre.feature_importances_, input_treningsdata.columns).sort_values(ascending=False)\n",
        "feat_imp.plot(kind='bar', title='Feature Importances valgtre regressjon')\n",
        "plt.ylabel('Feature Importance Score')\n",
        "plt.show()"
      ],
      "execution_count": 0,
      "outputs": []
    },
    {
      "metadata": {
        "id": "lqLLWJyw5084",
        "colab_type": "code",
        "colab": {}
      },
      "cell_type": "code",
      "source": [
        "plt.figure(figsize=[15,8])\n",
        "feat_imp = pd.Series(modell_skog.feature_importances_, input_treningsdata.columns).sort_values(ascending=False)\n",
        "feat_imp.plot(kind='bar', title='Feature Importances skog regressjon')\n",
        "plt.ylabel('Feature Importance Score')\n",
        "plt.show()"
      ],
      "execution_count": 0,
      "outputs": []
    },
    {
      "metadata": {
        "id": "IT6JO1Yk6AiA",
        "colab_type": "code",
        "colab": {}
      },
      "cell_type": "code",
      "source": [
        "plt.figure(figsize=[15,10])\n",
        "feat_imp = pd.Series(modell_boostreg.feature_importances_, input_treningsdata.columns).sort_values(ascending=False)\n",
        "feat_imp.plot(kind='bar', title='Feature Importances boosted regressjon')\n",
        "plt.ylabel('Feature Importance Score')\n",
        "plt.show()"
      ],
      "execution_count": 0,
      "outputs": []
    },
    {
      "metadata": {
        "id": "epS-Bk7FsFwz",
        "colab_type": "text"
      },
      "cell_type": "markdown",
      "source": [
        "## Partial dependence plots\n",
        "\n",
        "For å bedre tolke påvirkningen fra attributtene på output kan det gjøres en delvis avhengighets undersøkelse. Delvis avhengighet beskriver den forventede responsen på output som en funksjon av attributtene. Den ferdig trente modellen må bli testet for noen attributter av gangen. En registrering blir sent inn i modellen, og så setter vi featuren til den minste verdien den har i datasettet. Deretter øker vi denne featuren gradvis, til vi når den største verdien den har i datasettet. Slik får vi ut en funksjon av featuren som viser responsen på outputen.\n",
        "\n",
        "\n",
        "Skal vi for eksempel undersøke påvirkelsen av kvadratfot, tester vi med LotArea lik 0. Deretter øker vi LotArea gradvis og ser hvordan prisprediksjonen endrer seg. Da kan man tolke hvilke tomt størrelsen som har størt påvirkning på prisen. Hvis påvirkningen er under null, så trekker attributten ned på dette punktet. Hvis det er på null, så påvirkes ingenting relativt til gjennomsnittet.\n",
        "\n",
        "Les mer <a href=\"http://scikit-learn.org/stable/modules/generated/sklearn.ensemble.partial_dependence.plot_partial_dependence.html#sklearn.ensemble.partial_dependence.plot_partial_dependence\n",
        "\">Scikit-learn dokumentasjon</a>"
      ]
    },
    {
      "metadata": {
        "id": "-Bm4nS1Ryy5G",
        "colab_type": "code",
        "colab": {}
      },
      "cell_type": "code",
      "source": [
        "#Nummerering på hver feature\n",
        "for i, element in enumerate(features):\n",
        "  print(i,element)"
      ],
      "execution_count": 0,
      "outputs": []
    },
    {
      "metadata": {
        "id": "_2ENO66VJydr",
        "colab_type": "text"
      },
      "cell_type": "markdown",
      "source": [
        "Vi benytte oversikten over til å velge hvilke attributter vi ønsker å undersøke. I eksempelet under er det plottet delvis avhengighet for størrelse på tomt og alder på hus. Man kan observere hvordan prisen påvirkes positivt i takt med økende kvf. Altså har LotArea en positiv effekt på pris, jo større tomt jo dyrere pris. Hus-alder har også en positiv effekt når huset er ungt, men liten påvirkning for eldre hus. Vi kan se at det er liten påvirkning på salgspris når huset er over 20 år gammelt."
      ]
    },
    {
      "metadata": {
        "id": "Ch-gSGTtsIR5",
        "colab_type": "code",
        "colab": {}
      },
      "cell_type": "code",
      "source": [
        "#Liste over features for utvelgelse til partial dependence plottet\n",
        "features = input_treningsdata.columns\n",
        "\n",
        "my_plot = plot_partial_dependence(modell_boostreg, features=[0, 22], X=input_treningsdata, feature_names=features, grid_resolution=20, n_cols=2)\n"
      ],
      "execution_count": 0,
      "outputs": []
    },
    {
      "metadata": {
        "id": "vTQZvTnR3sTj",
        "colab_type": "text"
      },
      "cell_type": "markdown",
      "source": [
        "Vi kan også utføre delvis avhengighet med to attributter samtidig. Dette vil vise oss samhandlingen mellom de to variablene. Her har vi testet kvalitet og alder på huset. For et hus som har kvalitet over 6, har alderen på huset ingen påvirkning på prisen. For hus som har kvalitet mellom 4 og 6, så har alder på hus en viss påvirkningskraft på salgsprisen.\n",
        "\n"
      ]
    },
    {
      "metadata": {
        "id": "d-qr53EjEp3X",
        "colab_type": "code",
        "colab": {}
      },
      "cell_type": "code",
      "source": [
        "my_plot = plot_partial_dependence(modell_boostreg, features=[(5,22)], X=input_treningsdata, feature_names=features, grid_resolution=10, n_cols=2)"
      ],
      "execution_count": 0,
      "outputs": []
    },
    {
      "metadata": {
        "id": "zsuyA7SoK96L",
        "colab_type": "text"
      },
      "cell_type": "markdown",
      "source": [
        "Vi kan også undersøke påvirkelsen av kategoriske attributter, da vil vi iterere gjennom alle nabolagene for eksempel istedenfor å øke en verdi gradvis. Her er påvirkelsen på salgspris for hvert nabolag, vi må undersøke oversikten over enkodingen for å kunne tolke det."
      ]
    },
    {
      "metadata": {
        "id": "MW1iEkTK5bTq",
        "colab_type": "code",
        "colab": {}
      },
      "cell_type": "code",
      "source": [
        "\n",
        "my_plot = plot_partial_dependence(modell_boostreg, features=[1], X=input_treningsdata, feature_names=features, grid_resolution=100, n_cols=2)\n"
      ],
      "execution_count": 0,
      "outputs": []
    },
    {
      "metadata": {
        "id": "svWX5JToaAfd",
        "colab_type": "code",
        "colab": {}
      },
      "cell_type": "code",
      "source": [
        "#Kode for å skrive ut oversikt over nabolag\n",
        "keys = Neighborhood_enc.classes_\n",
        "values = Neighborhood_enc.transform(Neighborhood_enc.classes_)\n",
        "dictionary = dict(zip(keys, values))\n",
        "\n",
        "print('Neighborhood koding')\n",
        "for num,name in enumerate(dictionary):\n",
        "  print('{} -> {}'.format(num, name))\n",
        "\n"
      ],
      "execution_count": 0,
      "outputs": []
    },
    {
      "metadata": {
        "id": "7VzPh9Wfy5Jo",
        "colab_type": "text"
      },
      "cell_type": "markdown",
      "source": [
        "**merk at scikit-learn støtter denne funksjonen kun for gradient boosting modellen**"
      ]
    },
    {
      "metadata": {
        "id": "ZZ7L8FA9zWUS",
        "colab_type": "text"
      },
      "cell_type": "markdown",
      "source": [
        "## Valgtre visualisering\n",
        "\n"
      ]
    },
    {
      "metadata": {
        "id": "uSLjopqt2Qw9",
        "colab_type": "code",
        "colab": {}
      },
      "cell_type": "code",
      "source": [
        "!pip install pydotplus\n",
        "!pip install GraphViz"
      ],
      "execution_count": 0,
      "outputs": []
    },
    {
      "metadata": {
        "id": "GQ_KtrORzBSE",
        "colab_type": "code",
        "colab": {}
      },
      "cell_type": "code",
      "source": [
        "from sklearn.externals.six import StringIO  \n",
        "from IPython.display import Image  \n",
        "from sklearn.tree import export_graphviz\n",
        "import pydotplus\n",
        "            \n",
        "dot_data = StringIO()\n",
        "export_graphviz(modell_tre, out_file=dot_data,  \n",
        "                            filled=True, rounded=True,\n",
        "                            special_characters=True,\n",
        "                            feature_names=input_data.columns)\n",
        "\n",
        "graph = pydotplus.graph_from_dot_data(dot_data.getvalue())  \n",
        "tree = Image(graph.create_png())"
      ],
      "execution_count": 0,
      "outputs": []
    },
    {
      "metadata": {
        "id": "-KKHAXiv9rVk",
        "colab_type": "text"
      },
      "cell_type": "markdown",
      "source": [
        "## Realistisk test (tilpasset modell_data)"
      ]
    },
    {
      "metadata": {
        "id": "0WkylsSw9yjF",
        "colab_type": "code",
        "colab": {},
        "cellView": "form"
      },
      "cell_type": "code",
      "source": [
        "import numpy as np\n",
        "modell_dict = {'modell_lineær':modell_lineær, 'modell_tre':modell_tre, 'modell_skog':modell_skog, 'modell_MLPR':modell_MLPR,'modell_boostreg':modell_boostreg}\n",
        "\n",
        "#@title String fields\n",
        "\n",
        "# valg av modell\n",
        "modell_test = 'modell_boostreg' #@param [\"modell_lineær\", \"modell_tre\", \"modell_skog\", \"modell_MLPR\", \"modell_boostreg\"] {allow-input: true}\n",
        "\n",
        "\n",
        "\n",
        "#Valg av parametre\n",
        "\n",
        "LotArea = 1953 #@param {type:\"integer\"}\n",
        "Neighborhood = 'BrDale' #@param ['CollgCr', 'Veenker', 'Crawfor', 'NoRidge', 'Mitchel', 'Somerst','NWAmes', 'OldTown', 'BrkSide', 'Sawyer', 'NridgHt', 'NAmes','SawyerW', 'IDOTRR', 'MeadowV', 'Edwards', 'Timber', 'Gilbert','StoneBr', 'ClearCr', 'NPkVill', 'Blmngtn', 'BrDale', 'SWISU','Blueste'] {allow-input: true}\n",
        "WoodDeckSF = 72 #@param {type:\"integer\"}\n",
        "Condition1 = 'Norm' #@param ['Norm', 'Feedr', 'PosN', 'Artery', 'RRAe', 'RRNn', 'RRAn', 'PosA','RRNe'] {allow-input: true}\n",
        "HouseStyle = '2Story' #@param ['2Story', '1Story', '1.5Fin', '1.5Unf', 'SFoyer', 'SLvl', '2.5Unf', '2.5Fin'] {allow-input: true}\n",
        "OverallQual = 6 #@param {type:\"slider\", min:1, max:10, step:1}\n",
        "OverallCond = 5 #@param {type:\"slider\", min:1, max:10, step:1}\n",
        "YearBuilt = 1973 #@param {type:\"slider\", min:1870, max:2010, step:1}\n",
        "YearRemodAdd = 1973 #@param {type:\"slider\", min:1950, max:2010, step:1}\n",
        "\n",
        "#@markdown 1stFlrSF er kvadratfot i 1. etg\n",
        "\n",
        "FirstFlrSF = 483 #@param {type:'integer'}\n",
        "FullBath = 1 #@param {type:'integer'}\n",
        "HalfBath = 1 #@param {type:'integer'}\n",
        "BedroomAbvGr = 2 #@param {type:'integer'}\n",
        "Fence = 'None' #@param ['None', 'MnPrv', 'GdWo', 'GdPrv', 'MnWw'] {allow-input: true}\n",
        "KitchenAbvGr = 1 #@param {type:'integer'}\n",
        "TotRmsAbvGrd = 5 #@param {type:'integer'}\n",
        "GarageCars = 1 #@param {type:'integer'}\n",
        "Fireplaces = 0 #@param {type:'integer'}\n",
        "PoolArea = 0 #@param {type:'integer'}\n",
        "PoolQC = 'None' #@param ['None', 'Ex', 'Fa', 'Gd'] {allow-input: true}\n",
        "MoSold = 6 #@param {type:\"slider\", min:1, max:12, step:1}\n",
        "YrSold = 2006 #@param {type:'integer'}\n",
        "HouseAge = 33 #@param {type:'integer'}\n",
        "\n",
        "# Attribut enkoding\n",
        "Neighborhood = Neighborhood_enc.transform([Neighborhood])[0]\n",
        "Condition1 = Condition1_enc.transform([Condition1])[0]\n",
        "HouseStyle = HouseStyle_enc.transform([HouseStyle])[0]\n",
        "Fence = Fence_enc.transform([Fence])[0]\n",
        "PoolQualityCondition = PoolQualityCondition_enc.transform([PoolQC])[0]\n",
        "\n",
        "\n",
        "test_input = np.array([LotArea, Neighborhood, WoodDeckSF,\\\n",
        "                       Condition1,HouseStyle ,\\\n",
        "                       OverallQual, OverallCond, YearBuilt, YearRemodAdd, FirstFlrSF, FullBath, \\\n",
        "                       HalfBath, BedroomAbvGr, Fence, KitchenAbvGr, \\\n",
        "                       TotRmsAbvGrd, GarageCars, Fireplaces, PoolArea, PoolQualityCondition,\\\n",
        "                       MoSold, YrSold, HouseAge]).reshape(1,-1)\n",
        "\n",
        "modell_valg = modell_dict[modell_test]\n",
        "\n",
        "est = modell_valg.predict(test_input)\n",
        "\n",
        "print('\\nModell brukt: {}\\n'.format(modell_test))\n",
        "print(modell_valg)\n",
        "print('\\n')\n",
        "print('Predikert boligpris: {0:.2f}'.format(est[0]))\n"
      ],
      "execution_count": 0,
      "outputs": []
    },
    {
      "metadata": {
        "id": "kfZGKM3NF7WB",
        "colab_type": "text"
      },
      "cell_type": "markdown",
      "source": [
        "##Oppgave: Bygg model\n",
        "\n",
        "Bygg din egen modell på datasettet du lagde i tidligere seksjon. Husk å dele opp datasettet i trenings og test data ved å bruke:\n",
        "\n",
        "<br> $ train\\_test\\_split(x,y,test\\_size = 0.2, random\\_state=1) $ <br>\n",
        "\n",
        "**NB! Ha med test_size = 0.2 og  random_state = 1 slik at samme registreringer blir utvalgt til å være i testsettet, slik blir resultatene 100% sammenliknbare mellom modellene.**\n",
        "\n",
        "Velg hvilken modell du vil bruke, gjerne noen andre enn de som er gått gjennom her, og juster modell parametrene for å få så lav MAE som mulig.\n",
        "\n",
        "\n",
        "<a href=\"http://scikit-learn.org/stable/supervised_learning.html\n",
        "\">Scikit-learn supervised learning</a>\n",
        "\n",
        "Bruk også gjerne modellene og datasettet som allerede er satt opp og endre parameterene og utvalgte features for å forbedre modellen. Visualiser resultatene fra modellen(e).\n",
        "\n",
        "Til slutt: lag en boosted regression modell på datasettet ditt og skriv ut features importance og partial dependence plots."
      ]
    },
    {
      "metadata": {
        "id": "NqAIyV080KZC",
        "colab_type": "code",
        "colab": {}
      },
      "cell_type": "code",
      "source": [
        "#Skriv kode her"
      ],
      "execution_count": 0,
      "outputs": []
    }
  ]
}