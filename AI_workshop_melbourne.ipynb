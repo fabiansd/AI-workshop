{
  "nbformat": 4,
  "nbformat_minor": 0,
  "metadata": {
    "colab": {
      "name": "AI_workshop_melbourne.ipynb",
      "version": "0.3.2",
      "provenance": [],
      "toc_visible": true
    },
    "kernelspec": {
      "name": "python3",
      "display_name": "Python 3"
    }
  },
  "cells": [
    {
      "metadata": {
        "id": "view-in-github",
        "colab_type": "text"
      },
      "cell_type": "markdown",
      "source": [
        "[View in Colaboratory](https://colab.research.google.com/github/fabiansd/AI-workshop/blob/master/AI_workshop.ipynb)"
      ]
    },
    {
      "metadata": {
        "id": "QdkCnLdow6Sz",
        "colab_type": "text"
      },
      "cell_type": "markdown",
      "source": [
        "# Datasett\n",
        "\n",
        "\n"
      ]
    },
    {
      "metadata": {
        "id": "Mj-iU85nxENm",
        "colab_type": "text"
      },
      "cell_type": "markdown",
      "source": [
        "Beskrivelse av datasett:\n",
        "\n",
        "https://www.kaggle.com/c/home-data-for-ml-course/data\n",
        "\n",
        "\n",
        "Alle måleenhetene utgjør hver sin kolonne, og kalles *features*\n"
      ]
    },
    {
      "metadata": {
        "id": "JCVuvOGiqpsx",
        "colab_type": "text"
      },
      "cell_type": "markdown",
      "source": [
        "# Bibliotek dokumentasjon\n",
        "\n",
        "Pandas (datahåndtering):\n",
        "https://pandas.pydata.org/pandas-docs/stable/generated/pandas.DataFrame.html\n",
        "\n",
        "Seaborn (plottefunksjoner):\n",
        "https://seaborn.pydata.org/index.html\n",
        "\n",
        "Matplotlib (plottestøttefunksjoner)\n",
        "https://matplotlib.org/api/_as_gen/matplotlib.figure.Figure.html#matplotlib.figure.Figure\n",
        "\n",
        "Scikit-learn (maskinlæring):\n",
        "http://scikit-learn.org/stable/\n",
        "\n",
        "\n",
        "Bruk google hyppig, se på eksempler.!"
      ]
    },
    {
      "metadata": {
        "id": "vSAy5T75eZQi",
        "colab_type": "text"
      },
      "cell_type": "markdown",
      "source": [
        "# Importering av data og python-bibliotek"
      ]
    },
    {
      "metadata": {
        "id": "NTWD1FGw3Smp",
        "colab_type": "code",
        "colab": {}
      },
      "cell_type": "code",
      "source": [
        "from six.moves import urllib\n",
        "import pandas as pd\n",
        "\n",
        "urllib.request.urlretrieve(\"https://raw.githubusercontent.com/fabiansd/AI-workshop/master/data/Melbourne_train.csv\", \"./Melbourne_train.csv\")\n",
        "\n",
        "import sklearn\n",
        "import pandas as pd\n",
        "import seaborn as sns\n",
        "from matplotlib import pyplot as plt\n",
        "\n",
        "pd.options.mode.chained_assignment = None  # default='warn'\n",
        "\n",
        "import warnings\n",
        "warnings.simplefilter(action='ignore', category=FutureWarning)"
      ],
      "execution_count": 0,
      "outputs": []
    },
    {
      "metadata": {
        "id": "rpcv34yX3NQj",
        "colab_type": "text"
      },
      "cell_type": "markdown",
      "source": [
        "# Databehandling\n"
      ]
    },
    {
      "metadata": {
        "id": "aVZuxHi_361P",
        "colab_type": "text"
      },
      "cell_type": "markdown",
      "source": [
        "Første steg i et AI-prosjekt er å undersøke og studere dataen. Pandas har flere funksjoner som kan hjelpe til med dette. Det er viktig få et innblikk i hvordan dataen ser ut og hva slag verdier den faktisk inneholder.\n"
      ]
    },
    {
      "metadata": {
        "id": "8BXeTS7gFPTG",
        "colab_type": "text"
      },
      "cell_type": "markdown",
      "source": [
        "## Utforsking av data"
      ]
    },
    {
      "metadata": {
        "id": "66oiq_AKrrbp",
        "colab_type": "text"
      },
      "cell_type": "markdown",
      "source": [
        "Dataen blir lest og lastet opp av pandas biblioteket. Pandas kan anses som excel for python"
      ]
    },
    {
      "metadata": {
        "id": "2P2YICvV4Co0",
        "colab_type": "code",
        "colab": {}
      },
      "cell_type": "code",
      "source": [
        "data = pd.read_csv('Melbourne_train.csv')"
      ],
      "execution_count": 0,
      "outputs": []
    },
    {
      "metadata": {
        "id": "c3Aq-Tcar3dq",
        "colab_type": "text"
      },
      "cell_type": "markdown",
      "source": [
        "For å skrive ut de 10 førset elementene i datasettet"
      ]
    },
    {
      "metadata": {
        "id": "OmvwCThz6Qdu",
        "colab_type": "code",
        "colab": {
          "base_uri": "https://localhost:8080/",
          "height": 688
        },
        "outputId": "00bc3c2a-a5c6-4fca-f51d-a00936b4d67a"
      },
      "cell_type": "code",
      "source": [
        "data.head(10)"
      ],
      "execution_count": 137,
      "outputs": [
        {
          "output_type": "execute_result",
          "data": {
            "text/html": [
              "<div>\n",
              "<style scoped>\n",
              "    .dataframe tbody tr th:only-of-type {\n",
              "        vertical-align: middle;\n",
              "    }\n",
              "\n",
              "    .dataframe tbody tr th {\n",
              "        vertical-align: top;\n",
              "    }\n",
              "\n",
              "    .dataframe thead th {\n",
              "        text-align: right;\n",
              "    }\n",
              "</style>\n",
              "<table border=\"1\" class=\"dataframe\">\n",
              "  <thead>\n",
              "    <tr style=\"text-align: right;\">\n",
              "      <th></th>\n",
              "      <th>Id</th>\n",
              "      <th>MSSubClass</th>\n",
              "      <th>MSZoning</th>\n",
              "      <th>LotFrontage</th>\n",
              "      <th>LotArea</th>\n",
              "      <th>Street</th>\n",
              "      <th>Alley</th>\n",
              "      <th>LotShape</th>\n",
              "      <th>LandContour</th>\n",
              "      <th>Utilities</th>\n",
              "      <th>...</th>\n",
              "      <th>PoolArea</th>\n",
              "      <th>PoolQC</th>\n",
              "      <th>Fence</th>\n",
              "      <th>MiscFeature</th>\n",
              "      <th>MiscVal</th>\n",
              "      <th>MoSold</th>\n",
              "      <th>YrSold</th>\n",
              "      <th>SaleType</th>\n",
              "      <th>SaleCondition</th>\n",
              "      <th>SalePrice</th>\n",
              "    </tr>\n",
              "  </thead>\n",
              "  <tbody>\n",
              "    <tr>\n",
              "      <th>0</th>\n",
              "      <td>1</td>\n",
              "      <td>60</td>\n",
              "      <td>RL</td>\n",
              "      <td>65.0</td>\n",
              "      <td>8450</td>\n",
              "      <td>Pave</td>\n",
              "      <td>NaN</td>\n",
              "      <td>Reg</td>\n",
              "      <td>Lvl</td>\n",
              "      <td>AllPub</td>\n",
              "      <td>...</td>\n",
              "      <td>0</td>\n",
              "      <td>NaN</td>\n",
              "      <td>NaN</td>\n",
              "      <td>NaN</td>\n",
              "      <td>0</td>\n",
              "      <td>2</td>\n",
              "      <td>2008</td>\n",
              "      <td>WD</td>\n",
              "      <td>Normal</td>\n",
              "      <td>208500</td>\n",
              "    </tr>\n",
              "    <tr>\n",
              "      <th>1</th>\n",
              "      <td>2</td>\n",
              "      <td>20</td>\n",
              "      <td>RL</td>\n",
              "      <td>80.0</td>\n",
              "      <td>9600</td>\n",
              "      <td>Pave</td>\n",
              "      <td>NaN</td>\n",
              "      <td>Reg</td>\n",
              "      <td>Lvl</td>\n",
              "      <td>AllPub</td>\n",
              "      <td>...</td>\n",
              "      <td>0</td>\n",
              "      <td>NaN</td>\n",
              "      <td>NaN</td>\n",
              "      <td>NaN</td>\n",
              "      <td>0</td>\n",
              "      <td>5</td>\n",
              "      <td>2007</td>\n",
              "      <td>WD</td>\n",
              "      <td>Normal</td>\n",
              "      <td>181500</td>\n",
              "    </tr>\n",
              "    <tr>\n",
              "      <th>2</th>\n",
              "      <td>3</td>\n",
              "      <td>60</td>\n",
              "      <td>RL</td>\n",
              "      <td>68.0</td>\n",
              "      <td>11250</td>\n",
              "      <td>Pave</td>\n",
              "      <td>NaN</td>\n",
              "      <td>IR1</td>\n",
              "      <td>Lvl</td>\n",
              "      <td>AllPub</td>\n",
              "      <td>...</td>\n",
              "      <td>0</td>\n",
              "      <td>NaN</td>\n",
              "      <td>NaN</td>\n",
              "      <td>NaN</td>\n",
              "      <td>0</td>\n",
              "      <td>9</td>\n",
              "      <td>2008</td>\n",
              "      <td>WD</td>\n",
              "      <td>Normal</td>\n",
              "      <td>223500</td>\n",
              "    </tr>\n",
              "    <tr>\n",
              "      <th>3</th>\n",
              "      <td>4</td>\n",
              "      <td>70</td>\n",
              "      <td>RL</td>\n",
              "      <td>60.0</td>\n",
              "      <td>9550</td>\n",
              "      <td>Pave</td>\n",
              "      <td>NaN</td>\n",
              "      <td>IR1</td>\n",
              "      <td>Lvl</td>\n",
              "      <td>AllPub</td>\n",
              "      <td>...</td>\n",
              "      <td>0</td>\n",
              "      <td>NaN</td>\n",
              "      <td>NaN</td>\n",
              "      <td>NaN</td>\n",
              "      <td>0</td>\n",
              "      <td>2</td>\n",
              "      <td>2006</td>\n",
              "      <td>WD</td>\n",
              "      <td>Abnorml</td>\n",
              "      <td>140000</td>\n",
              "    </tr>\n",
              "    <tr>\n",
              "      <th>4</th>\n",
              "      <td>5</td>\n",
              "      <td>60</td>\n",
              "      <td>RL</td>\n",
              "      <td>84.0</td>\n",
              "      <td>14260</td>\n",
              "      <td>Pave</td>\n",
              "      <td>NaN</td>\n",
              "      <td>IR1</td>\n",
              "      <td>Lvl</td>\n",
              "      <td>AllPub</td>\n",
              "      <td>...</td>\n",
              "      <td>0</td>\n",
              "      <td>NaN</td>\n",
              "      <td>NaN</td>\n",
              "      <td>NaN</td>\n",
              "      <td>0</td>\n",
              "      <td>12</td>\n",
              "      <td>2008</td>\n",
              "      <td>WD</td>\n",
              "      <td>Normal</td>\n",
              "      <td>250000</td>\n",
              "    </tr>\n",
              "    <tr>\n",
              "      <th>5</th>\n",
              "      <td>6</td>\n",
              "      <td>50</td>\n",
              "      <td>RL</td>\n",
              "      <td>85.0</td>\n",
              "      <td>14115</td>\n",
              "      <td>Pave</td>\n",
              "      <td>NaN</td>\n",
              "      <td>IR1</td>\n",
              "      <td>Lvl</td>\n",
              "      <td>AllPub</td>\n",
              "      <td>...</td>\n",
              "      <td>0</td>\n",
              "      <td>NaN</td>\n",
              "      <td>MnPrv</td>\n",
              "      <td>Shed</td>\n",
              "      <td>700</td>\n",
              "      <td>10</td>\n",
              "      <td>2009</td>\n",
              "      <td>WD</td>\n",
              "      <td>Normal</td>\n",
              "      <td>143000</td>\n",
              "    </tr>\n",
              "    <tr>\n",
              "      <th>6</th>\n",
              "      <td>7</td>\n",
              "      <td>20</td>\n",
              "      <td>RL</td>\n",
              "      <td>75.0</td>\n",
              "      <td>10084</td>\n",
              "      <td>Pave</td>\n",
              "      <td>NaN</td>\n",
              "      <td>Reg</td>\n",
              "      <td>Lvl</td>\n",
              "      <td>AllPub</td>\n",
              "      <td>...</td>\n",
              "      <td>0</td>\n",
              "      <td>NaN</td>\n",
              "      <td>NaN</td>\n",
              "      <td>NaN</td>\n",
              "      <td>0</td>\n",
              "      <td>8</td>\n",
              "      <td>2007</td>\n",
              "      <td>WD</td>\n",
              "      <td>Normal</td>\n",
              "      <td>307000</td>\n",
              "    </tr>\n",
              "    <tr>\n",
              "      <th>7</th>\n",
              "      <td>8</td>\n",
              "      <td>60</td>\n",
              "      <td>RL</td>\n",
              "      <td>NaN</td>\n",
              "      <td>10382</td>\n",
              "      <td>Pave</td>\n",
              "      <td>NaN</td>\n",
              "      <td>IR1</td>\n",
              "      <td>Lvl</td>\n",
              "      <td>AllPub</td>\n",
              "      <td>...</td>\n",
              "      <td>0</td>\n",
              "      <td>NaN</td>\n",
              "      <td>NaN</td>\n",
              "      <td>Shed</td>\n",
              "      <td>350</td>\n",
              "      <td>11</td>\n",
              "      <td>2009</td>\n",
              "      <td>WD</td>\n",
              "      <td>Normal</td>\n",
              "      <td>200000</td>\n",
              "    </tr>\n",
              "    <tr>\n",
              "      <th>8</th>\n",
              "      <td>9</td>\n",
              "      <td>50</td>\n",
              "      <td>RM</td>\n",
              "      <td>51.0</td>\n",
              "      <td>6120</td>\n",
              "      <td>Pave</td>\n",
              "      <td>NaN</td>\n",
              "      <td>Reg</td>\n",
              "      <td>Lvl</td>\n",
              "      <td>AllPub</td>\n",
              "      <td>...</td>\n",
              "      <td>0</td>\n",
              "      <td>NaN</td>\n",
              "      <td>NaN</td>\n",
              "      <td>NaN</td>\n",
              "      <td>0</td>\n",
              "      <td>4</td>\n",
              "      <td>2008</td>\n",
              "      <td>WD</td>\n",
              "      <td>Abnorml</td>\n",
              "      <td>129900</td>\n",
              "    </tr>\n",
              "    <tr>\n",
              "      <th>9</th>\n",
              "      <td>10</td>\n",
              "      <td>190</td>\n",
              "      <td>RL</td>\n",
              "      <td>50.0</td>\n",
              "      <td>7420</td>\n",
              "      <td>Pave</td>\n",
              "      <td>NaN</td>\n",
              "      <td>Reg</td>\n",
              "      <td>Lvl</td>\n",
              "      <td>AllPub</td>\n",
              "      <td>...</td>\n",
              "      <td>0</td>\n",
              "      <td>NaN</td>\n",
              "      <td>NaN</td>\n",
              "      <td>NaN</td>\n",
              "      <td>0</td>\n",
              "      <td>1</td>\n",
              "      <td>2008</td>\n",
              "      <td>WD</td>\n",
              "      <td>Normal</td>\n",
              "      <td>118000</td>\n",
              "    </tr>\n",
              "    <tr>\n",
              "      <th>10</th>\n",
              "      <td>11</td>\n",
              "      <td>20</td>\n",
              "      <td>RL</td>\n",
              "      <td>70.0</td>\n",
              "      <td>11200</td>\n",
              "      <td>Pave</td>\n",
              "      <td>NaN</td>\n",
              "      <td>Reg</td>\n",
              "      <td>Lvl</td>\n",
              "      <td>AllPub</td>\n",
              "      <td>...</td>\n",
              "      <td>0</td>\n",
              "      <td>NaN</td>\n",
              "      <td>NaN</td>\n",
              "      <td>NaN</td>\n",
              "      <td>0</td>\n",
              "      <td>2</td>\n",
              "      <td>2008</td>\n",
              "      <td>WD</td>\n",
              "      <td>Normal</td>\n",
              "      <td>129500</td>\n",
              "    </tr>\n",
              "    <tr>\n",
              "      <th>11</th>\n",
              "      <td>12</td>\n",
              "      <td>60</td>\n",
              "      <td>RL</td>\n",
              "      <td>85.0</td>\n",
              "      <td>11924</td>\n",
              "      <td>Pave</td>\n",
              "      <td>NaN</td>\n",
              "      <td>IR1</td>\n",
              "      <td>Lvl</td>\n",
              "      <td>AllPub</td>\n",
              "      <td>...</td>\n",
              "      <td>0</td>\n",
              "      <td>NaN</td>\n",
              "      <td>NaN</td>\n",
              "      <td>NaN</td>\n",
              "      <td>0</td>\n",
              "      <td>7</td>\n",
              "      <td>2006</td>\n",
              "      <td>New</td>\n",
              "      <td>Partial</td>\n",
              "      <td>345000</td>\n",
              "    </tr>\n",
              "    <tr>\n",
              "      <th>12</th>\n",
              "      <td>13</td>\n",
              "      <td>20</td>\n",
              "      <td>RL</td>\n",
              "      <td>NaN</td>\n",
              "      <td>12968</td>\n",
              "      <td>Pave</td>\n",
              "      <td>NaN</td>\n",
              "      <td>IR2</td>\n",
              "      <td>Lvl</td>\n",
              "      <td>AllPub</td>\n",
              "      <td>...</td>\n",
              "      <td>0</td>\n",
              "      <td>NaN</td>\n",
              "      <td>NaN</td>\n",
              "      <td>NaN</td>\n",
              "      <td>0</td>\n",
              "      <td>9</td>\n",
              "      <td>2008</td>\n",
              "      <td>WD</td>\n",
              "      <td>Normal</td>\n",
              "      <td>144000</td>\n",
              "    </tr>\n",
              "    <tr>\n",
              "      <th>13</th>\n",
              "      <td>14</td>\n",
              "      <td>20</td>\n",
              "      <td>RL</td>\n",
              "      <td>91.0</td>\n",
              "      <td>10652</td>\n",
              "      <td>Pave</td>\n",
              "      <td>NaN</td>\n",
              "      <td>IR1</td>\n",
              "      <td>Lvl</td>\n",
              "      <td>AllPub</td>\n",
              "      <td>...</td>\n",
              "      <td>0</td>\n",
              "      <td>NaN</td>\n",
              "      <td>NaN</td>\n",
              "      <td>NaN</td>\n",
              "      <td>0</td>\n",
              "      <td>8</td>\n",
              "      <td>2007</td>\n",
              "      <td>New</td>\n",
              "      <td>Partial</td>\n",
              "      <td>279500</td>\n",
              "    </tr>\n",
              "    <tr>\n",
              "      <th>14</th>\n",
              "      <td>15</td>\n",
              "      <td>20</td>\n",
              "      <td>RL</td>\n",
              "      <td>NaN</td>\n",
              "      <td>10920</td>\n",
              "      <td>Pave</td>\n",
              "      <td>NaN</td>\n",
              "      <td>IR1</td>\n",
              "      <td>Lvl</td>\n",
              "      <td>AllPub</td>\n",
              "      <td>...</td>\n",
              "      <td>0</td>\n",
              "      <td>NaN</td>\n",
              "      <td>GdWo</td>\n",
              "      <td>NaN</td>\n",
              "      <td>0</td>\n",
              "      <td>5</td>\n",
              "      <td>2008</td>\n",
              "      <td>WD</td>\n",
              "      <td>Normal</td>\n",
              "      <td>157000</td>\n",
              "    </tr>\n",
              "    <tr>\n",
              "      <th>15</th>\n",
              "      <td>16</td>\n",
              "      <td>45</td>\n",
              "      <td>RM</td>\n",
              "      <td>51.0</td>\n",
              "      <td>6120</td>\n",
              "      <td>Pave</td>\n",
              "      <td>NaN</td>\n",
              "      <td>Reg</td>\n",
              "      <td>Lvl</td>\n",
              "      <td>AllPub</td>\n",
              "      <td>...</td>\n",
              "      <td>0</td>\n",
              "      <td>NaN</td>\n",
              "      <td>GdPrv</td>\n",
              "      <td>NaN</td>\n",
              "      <td>0</td>\n",
              "      <td>7</td>\n",
              "      <td>2007</td>\n",
              "      <td>WD</td>\n",
              "      <td>Normal</td>\n",
              "      <td>132000</td>\n",
              "    </tr>\n",
              "    <tr>\n",
              "      <th>16</th>\n",
              "      <td>17</td>\n",
              "      <td>20</td>\n",
              "      <td>RL</td>\n",
              "      <td>NaN</td>\n",
              "      <td>11241</td>\n",
              "      <td>Pave</td>\n",
              "      <td>NaN</td>\n",
              "      <td>IR1</td>\n",
              "      <td>Lvl</td>\n",
              "      <td>AllPub</td>\n",
              "      <td>...</td>\n",
              "      <td>0</td>\n",
              "      <td>NaN</td>\n",
              "      <td>NaN</td>\n",
              "      <td>Shed</td>\n",
              "      <td>700</td>\n",
              "      <td>3</td>\n",
              "      <td>2010</td>\n",
              "      <td>WD</td>\n",
              "      <td>Normal</td>\n",
              "      <td>149000</td>\n",
              "    </tr>\n",
              "    <tr>\n",
              "      <th>17</th>\n",
              "      <td>18</td>\n",
              "      <td>90</td>\n",
              "      <td>RL</td>\n",
              "      <td>72.0</td>\n",
              "      <td>10791</td>\n",
              "      <td>Pave</td>\n",
              "      <td>NaN</td>\n",
              "      <td>Reg</td>\n",
              "      <td>Lvl</td>\n",
              "      <td>AllPub</td>\n",
              "      <td>...</td>\n",
              "      <td>0</td>\n",
              "      <td>NaN</td>\n",
              "      <td>NaN</td>\n",
              "      <td>Shed</td>\n",
              "      <td>500</td>\n",
              "      <td>10</td>\n",
              "      <td>2006</td>\n",
              "      <td>WD</td>\n",
              "      <td>Normal</td>\n",
              "      <td>90000</td>\n",
              "    </tr>\n",
              "    <tr>\n",
              "      <th>18</th>\n",
              "      <td>19</td>\n",
              "      <td>20</td>\n",
              "      <td>RL</td>\n",
              "      <td>66.0</td>\n",
              "      <td>13695</td>\n",
              "      <td>Pave</td>\n",
              "      <td>NaN</td>\n",
              "      <td>Reg</td>\n",
              "      <td>Lvl</td>\n",
              "      <td>AllPub</td>\n",
              "      <td>...</td>\n",
              "      <td>0</td>\n",
              "      <td>NaN</td>\n",
              "      <td>NaN</td>\n",
              "      <td>NaN</td>\n",
              "      <td>0</td>\n",
              "      <td>6</td>\n",
              "      <td>2008</td>\n",
              "      <td>WD</td>\n",
              "      <td>Normal</td>\n",
              "      <td>159000</td>\n",
              "    </tr>\n",
              "    <tr>\n",
              "      <th>19</th>\n",
              "      <td>20</td>\n",
              "      <td>20</td>\n",
              "      <td>RL</td>\n",
              "      <td>70.0</td>\n",
              "      <td>7560</td>\n",
              "      <td>Pave</td>\n",
              "      <td>NaN</td>\n",
              "      <td>Reg</td>\n",
              "      <td>Lvl</td>\n",
              "      <td>AllPub</td>\n",
              "      <td>...</td>\n",
              "      <td>0</td>\n",
              "      <td>NaN</td>\n",
              "      <td>MnPrv</td>\n",
              "      <td>NaN</td>\n",
              "      <td>0</td>\n",
              "      <td>5</td>\n",
              "      <td>2009</td>\n",
              "      <td>COD</td>\n",
              "      <td>Abnorml</td>\n",
              "      <td>139000</td>\n",
              "    </tr>\n",
              "  </tbody>\n",
              "</table>\n",
              "<p>20 rows × 81 columns</p>\n",
              "</div>"
            ],
            "text/plain": [
              "    Id  MSSubClass MSZoning  LotFrontage  LotArea Street Alley LotShape  \\\n",
              "0    1          60       RL         65.0     8450   Pave   NaN      Reg   \n",
              "1    2          20       RL         80.0     9600   Pave   NaN      Reg   \n",
              "2    3          60       RL         68.0    11250   Pave   NaN      IR1   \n",
              "3    4          70       RL         60.0     9550   Pave   NaN      IR1   \n",
              "4    5          60       RL         84.0    14260   Pave   NaN      IR1   \n",
              "5    6          50       RL         85.0    14115   Pave   NaN      IR1   \n",
              "6    7          20       RL         75.0    10084   Pave   NaN      Reg   \n",
              "7    8          60       RL          NaN    10382   Pave   NaN      IR1   \n",
              "8    9          50       RM         51.0     6120   Pave   NaN      Reg   \n",
              "9   10         190       RL         50.0     7420   Pave   NaN      Reg   \n",
              "10  11          20       RL         70.0    11200   Pave   NaN      Reg   \n",
              "11  12          60       RL         85.0    11924   Pave   NaN      IR1   \n",
              "12  13          20       RL          NaN    12968   Pave   NaN      IR2   \n",
              "13  14          20       RL         91.0    10652   Pave   NaN      IR1   \n",
              "14  15          20       RL          NaN    10920   Pave   NaN      IR1   \n",
              "15  16          45       RM         51.0     6120   Pave   NaN      Reg   \n",
              "16  17          20       RL          NaN    11241   Pave   NaN      IR1   \n",
              "17  18          90       RL         72.0    10791   Pave   NaN      Reg   \n",
              "18  19          20       RL         66.0    13695   Pave   NaN      Reg   \n",
              "19  20          20       RL         70.0     7560   Pave   NaN      Reg   \n",
              "\n",
              "   LandContour Utilities    ...     PoolArea PoolQC  Fence MiscFeature  \\\n",
              "0          Lvl    AllPub    ...            0    NaN    NaN         NaN   \n",
              "1          Lvl    AllPub    ...            0    NaN    NaN         NaN   \n",
              "2          Lvl    AllPub    ...            0    NaN    NaN         NaN   \n",
              "3          Lvl    AllPub    ...            0    NaN    NaN         NaN   \n",
              "4          Lvl    AllPub    ...            0    NaN    NaN         NaN   \n",
              "5          Lvl    AllPub    ...            0    NaN  MnPrv        Shed   \n",
              "6          Lvl    AllPub    ...            0    NaN    NaN         NaN   \n",
              "7          Lvl    AllPub    ...            0    NaN    NaN        Shed   \n",
              "8          Lvl    AllPub    ...            0    NaN    NaN         NaN   \n",
              "9          Lvl    AllPub    ...            0    NaN    NaN         NaN   \n",
              "10         Lvl    AllPub    ...            0    NaN    NaN         NaN   \n",
              "11         Lvl    AllPub    ...            0    NaN    NaN         NaN   \n",
              "12         Lvl    AllPub    ...            0    NaN    NaN         NaN   \n",
              "13         Lvl    AllPub    ...            0    NaN    NaN         NaN   \n",
              "14         Lvl    AllPub    ...            0    NaN   GdWo         NaN   \n",
              "15         Lvl    AllPub    ...            0    NaN  GdPrv         NaN   \n",
              "16         Lvl    AllPub    ...            0    NaN    NaN        Shed   \n",
              "17         Lvl    AllPub    ...            0    NaN    NaN        Shed   \n",
              "18         Lvl    AllPub    ...            0    NaN    NaN         NaN   \n",
              "19         Lvl    AllPub    ...            0    NaN  MnPrv         NaN   \n",
              "\n",
              "   MiscVal MoSold YrSold  SaleType  SaleCondition  SalePrice  \n",
              "0        0      2   2008        WD         Normal     208500  \n",
              "1        0      5   2007        WD         Normal     181500  \n",
              "2        0      9   2008        WD         Normal     223500  \n",
              "3        0      2   2006        WD        Abnorml     140000  \n",
              "4        0     12   2008        WD         Normal     250000  \n",
              "5      700     10   2009        WD         Normal     143000  \n",
              "6        0      8   2007        WD         Normal     307000  \n",
              "7      350     11   2009        WD         Normal     200000  \n",
              "8        0      4   2008        WD        Abnorml     129900  \n",
              "9        0      1   2008        WD         Normal     118000  \n",
              "10       0      2   2008        WD         Normal     129500  \n",
              "11       0      7   2006       New        Partial     345000  \n",
              "12       0      9   2008        WD         Normal     144000  \n",
              "13       0      8   2007       New        Partial     279500  \n",
              "14       0      5   2008        WD         Normal     157000  \n",
              "15       0      7   2007        WD         Normal     132000  \n",
              "16     700      3   2010        WD         Normal     149000  \n",
              "17     500     10   2006        WD         Normal      90000  \n",
              "18       0      6   2008        WD         Normal     159000  \n",
              "19       0      5   2009       COD        Abnorml     139000  \n",
              "\n",
              "[20 rows x 81 columns]"
            ]
          },
          "metadata": {
            "tags": []
          },
          "execution_count": 137
        }
      ]
    },
    {
      "metadata": {
        "id": "rAwJ_VcusDLg",
        "colab_type": "text"
      },
      "cell_type": "markdown",
      "source": [
        "De fem siste elementene"
      ]
    },
    {
      "metadata": {
        "id": "r1hIBvu2RDLm",
        "colab_type": "code",
        "colab": {
          "base_uri": "https://localhost:8080/",
          "height": 244
        },
        "outputId": "3acd3c75-d33f-49ef-e8e6-902236ffc8c2"
      },
      "cell_type": "code",
      "source": [
        "data.tail(5)"
      ],
      "execution_count": 7,
      "outputs": [
        {
          "output_type": "execute_result",
          "data": {
            "text/html": [
              "<div>\n",
              "<style scoped>\n",
              "    .dataframe tbody tr th:only-of-type {\n",
              "        vertical-align: middle;\n",
              "    }\n",
              "\n",
              "    .dataframe tbody tr th {\n",
              "        vertical-align: top;\n",
              "    }\n",
              "\n",
              "    .dataframe thead th {\n",
              "        text-align: right;\n",
              "    }\n",
              "</style>\n",
              "<table border=\"1\" class=\"dataframe\">\n",
              "  <thead>\n",
              "    <tr style=\"text-align: right;\">\n",
              "      <th></th>\n",
              "      <th>Id</th>\n",
              "      <th>MSSubClass</th>\n",
              "      <th>MSZoning</th>\n",
              "      <th>LotFrontage</th>\n",
              "      <th>LotArea</th>\n",
              "      <th>Street</th>\n",
              "      <th>Alley</th>\n",
              "      <th>LotShape</th>\n",
              "      <th>LandContour</th>\n",
              "      <th>Utilities</th>\n",
              "      <th>...</th>\n",
              "      <th>PoolArea</th>\n",
              "      <th>PoolQC</th>\n",
              "      <th>Fence</th>\n",
              "      <th>MiscFeature</th>\n",
              "      <th>MiscVal</th>\n",
              "      <th>MoSold</th>\n",
              "      <th>YrSold</th>\n",
              "      <th>SaleType</th>\n",
              "      <th>SaleCondition</th>\n",
              "      <th>SalePrice</th>\n",
              "    </tr>\n",
              "  </thead>\n",
              "  <tbody>\n",
              "    <tr>\n",
              "      <th>1455</th>\n",
              "      <td>1456</td>\n",
              "      <td>60</td>\n",
              "      <td>RL</td>\n",
              "      <td>62.0</td>\n",
              "      <td>7917</td>\n",
              "      <td>Pave</td>\n",
              "      <td>NaN</td>\n",
              "      <td>Reg</td>\n",
              "      <td>Lvl</td>\n",
              "      <td>AllPub</td>\n",
              "      <td>...</td>\n",
              "      <td>0</td>\n",
              "      <td>NaN</td>\n",
              "      <td>NaN</td>\n",
              "      <td>NaN</td>\n",
              "      <td>0</td>\n",
              "      <td>8</td>\n",
              "      <td>2007</td>\n",
              "      <td>WD</td>\n",
              "      <td>Normal</td>\n",
              "      <td>175000</td>\n",
              "    </tr>\n",
              "    <tr>\n",
              "      <th>1456</th>\n",
              "      <td>1457</td>\n",
              "      <td>20</td>\n",
              "      <td>RL</td>\n",
              "      <td>85.0</td>\n",
              "      <td>13175</td>\n",
              "      <td>Pave</td>\n",
              "      <td>NaN</td>\n",
              "      <td>Reg</td>\n",
              "      <td>Lvl</td>\n",
              "      <td>AllPub</td>\n",
              "      <td>...</td>\n",
              "      <td>0</td>\n",
              "      <td>NaN</td>\n",
              "      <td>MnPrv</td>\n",
              "      <td>NaN</td>\n",
              "      <td>0</td>\n",
              "      <td>2</td>\n",
              "      <td>2010</td>\n",
              "      <td>WD</td>\n",
              "      <td>Normal</td>\n",
              "      <td>210000</td>\n",
              "    </tr>\n",
              "    <tr>\n",
              "      <th>1457</th>\n",
              "      <td>1458</td>\n",
              "      <td>70</td>\n",
              "      <td>RL</td>\n",
              "      <td>66.0</td>\n",
              "      <td>9042</td>\n",
              "      <td>Pave</td>\n",
              "      <td>NaN</td>\n",
              "      <td>Reg</td>\n",
              "      <td>Lvl</td>\n",
              "      <td>AllPub</td>\n",
              "      <td>...</td>\n",
              "      <td>0</td>\n",
              "      <td>NaN</td>\n",
              "      <td>GdPrv</td>\n",
              "      <td>Shed</td>\n",
              "      <td>2500</td>\n",
              "      <td>5</td>\n",
              "      <td>2010</td>\n",
              "      <td>WD</td>\n",
              "      <td>Normal</td>\n",
              "      <td>266500</td>\n",
              "    </tr>\n",
              "    <tr>\n",
              "      <th>1458</th>\n",
              "      <td>1459</td>\n",
              "      <td>20</td>\n",
              "      <td>RL</td>\n",
              "      <td>68.0</td>\n",
              "      <td>9717</td>\n",
              "      <td>Pave</td>\n",
              "      <td>NaN</td>\n",
              "      <td>Reg</td>\n",
              "      <td>Lvl</td>\n",
              "      <td>AllPub</td>\n",
              "      <td>...</td>\n",
              "      <td>0</td>\n",
              "      <td>NaN</td>\n",
              "      <td>NaN</td>\n",
              "      <td>NaN</td>\n",
              "      <td>0</td>\n",
              "      <td>4</td>\n",
              "      <td>2010</td>\n",
              "      <td>WD</td>\n",
              "      <td>Normal</td>\n",
              "      <td>142125</td>\n",
              "    </tr>\n",
              "    <tr>\n",
              "      <th>1459</th>\n",
              "      <td>1460</td>\n",
              "      <td>20</td>\n",
              "      <td>RL</td>\n",
              "      <td>75.0</td>\n",
              "      <td>9937</td>\n",
              "      <td>Pave</td>\n",
              "      <td>NaN</td>\n",
              "      <td>Reg</td>\n",
              "      <td>Lvl</td>\n",
              "      <td>AllPub</td>\n",
              "      <td>...</td>\n",
              "      <td>0</td>\n",
              "      <td>NaN</td>\n",
              "      <td>NaN</td>\n",
              "      <td>NaN</td>\n",
              "      <td>0</td>\n",
              "      <td>6</td>\n",
              "      <td>2008</td>\n",
              "      <td>WD</td>\n",
              "      <td>Normal</td>\n",
              "      <td>147500</td>\n",
              "    </tr>\n",
              "  </tbody>\n",
              "</table>\n",
              "<p>5 rows × 81 columns</p>\n",
              "</div>"
            ],
            "text/plain": [
              "        Id  MSSubClass MSZoning  LotFrontage  LotArea Street Alley LotShape  \\\n",
              "1455  1456          60       RL         62.0     7917   Pave   NaN      Reg   \n",
              "1456  1457          20       RL         85.0    13175   Pave   NaN      Reg   \n",
              "1457  1458          70       RL         66.0     9042   Pave   NaN      Reg   \n",
              "1458  1459          20       RL         68.0     9717   Pave   NaN      Reg   \n",
              "1459  1460          20       RL         75.0     9937   Pave   NaN      Reg   \n",
              "\n",
              "     LandContour Utilities    ...     PoolArea PoolQC  Fence MiscFeature  \\\n",
              "1455         Lvl    AllPub    ...            0    NaN    NaN         NaN   \n",
              "1456         Lvl    AllPub    ...            0    NaN  MnPrv         NaN   \n",
              "1457         Lvl    AllPub    ...            0    NaN  GdPrv        Shed   \n",
              "1458         Lvl    AllPub    ...            0    NaN    NaN         NaN   \n",
              "1459         Lvl    AllPub    ...            0    NaN    NaN         NaN   \n",
              "\n",
              "     MiscVal MoSold YrSold  SaleType  SaleCondition  SalePrice  \n",
              "1455       0      8   2007        WD         Normal     175000  \n",
              "1456       0      2   2010        WD         Normal     210000  \n",
              "1457    2500      5   2010        WD         Normal     266500  \n",
              "1458       0      4   2010        WD         Normal     142125  \n",
              "1459       0      6   2008        WD         Normal     147500  \n",
              "\n",
              "[5 rows x 81 columns]"
            ]
          },
          "metadata": {
            "tags": []
          },
          "execution_count": 7
        }
      ]
    },
    {
      "metadata": {
        "id": "AONVtkIr-xaH",
        "colab_type": "text"
      },
      "cell_type": "markdown",
      "source": [
        "Med pandas kan man få en statistisk oversikt over datasettet, for eksempel kan vi se hva gjennomsnittlig salgspris for boliger er. Merk at oversiktet er kun over numeriske features."
      ]
    },
    {
      "metadata": {
        "id": "AGVrC79uREgA",
        "colab_type": "code",
        "colab": {
          "base_uri": "https://localhost:8080/",
          "height": 333
        },
        "outputId": "6bf722a8-fb61-4027-8758-1237d0ceab8c"
      },
      "cell_type": "code",
      "source": [
        "data.describe()"
      ],
      "execution_count": 8,
      "outputs": [
        {
          "output_type": "execute_result",
          "data": {
            "text/html": [
              "<div>\n",
              "<style scoped>\n",
              "    .dataframe tbody tr th:only-of-type {\n",
              "        vertical-align: middle;\n",
              "    }\n",
              "\n",
              "    .dataframe tbody tr th {\n",
              "        vertical-align: top;\n",
              "    }\n",
              "\n",
              "    .dataframe thead th {\n",
              "        text-align: right;\n",
              "    }\n",
              "</style>\n",
              "<table border=\"1\" class=\"dataframe\">\n",
              "  <thead>\n",
              "    <tr style=\"text-align: right;\">\n",
              "      <th></th>\n",
              "      <th>Id</th>\n",
              "      <th>MSSubClass</th>\n",
              "      <th>LotFrontage</th>\n",
              "      <th>LotArea</th>\n",
              "      <th>OverallQual</th>\n",
              "      <th>OverallCond</th>\n",
              "      <th>YearBuilt</th>\n",
              "      <th>YearRemodAdd</th>\n",
              "      <th>MasVnrArea</th>\n",
              "      <th>BsmtFinSF1</th>\n",
              "      <th>...</th>\n",
              "      <th>WoodDeckSF</th>\n",
              "      <th>OpenPorchSF</th>\n",
              "      <th>EnclosedPorch</th>\n",
              "      <th>3SsnPorch</th>\n",
              "      <th>ScreenPorch</th>\n",
              "      <th>PoolArea</th>\n",
              "      <th>MiscVal</th>\n",
              "      <th>MoSold</th>\n",
              "      <th>YrSold</th>\n",
              "      <th>SalePrice</th>\n",
              "    </tr>\n",
              "  </thead>\n",
              "  <tbody>\n",
              "    <tr>\n",
              "      <th>count</th>\n",
              "      <td>1460.000000</td>\n",
              "      <td>1460.000000</td>\n",
              "      <td>1201.000000</td>\n",
              "      <td>1460.000000</td>\n",
              "      <td>1460.000000</td>\n",
              "      <td>1460.000000</td>\n",
              "      <td>1460.000000</td>\n",
              "      <td>1460.000000</td>\n",
              "      <td>1452.000000</td>\n",
              "      <td>1460.000000</td>\n",
              "      <td>...</td>\n",
              "      <td>1460.000000</td>\n",
              "      <td>1460.000000</td>\n",
              "      <td>1460.000000</td>\n",
              "      <td>1460.000000</td>\n",
              "      <td>1460.000000</td>\n",
              "      <td>1460.000000</td>\n",
              "      <td>1460.000000</td>\n",
              "      <td>1460.000000</td>\n",
              "      <td>1460.000000</td>\n",
              "      <td>1460.000000</td>\n",
              "    </tr>\n",
              "    <tr>\n",
              "      <th>mean</th>\n",
              "      <td>730.500000</td>\n",
              "      <td>56.897260</td>\n",
              "      <td>70.049958</td>\n",
              "      <td>10516.828082</td>\n",
              "      <td>6.099315</td>\n",
              "      <td>5.575342</td>\n",
              "      <td>1971.267808</td>\n",
              "      <td>1984.865753</td>\n",
              "      <td>103.685262</td>\n",
              "      <td>443.639726</td>\n",
              "      <td>...</td>\n",
              "      <td>94.244521</td>\n",
              "      <td>46.660274</td>\n",
              "      <td>21.954110</td>\n",
              "      <td>3.409589</td>\n",
              "      <td>15.060959</td>\n",
              "      <td>2.758904</td>\n",
              "      <td>43.489041</td>\n",
              "      <td>6.321918</td>\n",
              "      <td>2007.815753</td>\n",
              "      <td>180921.195890</td>\n",
              "    </tr>\n",
              "    <tr>\n",
              "      <th>std</th>\n",
              "      <td>421.610009</td>\n",
              "      <td>42.300571</td>\n",
              "      <td>24.284752</td>\n",
              "      <td>9981.264932</td>\n",
              "      <td>1.382997</td>\n",
              "      <td>1.112799</td>\n",
              "      <td>30.202904</td>\n",
              "      <td>20.645407</td>\n",
              "      <td>181.066207</td>\n",
              "      <td>456.098091</td>\n",
              "      <td>...</td>\n",
              "      <td>125.338794</td>\n",
              "      <td>66.256028</td>\n",
              "      <td>61.119149</td>\n",
              "      <td>29.317331</td>\n",
              "      <td>55.757415</td>\n",
              "      <td>40.177307</td>\n",
              "      <td>496.123024</td>\n",
              "      <td>2.703626</td>\n",
              "      <td>1.328095</td>\n",
              "      <td>79442.502883</td>\n",
              "    </tr>\n",
              "    <tr>\n",
              "      <th>min</th>\n",
              "      <td>1.000000</td>\n",
              "      <td>20.000000</td>\n",
              "      <td>21.000000</td>\n",
              "      <td>1300.000000</td>\n",
              "      <td>1.000000</td>\n",
              "      <td>1.000000</td>\n",
              "      <td>1872.000000</td>\n",
              "      <td>1950.000000</td>\n",
              "      <td>0.000000</td>\n",
              "      <td>0.000000</td>\n",
              "      <td>...</td>\n",
              "      <td>0.000000</td>\n",
              "      <td>0.000000</td>\n",
              "      <td>0.000000</td>\n",
              "      <td>0.000000</td>\n",
              "      <td>0.000000</td>\n",
              "      <td>0.000000</td>\n",
              "      <td>0.000000</td>\n",
              "      <td>1.000000</td>\n",
              "      <td>2006.000000</td>\n",
              "      <td>34900.000000</td>\n",
              "    </tr>\n",
              "    <tr>\n",
              "      <th>25%</th>\n",
              "      <td>365.750000</td>\n",
              "      <td>20.000000</td>\n",
              "      <td>59.000000</td>\n",
              "      <td>7553.500000</td>\n",
              "      <td>5.000000</td>\n",
              "      <td>5.000000</td>\n",
              "      <td>1954.000000</td>\n",
              "      <td>1967.000000</td>\n",
              "      <td>0.000000</td>\n",
              "      <td>0.000000</td>\n",
              "      <td>...</td>\n",
              "      <td>0.000000</td>\n",
              "      <td>0.000000</td>\n",
              "      <td>0.000000</td>\n",
              "      <td>0.000000</td>\n",
              "      <td>0.000000</td>\n",
              "      <td>0.000000</td>\n",
              "      <td>0.000000</td>\n",
              "      <td>5.000000</td>\n",
              "      <td>2007.000000</td>\n",
              "      <td>129975.000000</td>\n",
              "    </tr>\n",
              "    <tr>\n",
              "      <th>50%</th>\n",
              "      <td>730.500000</td>\n",
              "      <td>50.000000</td>\n",
              "      <td>69.000000</td>\n",
              "      <td>9478.500000</td>\n",
              "      <td>6.000000</td>\n",
              "      <td>5.000000</td>\n",
              "      <td>1973.000000</td>\n",
              "      <td>1994.000000</td>\n",
              "      <td>0.000000</td>\n",
              "      <td>383.500000</td>\n",
              "      <td>...</td>\n",
              "      <td>0.000000</td>\n",
              "      <td>25.000000</td>\n",
              "      <td>0.000000</td>\n",
              "      <td>0.000000</td>\n",
              "      <td>0.000000</td>\n",
              "      <td>0.000000</td>\n",
              "      <td>0.000000</td>\n",
              "      <td>6.000000</td>\n",
              "      <td>2008.000000</td>\n",
              "      <td>163000.000000</td>\n",
              "    </tr>\n",
              "    <tr>\n",
              "      <th>75%</th>\n",
              "      <td>1095.250000</td>\n",
              "      <td>70.000000</td>\n",
              "      <td>80.000000</td>\n",
              "      <td>11601.500000</td>\n",
              "      <td>7.000000</td>\n",
              "      <td>6.000000</td>\n",
              "      <td>2000.000000</td>\n",
              "      <td>2004.000000</td>\n",
              "      <td>166.000000</td>\n",
              "      <td>712.250000</td>\n",
              "      <td>...</td>\n",
              "      <td>168.000000</td>\n",
              "      <td>68.000000</td>\n",
              "      <td>0.000000</td>\n",
              "      <td>0.000000</td>\n",
              "      <td>0.000000</td>\n",
              "      <td>0.000000</td>\n",
              "      <td>0.000000</td>\n",
              "      <td>8.000000</td>\n",
              "      <td>2009.000000</td>\n",
              "      <td>214000.000000</td>\n",
              "    </tr>\n",
              "    <tr>\n",
              "      <th>max</th>\n",
              "      <td>1460.000000</td>\n",
              "      <td>190.000000</td>\n",
              "      <td>313.000000</td>\n",
              "      <td>215245.000000</td>\n",
              "      <td>10.000000</td>\n",
              "      <td>9.000000</td>\n",
              "      <td>2010.000000</td>\n",
              "      <td>2010.000000</td>\n",
              "      <td>1600.000000</td>\n",
              "      <td>5644.000000</td>\n",
              "      <td>...</td>\n",
              "      <td>857.000000</td>\n",
              "      <td>547.000000</td>\n",
              "      <td>552.000000</td>\n",
              "      <td>508.000000</td>\n",
              "      <td>480.000000</td>\n",
              "      <td>738.000000</td>\n",
              "      <td>15500.000000</td>\n",
              "      <td>12.000000</td>\n",
              "      <td>2010.000000</td>\n",
              "      <td>755000.000000</td>\n",
              "    </tr>\n",
              "  </tbody>\n",
              "</table>\n",
              "<p>8 rows × 38 columns</p>\n",
              "</div>"
            ],
            "text/plain": [
              "                Id   MSSubClass  LotFrontage        LotArea  OverallQual  \\\n",
              "count  1460.000000  1460.000000  1201.000000    1460.000000  1460.000000   \n",
              "mean    730.500000    56.897260    70.049958   10516.828082     6.099315   \n",
              "std     421.610009    42.300571    24.284752    9981.264932     1.382997   \n",
              "min       1.000000    20.000000    21.000000    1300.000000     1.000000   \n",
              "25%     365.750000    20.000000    59.000000    7553.500000     5.000000   \n",
              "50%     730.500000    50.000000    69.000000    9478.500000     6.000000   \n",
              "75%    1095.250000    70.000000    80.000000   11601.500000     7.000000   \n",
              "max    1460.000000   190.000000   313.000000  215245.000000    10.000000   \n",
              "\n",
              "       OverallCond    YearBuilt  YearRemodAdd   MasVnrArea   BsmtFinSF1  \\\n",
              "count  1460.000000  1460.000000   1460.000000  1452.000000  1460.000000   \n",
              "mean      5.575342  1971.267808   1984.865753   103.685262   443.639726   \n",
              "std       1.112799    30.202904     20.645407   181.066207   456.098091   \n",
              "min       1.000000  1872.000000   1950.000000     0.000000     0.000000   \n",
              "25%       5.000000  1954.000000   1967.000000     0.000000     0.000000   \n",
              "50%       5.000000  1973.000000   1994.000000     0.000000   383.500000   \n",
              "75%       6.000000  2000.000000   2004.000000   166.000000   712.250000   \n",
              "max       9.000000  2010.000000   2010.000000  1600.000000  5644.000000   \n",
              "\n",
              "           ...         WoodDeckSF  OpenPorchSF  EnclosedPorch    3SsnPorch  \\\n",
              "count      ...        1460.000000  1460.000000    1460.000000  1460.000000   \n",
              "mean       ...          94.244521    46.660274      21.954110     3.409589   \n",
              "std        ...         125.338794    66.256028      61.119149    29.317331   \n",
              "min        ...           0.000000     0.000000       0.000000     0.000000   \n",
              "25%        ...           0.000000     0.000000       0.000000     0.000000   \n",
              "50%        ...           0.000000    25.000000       0.000000     0.000000   \n",
              "75%        ...         168.000000    68.000000       0.000000     0.000000   \n",
              "max        ...         857.000000   547.000000     552.000000   508.000000   \n",
              "\n",
              "       ScreenPorch     PoolArea       MiscVal       MoSold       YrSold  \\\n",
              "count  1460.000000  1460.000000   1460.000000  1460.000000  1460.000000   \n",
              "mean     15.060959     2.758904     43.489041     6.321918  2007.815753   \n",
              "std      55.757415    40.177307    496.123024     2.703626     1.328095   \n",
              "min       0.000000     0.000000      0.000000     1.000000  2006.000000   \n",
              "25%       0.000000     0.000000      0.000000     5.000000  2007.000000   \n",
              "50%       0.000000     0.000000      0.000000     6.000000  2008.000000   \n",
              "75%       0.000000     0.000000      0.000000     8.000000  2009.000000   \n",
              "max     480.000000   738.000000  15500.000000    12.000000  2010.000000   \n",
              "\n",
              "           SalePrice  \n",
              "count    1460.000000  \n",
              "mean   180921.195890  \n",
              "std     79442.502883  \n",
              "min     34900.000000  \n",
              "25%    129975.000000  \n",
              "50%    163000.000000  \n",
              "75%    214000.000000  \n",
              "max    755000.000000  \n",
              "\n",
              "[8 rows x 38 columns]"
            ]
          },
          "metadata": {
            "tags": []
          },
          "execution_count": 8
        }
      ]
    },
    {
      "metadata": {
        "id": "NiqSUdFXtvv-",
        "colab_type": "text"
      },
      "cell_type": "markdown",
      "source": [
        "Pandas kan også gi info om hva slags data som er lagret i datasettet, og hvor mange instanser det er i hver kolonne."
      ]
    },
    {
      "metadata": {
        "id": "2r-HQcObR72m",
        "colab_type": "code",
        "colab": {
          "base_uri": "https://localhost:8080/",
          "height": 1495
        },
        "outputId": "327bfc34-34f3-4f48-9ad1-b4a072c56a3e"
      },
      "cell_type": "code",
      "source": [
        "data.info()\n",
        "print('\\n Lengde på data: {}'.format(len(data)))"
      ],
      "execution_count": 11,
      "outputs": [
        {
          "output_type": "stream",
          "text": [
            "<class 'pandas.core.frame.DataFrame'>\n",
            "RangeIndex: 1460 entries, 0 to 1459\n",
            "Data columns (total 81 columns):\n",
            "Id               1460 non-null int64\n",
            "MSSubClass       1460 non-null int64\n",
            "MSZoning         1460 non-null object\n",
            "LotFrontage      1201 non-null float64\n",
            "LotArea          1460 non-null int64\n",
            "Street           1460 non-null object\n",
            "Alley            91 non-null object\n",
            "LotShape         1460 non-null object\n",
            "LandContour      1460 non-null object\n",
            "Utilities        1460 non-null object\n",
            "LotConfig        1460 non-null object\n",
            "LandSlope        1460 non-null object\n",
            "Neighborhood     1460 non-null object\n",
            "Condition1       1460 non-null object\n",
            "Condition2       1460 non-null object\n",
            "BldgType         1460 non-null object\n",
            "HouseStyle       1460 non-null object\n",
            "OverallQual      1460 non-null int64\n",
            "OverallCond      1460 non-null int64\n",
            "YearBuilt        1460 non-null int64\n",
            "YearRemodAdd     1460 non-null int64\n",
            "RoofStyle        1460 non-null object\n",
            "RoofMatl         1460 non-null object\n",
            "Exterior1st      1460 non-null object\n",
            "Exterior2nd      1460 non-null object\n",
            "MasVnrType       1452 non-null object\n",
            "MasVnrArea       1452 non-null float64\n",
            "ExterQual        1460 non-null object\n",
            "ExterCond        1460 non-null object\n",
            "Foundation       1460 non-null object\n",
            "BsmtQual         1423 non-null object\n",
            "BsmtCond         1423 non-null object\n",
            "BsmtExposure     1422 non-null object\n",
            "BsmtFinType1     1423 non-null object\n",
            "BsmtFinSF1       1460 non-null int64\n",
            "BsmtFinType2     1422 non-null object\n",
            "BsmtFinSF2       1460 non-null int64\n",
            "BsmtUnfSF        1460 non-null int64\n",
            "TotalBsmtSF      1460 non-null int64\n",
            "Heating          1460 non-null object\n",
            "HeatingQC        1460 non-null object\n",
            "CentralAir       1460 non-null object\n",
            "Electrical       1459 non-null object\n",
            "1stFlrSF         1460 non-null int64\n",
            "2ndFlrSF         1460 non-null int64\n",
            "LowQualFinSF     1460 non-null int64\n",
            "GrLivArea        1460 non-null int64\n",
            "BsmtFullBath     1460 non-null int64\n",
            "BsmtHalfBath     1460 non-null int64\n",
            "FullBath         1460 non-null int64\n",
            "HalfBath         1460 non-null int64\n",
            "BedroomAbvGr     1460 non-null int64\n",
            "KitchenAbvGr     1460 non-null int64\n",
            "KitchenQual      1460 non-null object\n",
            "TotRmsAbvGrd     1460 non-null int64\n",
            "Functional       1460 non-null object\n",
            "Fireplaces       1460 non-null int64\n",
            "FireplaceQu      770 non-null object\n",
            "GarageType       1379 non-null object\n",
            "GarageYrBlt      1379 non-null float64\n",
            "GarageFinish     1379 non-null object\n",
            "GarageCars       1460 non-null int64\n",
            "GarageArea       1460 non-null int64\n",
            "GarageQual       1379 non-null object\n",
            "GarageCond       1379 non-null object\n",
            "PavedDrive       1460 non-null object\n",
            "WoodDeckSF       1460 non-null int64\n",
            "OpenPorchSF      1460 non-null int64\n",
            "EnclosedPorch    1460 non-null int64\n",
            "3SsnPorch        1460 non-null int64\n",
            "ScreenPorch      1460 non-null int64\n",
            "PoolArea         1460 non-null int64\n",
            "PoolQC           7 non-null object\n",
            "Fence            281 non-null object\n",
            "MiscFeature      54 non-null object\n",
            "MiscVal          1460 non-null int64\n",
            "MoSold           1460 non-null int64\n",
            "YrSold           1460 non-null int64\n",
            "SaleType         1460 non-null object\n",
            "SaleCondition    1460 non-null object\n",
            "SalePrice        1460 non-null int64\n",
            "dtypes: float64(3), int64(35), object(43)\n",
            "memory usage: 924.0+ KB\n",
            "\n",
            " Lengde på data: 1460\n"
          ],
          "name": "stdout"
        }
      ]
    },
    {
      "metadata": {
        "id": "rqWAijVQoCDp",
        "colab_type": "text"
      },
      "cell_type": "markdown",
      "source": [
        "Alle kolonnenavn kan også skrives rett ut"
      ]
    },
    {
      "metadata": {
        "id": "bHfl_nCCoNLO",
        "colab_type": "code",
        "colab": {
          "base_uri": "https://localhost:8080/",
          "height": 319
        },
        "outputId": "38aaa19c-a28c-4812-efa7-4d4949662b84"
      },
      "cell_type": "code",
      "source": [
        "print(data.columns)"
      ],
      "execution_count": 124,
      "outputs": [
        {
          "output_type": "stream",
          "text": [
            "Index(['Id', 'MSSubClass', 'MSZoning', 'LotFrontage', 'LotArea', 'Street',\n",
            "       'Alley', 'LotShape', 'LandContour', 'Utilities', 'LotConfig',\n",
            "       'LandSlope', 'Neighborhood', 'Condition1', 'Condition2', 'BldgType',\n",
            "       'HouseStyle', 'OverallQual', 'OverallCond', 'YearBuilt', 'YearRemodAdd',\n",
            "       'RoofStyle', 'RoofMatl', 'Exterior1st', 'Exterior2nd', 'MasVnrType',\n",
            "       'MasVnrArea', 'ExterQual', 'ExterCond', 'Foundation', 'BsmtQual',\n",
            "       'BsmtCond', 'BsmtExposure', 'BsmtFinType1', 'BsmtFinSF1',\n",
            "       'BsmtFinType2', 'BsmtFinSF2', 'BsmtUnfSF', 'TotalBsmtSF', 'Heating',\n",
            "       'HeatingQC', 'CentralAir', 'Electrical', '1stFlrSF', '2ndFlrSF',\n",
            "       'LowQualFinSF', 'GrLivArea', 'BsmtFullBath', 'BsmtHalfBath', 'FullBath',\n",
            "       'HalfBath', 'BedroomAbvGr', 'KitchenAbvGr', 'KitchenQual',\n",
            "       'TotRmsAbvGrd', 'Functional', 'Fireplaces', 'FireplaceQu', 'GarageType',\n",
            "       'GarageYrBlt', 'GarageFinish', 'GarageCars', 'GarageArea', 'GarageQual',\n",
            "       'GarageCond', 'PavedDrive', 'WoodDeckSF', 'OpenPorchSF',\n",
            "       'EnclosedPorch', '3SsnPorch', 'ScreenPorch', 'PoolArea', 'PoolQC',\n",
            "       'Fence', 'MiscFeature', 'MiscVal', 'MoSold', 'YrSold', 'SaleType',\n",
            "       'SaleCondition', 'SalePrice'],\n",
            "      dtype='object')\n"
          ],
          "name": "stdout"
        }
      ]
    },
    {
      "metadata": {
        "id": "WLFDGH2PfijY",
        "colab_type": "text"
      },
      "cell_type": "markdown",
      "source": [
        "Som vi kan se over er det ikke like mange verdier i de ulike måleverdiene, det vi kaller features. Det er ikke uvanlig at det mangler verdier i datasettet. Vi kan sjekke hvilke features som mangler en eller flere verdier med pandas."
      ]
    },
    {
      "metadata": {
        "id": "nBnrfyyqfepB",
        "colab_type": "code",
        "colab": {
          "base_uri": "https://localhost:8080/",
          "height": 1058
        },
        "outputId": "696bf93e-95e9-48c8-bf50-f6b6f1877a2b"
      },
      "cell_type": "code",
      "source": [
        "print(data.isnull().any())"
      ],
      "execution_count": 12,
      "outputs": [
        {
          "output_type": "stream",
          "text": [
            "Id               False\n",
            "MSSubClass       False\n",
            "MSZoning         False\n",
            "LotFrontage       True\n",
            "LotArea          False\n",
            "Street           False\n",
            "Alley             True\n",
            "LotShape         False\n",
            "LandContour      False\n",
            "Utilities        False\n",
            "LotConfig        False\n",
            "LandSlope        False\n",
            "Neighborhood     False\n",
            "Condition1       False\n",
            "Condition2       False\n",
            "BldgType         False\n",
            "HouseStyle       False\n",
            "OverallQual      False\n",
            "OverallCond      False\n",
            "YearBuilt        False\n",
            "YearRemodAdd     False\n",
            "RoofStyle        False\n",
            "RoofMatl         False\n",
            "Exterior1st      False\n",
            "Exterior2nd      False\n",
            "MasVnrType        True\n",
            "MasVnrArea        True\n",
            "ExterQual        False\n",
            "ExterCond        False\n",
            "Foundation       False\n",
            "                 ...  \n",
            "BedroomAbvGr     False\n",
            "KitchenAbvGr     False\n",
            "KitchenQual      False\n",
            "TotRmsAbvGrd     False\n",
            "Functional       False\n",
            "Fireplaces       False\n",
            "FireplaceQu       True\n",
            "GarageType        True\n",
            "GarageYrBlt       True\n",
            "GarageFinish      True\n",
            "GarageCars       False\n",
            "GarageArea       False\n",
            "GarageQual        True\n",
            "GarageCond        True\n",
            "PavedDrive       False\n",
            "WoodDeckSF       False\n",
            "OpenPorchSF      False\n",
            "EnclosedPorch    False\n",
            "3SsnPorch        False\n",
            "ScreenPorch      False\n",
            "PoolArea         False\n",
            "PoolQC            True\n",
            "Fence             True\n",
            "MiscFeature       True\n",
            "MiscVal          False\n",
            "MoSold           False\n",
            "YrSold           False\n",
            "SaleType         False\n",
            "SaleCondition    False\n",
            "SalePrice        False\n",
            "Length: 81, dtype: bool\n"
          ],
          "name": "stdout"
        }
      ]
    },
    {
      "metadata": {
        "id": "mkjlOaUyk_gF",
        "colab_type": "text"
      },
      "cell_type": "markdown",
      "source": [
        "![alt text](https://)En vanlig måte å håndtere manglende verdier på er å fjerne hele raden om den mangler en eller flere verdier. I vårt tilfelle vil det fjerne nesten hele datasettet, siden featuren med mest manglende verdier inneholder kun 7 verdier, kvalitet på badebasseng. Vi kan simpelthen ikke gjette på dette, så det beste vil være å ekskludere denne featuren helt.\n",
        "\n",
        "Pandas lar deg hente ut spesifikke kolonner, noe som gjør det mulig å trekke ut dataen du ønsker og ekskludere data av dårlig kvalitet"
      ]
    },
    {
      "metadata": {
        "id": "vKHvOqcLceTk",
        "colab_type": "code",
        "colab": {
          "base_uri": "https://localhost:8080/",
          "height": 202
        },
        "outputId": "445fdef8-16e1-4f7f-d6a4-e38b48ff3c03"
      },
      "cell_type": "code",
      "source": [
        "\n",
        "data_ÅrSolgt = data['YrSold']\n",
        "data_ÅrSolgt.head(10)"
      ],
      "execution_count": 13,
      "outputs": [
        {
          "output_type": "execute_result",
          "data": {
            "text/plain": [
              "0    2008\n",
              "1    2007\n",
              "2    2008\n",
              "3    2006\n",
              "4    2008\n",
              "5    2009\n",
              "6    2007\n",
              "7    2009\n",
              "8    2008\n",
              "9    2008\n",
              "Name: YrSold, dtype: int64"
            ]
          },
          "metadata": {
            "tags": []
          },
          "execution_count": 13
        }
      ]
    },
    {
      "metadata": {
        "id": "KjXJjTq6wXb5",
        "colab_type": "text"
      },
      "cell_type": "markdown",
      "source": [
        "man kan også filtrere ut spesifikk data, som for eksempel alle boliger solgt i 2008"
      ]
    },
    {
      "metadata": {
        "id": "HUI_vBp7AZe9",
        "colab_type": "code",
        "colab": {
          "base_uri": "https://localhost:8080/",
          "height": 392
        },
        "outputId": "0cc1a639-c432-49e5-987c-c2660e638bfc"
      },
      "cell_type": "code",
      "source": [
        "data_Solgt2008 = data[data['YrSold'] == 2008]\n",
        "data_Solgt2008.head(10)"
      ],
      "execution_count": 14,
      "outputs": [
        {
          "output_type": "execute_result",
          "data": {
            "text/html": [
              "<div>\n",
              "<style scoped>\n",
              "    .dataframe tbody tr th:only-of-type {\n",
              "        vertical-align: middle;\n",
              "    }\n",
              "\n",
              "    .dataframe tbody tr th {\n",
              "        vertical-align: top;\n",
              "    }\n",
              "\n",
              "    .dataframe thead th {\n",
              "        text-align: right;\n",
              "    }\n",
              "</style>\n",
              "<table border=\"1\" class=\"dataframe\">\n",
              "  <thead>\n",
              "    <tr style=\"text-align: right;\">\n",
              "      <th></th>\n",
              "      <th>Id</th>\n",
              "      <th>MSSubClass</th>\n",
              "      <th>MSZoning</th>\n",
              "      <th>LotFrontage</th>\n",
              "      <th>LotArea</th>\n",
              "      <th>Street</th>\n",
              "      <th>Alley</th>\n",
              "      <th>LotShape</th>\n",
              "      <th>LandContour</th>\n",
              "      <th>Utilities</th>\n",
              "      <th>...</th>\n",
              "      <th>PoolArea</th>\n",
              "      <th>PoolQC</th>\n",
              "      <th>Fence</th>\n",
              "      <th>MiscFeature</th>\n",
              "      <th>MiscVal</th>\n",
              "      <th>MoSold</th>\n",
              "      <th>YrSold</th>\n",
              "      <th>SaleType</th>\n",
              "      <th>SaleCondition</th>\n",
              "      <th>SalePrice</th>\n",
              "    </tr>\n",
              "  </thead>\n",
              "  <tbody>\n",
              "    <tr>\n",
              "      <th>0</th>\n",
              "      <td>1</td>\n",
              "      <td>60</td>\n",
              "      <td>RL</td>\n",
              "      <td>65.0</td>\n",
              "      <td>8450</td>\n",
              "      <td>Pave</td>\n",
              "      <td>NaN</td>\n",
              "      <td>Reg</td>\n",
              "      <td>Lvl</td>\n",
              "      <td>AllPub</td>\n",
              "      <td>...</td>\n",
              "      <td>0</td>\n",
              "      <td>NaN</td>\n",
              "      <td>NaN</td>\n",
              "      <td>NaN</td>\n",
              "      <td>0</td>\n",
              "      <td>2</td>\n",
              "      <td>2008</td>\n",
              "      <td>WD</td>\n",
              "      <td>Normal</td>\n",
              "      <td>208500</td>\n",
              "    </tr>\n",
              "    <tr>\n",
              "      <th>2</th>\n",
              "      <td>3</td>\n",
              "      <td>60</td>\n",
              "      <td>RL</td>\n",
              "      <td>68.0</td>\n",
              "      <td>11250</td>\n",
              "      <td>Pave</td>\n",
              "      <td>NaN</td>\n",
              "      <td>IR1</td>\n",
              "      <td>Lvl</td>\n",
              "      <td>AllPub</td>\n",
              "      <td>...</td>\n",
              "      <td>0</td>\n",
              "      <td>NaN</td>\n",
              "      <td>NaN</td>\n",
              "      <td>NaN</td>\n",
              "      <td>0</td>\n",
              "      <td>9</td>\n",
              "      <td>2008</td>\n",
              "      <td>WD</td>\n",
              "      <td>Normal</td>\n",
              "      <td>223500</td>\n",
              "    </tr>\n",
              "    <tr>\n",
              "      <th>4</th>\n",
              "      <td>5</td>\n",
              "      <td>60</td>\n",
              "      <td>RL</td>\n",
              "      <td>84.0</td>\n",
              "      <td>14260</td>\n",
              "      <td>Pave</td>\n",
              "      <td>NaN</td>\n",
              "      <td>IR1</td>\n",
              "      <td>Lvl</td>\n",
              "      <td>AllPub</td>\n",
              "      <td>...</td>\n",
              "      <td>0</td>\n",
              "      <td>NaN</td>\n",
              "      <td>NaN</td>\n",
              "      <td>NaN</td>\n",
              "      <td>0</td>\n",
              "      <td>12</td>\n",
              "      <td>2008</td>\n",
              "      <td>WD</td>\n",
              "      <td>Normal</td>\n",
              "      <td>250000</td>\n",
              "    </tr>\n",
              "    <tr>\n",
              "      <th>8</th>\n",
              "      <td>9</td>\n",
              "      <td>50</td>\n",
              "      <td>RM</td>\n",
              "      <td>51.0</td>\n",
              "      <td>6120</td>\n",
              "      <td>Pave</td>\n",
              "      <td>NaN</td>\n",
              "      <td>Reg</td>\n",
              "      <td>Lvl</td>\n",
              "      <td>AllPub</td>\n",
              "      <td>...</td>\n",
              "      <td>0</td>\n",
              "      <td>NaN</td>\n",
              "      <td>NaN</td>\n",
              "      <td>NaN</td>\n",
              "      <td>0</td>\n",
              "      <td>4</td>\n",
              "      <td>2008</td>\n",
              "      <td>WD</td>\n",
              "      <td>Abnorml</td>\n",
              "      <td>129900</td>\n",
              "    </tr>\n",
              "    <tr>\n",
              "      <th>9</th>\n",
              "      <td>10</td>\n",
              "      <td>190</td>\n",
              "      <td>RL</td>\n",
              "      <td>50.0</td>\n",
              "      <td>7420</td>\n",
              "      <td>Pave</td>\n",
              "      <td>NaN</td>\n",
              "      <td>Reg</td>\n",
              "      <td>Lvl</td>\n",
              "      <td>AllPub</td>\n",
              "      <td>...</td>\n",
              "      <td>0</td>\n",
              "      <td>NaN</td>\n",
              "      <td>NaN</td>\n",
              "      <td>NaN</td>\n",
              "      <td>0</td>\n",
              "      <td>1</td>\n",
              "      <td>2008</td>\n",
              "      <td>WD</td>\n",
              "      <td>Normal</td>\n",
              "      <td>118000</td>\n",
              "    </tr>\n",
              "    <tr>\n",
              "      <th>10</th>\n",
              "      <td>11</td>\n",
              "      <td>20</td>\n",
              "      <td>RL</td>\n",
              "      <td>70.0</td>\n",
              "      <td>11200</td>\n",
              "      <td>Pave</td>\n",
              "      <td>NaN</td>\n",
              "      <td>Reg</td>\n",
              "      <td>Lvl</td>\n",
              "      <td>AllPub</td>\n",
              "      <td>...</td>\n",
              "      <td>0</td>\n",
              "      <td>NaN</td>\n",
              "      <td>NaN</td>\n",
              "      <td>NaN</td>\n",
              "      <td>0</td>\n",
              "      <td>2</td>\n",
              "      <td>2008</td>\n",
              "      <td>WD</td>\n",
              "      <td>Normal</td>\n",
              "      <td>129500</td>\n",
              "    </tr>\n",
              "    <tr>\n",
              "      <th>12</th>\n",
              "      <td>13</td>\n",
              "      <td>20</td>\n",
              "      <td>RL</td>\n",
              "      <td>NaN</td>\n",
              "      <td>12968</td>\n",
              "      <td>Pave</td>\n",
              "      <td>NaN</td>\n",
              "      <td>IR2</td>\n",
              "      <td>Lvl</td>\n",
              "      <td>AllPub</td>\n",
              "      <td>...</td>\n",
              "      <td>0</td>\n",
              "      <td>NaN</td>\n",
              "      <td>NaN</td>\n",
              "      <td>NaN</td>\n",
              "      <td>0</td>\n",
              "      <td>9</td>\n",
              "      <td>2008</td>\n",
              "      <td>WD</td>\n",
              "      <td>Normal</td>\n",
              "      <td>144000</td>\n",
              "    </tr>\n",
              "    <tr>\n",
              "      <th>14</th>\n",
              "      <td>15</td>\n",
              "      <td>20</td>\n",
              "      <td>RL</td>\n",
              "      <td>NaN</td>\n",
              "      <td>10920</td>\n",
              "      <td>Pave</td>\n",
              "      <td>NaN</td>\n",
              "      <td>IR1</td>\n",
              "      <td>Lvl</td>\n",
              "      <td>AllPub</td>\n",
              "      <td>...</td>\n",
              "      <td>0</td>\n",
              "      <td>NaN</td>\n",
              "      <td>GdWo</td>\n",
              "      <td>NaN</td>\n",
              "      <td>0</td>\n",
              "      <td>5</td>\n",
              "      <td>2008</td>\n",
              "      <td>WD</td>\n",
              "      <td>Normal</td>\n",
              "      <td>157000</td>\n",
              "    </tr>\n",
              "    <tr>\n",
              "      <th>18</th>\n",
              "      <td>19</td>\n",
              "      <td>20</td>\n",
              "      <td>RL</td>\n",
              "      <td>66.0</td>\n",
              "      <td>13695</td>\n",
              "      <td>Pave</td>\n",
              "      <td>NaN</td>\n",
              "      <td>Reg</td>\n",
              "      <td>Lvl</td>\n",
              "      <td>AllPub</td>\n",
              "      <td>...</td>\n",
              "      <td>0</td>\n",
              "      <td>NaN</td>\n",
              "      <td>NaN</td>\n",
              "      <td>NaN</td>\n",
              "      <td>0</td>\n",
              "      <td>6</td>\n",
              "      <td>2008</td>\n",
              "      <td>WD</td>\n",
              "      <td>Normal</td>\n",
              "      <td>159000</td>\n",
              "    </tr>\n",
              "    <tr>\n",
              "      <th>22</th>\n",
              "      <td>23</td>\n",
              "      <td>20</td>\n",
              "      <td>RL</td>\n",
              "      <td>75.0</td>\n",
              "      <td>9742</td>\n",
              "      <td>Pave</td>\n",
              "      <td>NaN</td>\n",
              "      <td>Reg</td>\n",
              "      <td>Lvl</td>\n",
              "      <td>AllPub</td>\n",
              "      <td>...</td>\n",
              "      <td>0</td>\n",
              "      <td>NaN</td>\n",
              "      <td>NaN</td>\n",
              "      <td>NaN</td>\n",
              "      <td>0</td>\n",
              "      <td>9</td>\n",
              "      <td>2008</td>\n",
              "      <td>WD</td>\n",
              "      <td>Normal</td>\n",
              "      <td>230000</td>\n",
              "    </tr>\n",
              "  </tbody>\n",
              "</table>\n",
              "<p>10 rows × 81 columns</p>\n",
              "</div>"
            ],
            "text/plain": [
              "    Id  MSSubClass MSZoning  LotFrontage  LotArea Street Alley LotShape  \\\n",
              "0    1          60       RL         65.0     8450   Pave   NaN      Reg   \n",
              "2    3          60       RL         68.0    11250   Pave   NaN      IR1   \n",
              "4    5          60       RL         84.0    14260   Pave   NaN      IR1   \n",
              "8    9          50       RM         51.0     6120   Pave   NaN      Reg   \n",
              "9   10         190       RL         50.0     7420   Pave   NaN      Reg   \n",
              "10  11          20       RL         70.0    11200   Pave   NaN      Reg   \n",
              "12  13          20       RL          NaN    12968   Pave   NaN      IR2   \n",
              "14  15          20       RL          NaN    10920   Pave   NaN      IR1   \n",
              "18  19          20       RL         66.0    13695   Pave   NaN      Reg   \n",
              "22  23          20       RL         75.0     9742   Pave   NaN      Reg   \n",
              "\n",
              "   LandContour Utilities    ...     PoolArea PoolQC Fence MiscFeature MiscVal  \\\n",
              "0          Lvl    AllPub    ...            0    NaN   NaN         NaN       0   \n",
              "2          Lvl    AllPub    ...            0    NaN   NaN         NaN       0   \n",
              "4          Lvl    AllPub    ...            0    NaN   NaN         NaN       0   \n",
              "8          Lvl    AllPub    ...            0    NaN   NaN         NaN       0   \n",
              "9          Lvl    AllPub    ...            0    NaN   NaN         NaN       0   \n",
              "10         Lvl    AllPub    ...            0    NaN   NaN         NaN       0   \n",
              "12         Lvl    AllPub    ...            0    NaN   NaN         NaN       0   \n",
              "14         Lvl    AllPub    ...            0    NaN  GdWo         NaN       0   \n",
              "18         Lvl    AllPub    ...            0    NaN   NaN         NaN       0   \n",
              "22         Lvl    AllPub    ...            0    NaN   NaN         NaN       0   \n",
              "\n",
              "   MoSold YrSold  SaleType  SaleCondition  SalePrice  \n",
              "0       2   2008        WD         Normal     208500  \n",
              "2       9   2008        WD         Normal     223500  \n",
              "4      12   2008        WD         Normal     250000  \n",
              "8       4   2008        WD        Abnorml     129900  \n",
              "9       1   2008        WD         Normal     118000  \n",
              "10      2   2008        WD         Normal     129500  \n",
              "12      9   2008        WD         Normal     144000  \n",
              "14      5   2008        WD         Normal     157000  \n",
              "18      6   2008        WD         Normal     159000  \n",
              "22      9   2008        WD         Normal     230000  \n",
              "\n",
              "[10 rows x 81 columns]"
            ]
          },
          "metadata": {
            "tags": []
          },
          "execution_count": 14
        }
      ]
    },
    {
      "metadata": {
        "id": "BBT_boFWm2hH",
        "colab_type": "text"
      },
      "cell_type": "markdown",
      "source": [
        "Enkelte verdier kan hentes ut med tall-indeksering ved bruk av iloc-funksjonen"
      ]
    },
    {
      "metadata": {
        "id": "00YBaG-unO0J",
        "colab_type": "code",
        "colab": {
          "base_uri": "https://localhost:8080/",
          "height": 34
        },
        "outputId": "1de249b5-e5a2-49c9-a140-a0490a9a5a7a"
      },
      "cell_type": "code",
      "source": [
        "verdi = data.iloc[0,3]\n",
        "feature = data.columns[3]\n",
        "\n",
        "print(feature, verdi)"
      ],
      "execution_count": 123,
      "outputs": [
        {
          "output_type": "stream",
          "text": [
            "LotFrontage 65.0\n"
          ],
          "name": "stdout"
        }
      ]
    },
    {
      "metadata": {
        "id": "R874aW3XwjXZ",
        "colab_type": "text"
      },
      "cell_type": "markdown",
      "source": [
        "**Man** kan lage nye subdatasett av det originale datasettet ved å hente ut ønskede kolonner med data. Dette lar deg konstruere helt nye datasett."
      ]
    },
    {
      "metadata": {
        "id": "InCy1_ERdfkK",
        "colab_type": "code",
        "colab": {
          "base_uri": "https://localhost:8080/",
          "height": 343
        },
        "outputId": "c0b458c7-24f0-4ee4-ee48-02dae23a2bad"
      },
      "cell_type": "code",
      "source": [
        "kolonner_salgsinfo = ['MoSold','YrSold','SalePrice']\n",
        "data_salgsinfo = data[kolonner_salgsinfo]\n",
        "data_salgsinfo.head(10)"
      ],
      "execution_count": 37,
      "outputs": [
        {
          "output_type": "execute_result",
          "data": {
            "text/html": [
              "<div>\n",
              "<style scoped>\n",
              "    .dataframe tbody tr th:only-of-type {\n",
              "        vertical-align: middle;\n",
              "    }\n",
              "\n",
              "    .dataframe tbody tr th {\n",
              "        vertical-align: top;\n",
              "    }\n",
              "\n",
              "    .dataframe thead th {\n",
              "        text-align: right;\n",
              "    }\n",
              "</style>\n",
              "<table border=\"1\" class=\"dataframe\">\n",
              "  <thead>\n",
              "    <tr style=\"text-align: right;\">\n",
              "      <th></th>\n",
              "      <th>MoSold</th>\n",
              "      <th>YrSold</th>\n",
              "      <th>SalePrice</th>\n",
              "    </tr>\n",
              "  </thead>\n",
              "  <tbody>\n",
              "    <tr>\n",
              "      <th>0</th>\n",
              "      <td>2</td>\n",
              "      <td>2008</td>\n",
              "      <td>208500</td>\n",
              "    </tr>\n",
              "    <tr>\n",
              "      <th>1</th>\n",
              "      <td>5</td>\n",
              "      <td>2007</td>\n",
              "      <td>181500</td>\n",
              "    </tr>\n",
              "    <tr>\n",
              "      <th>2</th>\n",
              "      <td>9</td>\n",
              "      <td>2008</td>\n",
              "      <td>223500</td>\n",
              "    </tr>\n",
              "    <tr>\n",
              "      <th>3</th>\n",
              "      <td>2</td>\n",
              "      <td>2006</td>\n",
              "      <td>140000</td>\n",
              "    </tr>\n",
              "    <tr>\n",
              "      <th>4</th>\n",
              "      <td>12</td>\n",
              "      <td>2008</td>\n",
              "      <td>250000</td>\n",
              "    </tr>\n",
              "    <tr>\n",
              "      <th>5</th>\n",
              "      <td>10</td>\n",
              "      <td>2009</td>\n",
              "      <td>143000</td>\n",
              "    </tr>\n",
              "    <tr>\n",
              "      <th>6</th>\n",
              "      <td>8</td>\n",
              "      <td>2007</td>\n",
              "      <td>307000</td>\n",
              "    </tr>\n",
              "    <tr>\n",
              "      <th>7</th>\n",
              "      <td>11</td>\n",
              "      <td>2009</td>\n",
              "      <td>200000</td>\n",
              "    </tr>\n",
              "    <tr>\n",
              "      <th>8</th>\n",
              "      <td>4</td>\n",
              "      <td>2008</td>\n",
              "      <td>129900</td>\n",
              "    </tr>\n",
              "    <tr>\n",
              "      <th>9</th>\n",
              "      <td>1</td>\n",
              "      <td>2008</td>\n",
              "      <td>118000</td>\n",
              "    </tr>\n",
              "  </tbody>\n",
              "</table>\n",
              "</div>"
            ],
            "text/plain": [
              "   MoSold  YrSold  SalePrice\n",
              "0       2    2008     208500\n",
              "1       5    2007     181500\n",
              "2       9    2008     223500\n",
              "3       2    2006     140000\n",
              "4      12    2008     250000\n",
              "5      10    2009     143000\n",
              "6       8    2007     307000\n",
              "7      11    2009     200000\n",
              "8       4    2008     129900\n",
              "9       1    2008     118000"
            ]
          },
          "metadata": {
            "tags": []
          },
          "execution_count": 37
        }
      ]
    },
    {
      "metadata": {
        "id": "eig7QqFWmGR3",
        "colab_type": "text"
      },
      "cell_type": "markdown",
      "source": [
        "Det samme kan oppnås ved å bruke tall-indeksering, iloc lar oss velge ut [rad, kolonne]"
      ]
    },
    {
      "metadata": {
        "id": "Bd5KH3gkmE3_",
        "colab_type": "code",
        "colab": {
          "base_uri": "https://localhost:8080/",
          "height": 195
        },
        "outputId": "eb6a3c4f-2913-473b-ccf3-732cc2bb2403"
      },
      "cell_type": "code",
      "source": [
        "data_4_første = data.iloc[:,0:4]\n",
        "data_4_første.head(5)"
      ],
      "execution_count": 116,
      "outputs": [
        {
          "output_type": "execute_result",
          "data": {
            "text/html": [
              "<div>\n",
              "<style scoped>\n",
              "    .dataframe tbody tr th:only-of-type {\n",
              "        vertical-align: middle;\n",
              "    }\n",
              "\n",
              "    .dataframe tbody tr th {\n",
              "        vertical-align: top;\n",
              "    }\n",
              "\n",
              "    .dataframe thead th {\n",
              "        text-align: right;\n",
              "    }\n",
              "</style>\n",
              "<table border=\"1\" class=\"dataframe\">\n",
              "  <thead>\n",
              "    <tr style=\"text-align: right;\">\n",
              "      <th></th>\n",
              "      <th>Id</th>\n",
              "      <th>MSSubClass</th>\n",
              "      <th>MSZoning</th>\n",
              "      <th>LotFrontage</th>\n",
              "    </tr>\n",
              "  </thead>\n",
              "  <tbody>\n",
              "    <tr>\n",
              "      <th>0</th>\n",
              "      <td>1</td>\n",
              "      <td>60</td>\n",
              "      <td>RL</td>\n",
              "      <td>65.0</td>\n",
              "    </tr>\n",
              "    <tr>\n",
              "      <th>1</th>\n",
              "      <td>2</td>\n",
              "      <td>20</td>\n",
              "      <td>RL</td>\n",
              "      <td>80.0</td>\n",
              "    </tr>\n",
              "    <tr>\n",
              "      <th>2</th>\n",
              "      <td>3</td>\n",
              "      <td>60</td>\n",
              "      <td>RL</td>\n",
              "      <td>68.0</td>\n",
              "    </tr>\n",
              "    <tr>\n",
              "      <th>3</th>\n",
              "      <td>4</td>\n",
              "      <td>70</td>\n",
              "      <td>RL</td>\n",
              "      <td>60.0</td>\n",
              "    </tr>\n",
              "    <tr>\n",
              "      <th>4</th>\n",
              "      <td>5</td>\n",
              "      <td>60</td>\n",
              "      <td>RL</td>\n",
              "      <td>84.0</td>\n",
              "    </tr>\n",
              "  </tbody>\n",
              "</table>\n",
              "</div>"
            ],
            "text/plain": [
              "   Id  MSSubClass MSZoning  LotFrontage\n",
              "0   1          60       RL         65.0\n",
              "1   2          20       RL         80.0\n",
              "2   3          60       RL         68.0\n",
              "3   4          70       RL         60.0\n",
              "4   5          60       RL         84.0"
            ]
          },
          "metadata": {
            "tags": []
          },
          "execution_count": 116
        }
      ]
    },
    {
      "metadata": {
        "id": "tCDz3w7Cw3Rq",
        "colab_type": "text"
      },
      "cell_type": "markdown",
      "source": [
        "Nye features kan konstrueres ved å lage kombinasjoner av kolonner i datasettet. Siden kolonnen 'HouseAge' ikke finnes i datasettet vil det blir oprettet som en ny kolonne"
      ]
    },
    {
      "metadata": {
        "id": "Bg6EUOREyeV9",
        "colab_type": "code",
        "colab": {
          "base_uri": "https://localhost:8080/",
          "height": 195
        },
        "outputId": "27898e57-7c26-4a66-d0a5-66ccc3d97c37"
      },
      "cell_type": "code",
      "source": [
        "data_salgsinfo['HouseAge'] = data['YrSold'] - data['YearBuilt']\n",
        "data_salgsinfo.head(5)"
      ],
      "execution_count": 91,
      "outputs": [
        {
          "output_type": "execute_result",
          "data": {
            "text/html": [
              "<div>\n",
              "<style scoped>\n",
              "    .dataframe tbody tr th:only-of-type {\n",
              "        vertical-align: middle;\n",
              "    }\n",
              "\n",
              "    .dataframe tbody tr th {\n",
              "        vertical-align: top;\n",
              "    }\n",
              "\n",
              "    .dataframe thead th {\n",
              "        text-align: right;\n",
              "    }\n",
              "</style>\n",
              "<table border=\"1\" class=\"dataframe\">\n",
              "  <thead>\n",
              "    <tr style=\"text-align: right;\">\n",
              "      <th></th>\n",
              "      <th>MoSold</th>\n",
              "      <th>YrSold</th>\n",
              "      <th>SalePrice</th>\n",
              "      <th>HouseAge</th>\n",
              "    </tr>\n",
              "  </thead>\n",
              "  <tbody>\n",
              "    <tr>\n",
              "      <th>0</th>\n",
              "      <td>2.0</td>\n",
              "      <td>2008.0</td>\n",
              "      <td>208500.0</td>\n",
              "      <td>5.0</td>\n",
              "    </tr>\n",
              "    <tr>\n",
              "      <th>1</th>\n",
              "      <td>5.0</td>\n",
              "      <td>2007.0</td>\n",
              "      <td>181500.0</td>\n",
              "      <td>31.0</td>\n",
              "    </tr>\n",
              "    <tr>\n",
              "      <th>2</th>\n",
              "      <td>9.0</td>\n",
              "      <td>2008.0</td>\n",
              "      <td>223500.0</td>\n",
              "      <td>7.0</td>\n",
              "    </tr>\n",
              "    <tr>\n",
              "      <th>3</th>\n",
              "      <td>2.0</td>\n",
              "      <td>2006.0</td>\n",
              "      <td>140000.0</td>\n",
              "      <td>91.0</td>\n",
              "    </tr>\n",
              "    <tr>\n",
              "      <th>4</th>\n",
              "      <td>12.0</td>\n",
              "      <td>2008.0</td>\n",
              "      <td>250000.0</td>\n",
              "      <td>8.0</td>\n",
              "    </tr>\n",
              "  </tbody>\n",
              "</table>\n",
              "</div>"
            ],
            "text/plain": [
              "   MoSold  YrSold  SalePrice  HouseAge\n",
              "0     2.0  2008.0   208500.0       5.0\n",
              "1     5.0  2007.0   181500.0      31.0\n",
              "2     9.0  2008.0   223500.0       7.0\n",
              "3     2.0  2006.0   140000.0      91.0\n",
              "4    12.0  2008.0   250000.0       8.0"
            ]
          },
          "metadata": {
            "tags": []
          },
          "execution_count": 91
        }
      ]
    },
    {
      "metadata": {
        "id": "9Y78HHV4xelB",
        "colab_type": "text"
      },
      "cell_type": "markdown",
      "source": [
        "Vi kan nå enkelt finne gjennomsnittlig husalder ved å bruke pandas describe() funksjon"
      ]
    },
    {
      "metadata": {
        "id": "t2KWLt1lgl4C",
        "colab_type": "code",
        "colab": {
          "base_uri": "https://localhost:8080/",
          "height": 284
        },
        "outputId": "cc4d2baf-5272-4bd8-997a-4c622412947f"
      },
      "cell_type": "code",
      "source": [
        "data_salgsinfo.describe()"
      ],
      "execution_count": 19,
      "outputs": [
        {
          "output_type": "execute_result",
          "data": {
            "text/html": [
              "<div>\n",
              "<style scoped>\n",
              "    .dataframe tbody tr th:only-of-type {\n",
              "        vertical-align: middle;\n",
              "    }\n",
              "\n",
              "    .dataframe tbody tr th {\n",
              "        vertical-align: top;\n",
              "    }\n",
              "\n",
              "    .dataframe thead th {\n",
              "        text-align: right;\n",
              "    }\n",
              "</style>\n",
              "<table border=\"1\" class=\"dataframe\">\n",
              "  <thead>\n",
              "    <tr style=\"text-align: right;\">\n",
              "      <th></th>\n",
              "      <th>MoSold</th>\n",
              "      <th>YrSold</th>\n",
              "      <th>SalePrice</th>\n",
              "      <th>HouseAge</th>\n",
              "    </tr>\n",
              "  </thead>\n",
              "  <tbody>\n",
              "    <tr>\n",
              "      <th>count</th>\n",
              "      <td>1460.000000</td>\n",
              "      <td>1460.000000</td>\n",
              "      <td>1460.000000</td>\n",
              "      <td>1460.000000</td>\n",
              "    </tr>\n",
              "    <tr>\n",
              "      <th>mean</th>\n",
              "      <td>6.321918</td>\n",
              "      <td>2007.815753</td>\n",
              "      <td>180921.195890</td>\n",
              "      <td>36.547945</td>\n",
              "    </tr>\n",
              "    <tr>\n",
              "      <th>std</th>\n",
              "      <td>2.703626</td>\n",
              "      <td>1.328095</td>\n",
              "      <td>79442.502883</td>\n",
              "      <td>30.250152</td>\n",
              "    </tr>\n",
              "    <tr>\n",
              "      <th>min</th>\n",
              "      <td>1.000000</td>\n",
              "      <td>2006.000000</td>\n",
              "      <td>34900.000000</td>\n",
              "      <td>0.000000</td>\n",
              "    </tr>\n",
              "    <tr>\n",
              "      <th>25%</th>\n",
              "      <td>5.000000</td>\n",
              "      <td>2007.000000</td>\n",
              "      <td>129975.000000</td>\n",
              "      <td>8.000000</td>\n",
              "    </tr>\n",
              "    <tr>\n",
              "      <th>50%</th>\n",
              "      <td>6.000000</td>\n",
              "      <td>2008.000000</td>\n",
              "      <td>163000.000000</td>\n",
              "      <td>35.000000</td>\n",
              "    </tr>\n",
              "    <tr>\n",
              "      <th>75%</th>\n",
              "      <td>8.000000</td>\n",
              "      <td>2009.000000</td>\n",
              "      <td>214000.000000</td>\n",
              "      <td>54.000000</td>\n",
              "    </tr>\n",
              "    <tr>\n",
              "      <th>max</th>\n",
              "      <td>12.000000</td>\n",
              "      <td>2010.000000</td>\n",
              "      <td>755000.000000</td>\n",
              "      <td>136.000000</td>\n",
              "    </tr>\n",
              "  </tbody>\n",
              "</table>\n",
              "</div>"
            ],
            "text/plain": [
              "            MoSold       YrSold      SalePrice     HouseAge\n",
              "count  1460.000000  1460.000000    1460.000000  1460.000000\n",
              "mean      6.321918  2007.815753  180921.195890    36.547945\n",
              "std       2.703626     1.328095   79442.502883    30.250152\n",
              "min       1.000000  2006.000000   34900.000000     0.000000\n",
              "25%       5.000000  2007.000000  129975.000000     8.000000\n",
              "50%       6.000000  2008.000000  163000.000000    35.000000\n",
              "75%       8.000000  2009.000000  214000.000000    54.000000\n",
              "max      12.000000  2010.000000  755000.000000   136.000000"
            ]
          },
          "metadata": {
            "tags": []
          },
          "execution_count": 19
        }
      ]
    },
    {
      "metadata": {
        "id": "Kz76BZO32imh",
        "colab_type": "text"
      },
      "cell_type": "markdown",
      "source": [
        "Man kan også få en oversikt over hva kategoriske features inneholder, som for eksempel street address, for å hjelpe deg med å bli kjent med hva dataen inneholder."
      ]
    },
    {
      "metadata": {
        "id": "DOv_-4lm2tAn",
        "colab_type": "code",
        "colab": {
          "base_uri": "https://localhost:8080/",
          "height": 454
        },
        "outputId": "a7b3200b-453a-43bb-baae-7161d7bfcd03"
      },
      "cell_type": "code",
      "source": [
        "data[\"Neighborhood\"].value_counts()"
      ],
      "execution_count": 25,
      "outputs": [
        {
          "output_type": "execute_result",
          "data": {
            "text/plain": [
              "NAmes      225\n",
              "CollgCr    150\n",
              "OldTown    113\n",
              "Edwards    100\n",
              "Somerst     86\n",
              "Gilbert     79\n",
              "NridgHt     77\n",
              "Sawyer      74\n",
              "NWAmes      73\n",
              "SawyerW     59\n",
              "BrkSide     58\n",
              "Crawfor     51\n",
              "Mitchel     49\n",
              "NoRidge     41\n",
              "Timber      38\n",
              "IDOTRR      37\n",
              "ClearCr     28\n",
              "StoneBr     25\n",
              "SWISU       25\n",
              "Blmngtn     17\n",
              "MeadowV     17\n",
              "BrDale      16\n",
              "Veenker     11\n",
              "NPkVill      9\n",
              "Blueste      2\n",
              "Name: Neighborhood, dtype: int64"
            ]
          },
          "metadata": {
            "tags": []
          },
          "execution_count": 25
        }
      ]
    },
    {
      "metadata": {
        "id": "d0TLQJqL25Sj",
        "colab_type": "text"
      },
      "cell_type": "markdown",
      "source": [
        "![alt text](https://)Denne kategoriske featuren viser at boligene er fordelt over mange nabolag. Dette er en god feature fordi den tilfører nyttig informasjon til datasettet. Om vi ser på featuren 'Utilities' derimot, så ser vi at det er et eneste tilfelle av kategorien NoSeWa, resten tilhører den andre kategorien. Dette vil være en feature som ikke tilfører noe informasjon, men opptar plass og øker kompleksiteten på datasettet unædvendig."
      ]
    },
    {
      "metadata": {
        "id": "PDL0E6xk3VFQ",
        "colab_type": "code",
        "colab": {
          "base_uri": "https://localhost:8080/",
          "height": 168
        },
        "outputId": "88ed99e8-3f4e-43b9-e075-717bf5bc9379"
      },
      "cell_type": "code",
      "source": [
        "data['HouseStyle'].value_counts()"
      ],
      "execution_count": 179,
      "outputs": [
        {
          "output_type": "execute_result",
          "data": {
            "text/plain": [
              "1Story    726\n",
              "2Story    445\n",
              "1.5Fin    154\n",
              "SLvl       65\n",
              "SFoyer     37\n",
              "1.5Unf     14\n",
              "2.5Unf     11\n",
              "2.5Fin      8\n",
              "Name: HouseStyle, dtype: int64"
            ]
          },
          "metadata": {
            "tags": []
          },
          "execution_count": 179
        }
      ]
    },
    {
      "metadata": {
        "id": "WSE60XmkkPiF",
        "colab_type": "text"
      },
      "cell_type": "markdown",
      "source": [
        "#Visualisering av data\n",
        "\n",
        "Visualisering er en viktig del av den initielle utforskingen av dataen. Det viser ofte informasjon som er vanskelig å få ved å kun se på dataen i rå form.\n",
        "\n",
        "Bibliotekene vi bruker her er Matplotlib og Seaborn (plt og sns)"
      ]
    },
    {
      "metadata": {
        "id": "jCg2e_DKx5F5",
        "colab_type": "text"
      },
      "cell_type": "markdown",
      "source": [
        "## Fordeling av data"
      ]
    },
    {
      "metadata": {
        "id": "oy8HdNmF3tLk",
        "colab_type": "text"
      },
      "cell_type": "markdown",
      "source": [
        "Et histogram viser fordelinen av data i \"bøtter\", altså intervaller med data. Dette er velegnet for å studere fordeling av talldata. For eksempel kan vi visualisere fordelingen av salgsprisen fordelt over et valgfritt antall bøtter."
      ]
    },
    {
      "metadata": {
        "id": "gas9nZTQ11du",
        "colab_type": "code",
        "colab": {
          "base_uri": "https://localhost:8080/",
          "height": 474
        },
        "outputId": "c2bdd46a-a054-4e31-ab83-6b5b03d73767"
      },
      "cell_type": "code",
      "source": [
        "#Lab figur-objekt og bestem størrelsen\n",
        "plt.figure(figsize=(15,7))\n",
        "\n",
        "#Velg type plot med sns (seaborn) biblioteket\n",
        "sns.distplot(data['SalePrice'],bins=50, kde=False);\n",
        "\n",
        "#X- og y-aksen kan navngis\n",
        "plt.ylabel('Antall')\n",
        "\n",
        "#Sett tittel på figur\n",
        "plt.title('Fordeling av slagspris')"
      ],
      "execution_count": 132,
      "outputs": [
        {
          "output_type": "execute_result",
          "data": {
            "text/plain": [
              "Text(0.5,1,'Fordeling av slagspris')"
            ]
          },
          "metadata": {
            "tags": []
          },
          "execution_count": 132
        },
        {
          "output_type": "display_data",
          "data": {
            "image/png": "[encoded data removed]",
            "text/plain": [
              "<matplotlib.figure.Figure at 0x7f6b8af38d30>"
            ]
          },
          "metadata": {
            "tags": []
          }
        }
      ]
    },
    {
      "metadata": {
        "id": "9l8WxeqOpnQJ",
        "colab_type": "text"
      },
      "cell_type": "markdown",
      "source": [
        "Fordelingen kan også visualiseres med en tilpasset funksjon (kde)"
      ]
    },
    {
      "metadata": {
        "id": "ykKneESqqM75",
        "colab_type": "code",
        "colab": {
          "base_uri": "https://localhost:8080/",
          "height": 474
        },
        "outputId": "fa8438ad-9a5c-4abd-811c-1ab00575c60f"
      },
      "cell_type": "code",
      "source": [
        "plt.figure(figsize=(15,7))\n",
        "sns.distplot(data['SalePrice'],hist=False, kde=True);\n",
        "plt.title('Fordeling av slagspris')"
      ],
      "execution_count": 136,
      "outputs": [
        {
          "output_type": "execute_result",
          "data": {
            "text/plain": [
              "Text(0.5,1,'Fordeling av slagspris')"
            ]
          },
          "metadata": {
            "tags": []
          },
          "execution_count": 136
        },
        {
          "output_type": "display_data",
          "data": {
            "image/png": "[encoded data removed]",
            "text/plain": [
              "<matplotlib.figure.Figure at 0x7f6b8adb9c50>"
            ]
          },
          "metadata": {
            "tags": []
          }
        }
      ]
    },
    {
      "metadata": {
        "id": "U61e6pHWCxRo",
        "colab_type": "text"
      },
      "cell_type": "markdown",
      "source": [
        "Kategorisk data kan vi visualisere ved å bruke countplots. For eksempel kan vi få en oversikt over hvor mange salg som ble gjort i de ulike årene."
      ]
    },
    {
      "metadata": {
        "id": "WhF8OvUWeEZU",
        "colab_type": "code",
        "colab": {
          "base_uri": "https://localhost:8080/",
          "height": 422
        },
        "outputId": "e779b758-2b9b-456c-ea6c-4f54e4692f23"
      },
      "cell_type": "code",
      "source": [
        "plt.figure(figsize=(15, 6))\n",
        "sns.countplot(x='YrSold', data=data)\n",
        "plt.title('Salg per år')"
      ],
      "execution_count": 93,
      "outputs": [
        {
          "output_type": "execute_result",
          "data": {
            "text/plain": [
              "Text(0.5,1,'Salg per år')"
            ]
          },
          "metadata": {
            "tags": []
          },
          "execution_count": 93
        },
        {
          "output_type": "display_data",
          "data": {
            "image/png": "[encoded data removed]",
            "text/plain": [
              "<matplotlib.figure.Figure at 0x7f6b8f64d860>"
            ]
          },
          "metadata": {
            "tags": []
          }
        }
      ]
    },
    {
      "metadata": {
        "id": "jkwbW1IpocGq",
        "colab_type": "text"
      },
      "cell_type": "markdown",
      "source": [
        "Man kan også gruppere inn countplots etter kategori, for eksempel kan vi fordele plottet over inn i måneder også"
      ]
    },
    {
      "metadata": {
        "id": "rv5fBpoHoi9D",
        "colab_type": "code",
        "colab": {
          "base_uri": "https://localhost:8080/",
          "height": 476
        },
        "outputId": "3bf3d1a3-2d9c-413d-cbf7-ba3f6ce3aabc"
      },
      "cell_type": "code",
      "source": [
        "plt.figure(figsize=(16, 7))\n",
        "sns.countplot(x='YrSold', hue='MoSold', data=data)\n",
        "plt.title('Salg per år fordelt over måneder')"
      ],
      "execution_count": 127,
      "outputs": [
        {
          "output_type": "execute_result",
          "data": {
            "text/plain": [
              "Text(0.5,1,'Salg per år fordelt over måneder')"
            ]
          },
          "metadata": {
            "tags": []
          },
          "execution_count": 127
        },
        {
          "output_type": "display_data",
          "data": {
            "image/png": "[encoded data removed]",
            "text/plain": [
              "<matplotlib.figure.Figure at 0x7f6b8b33eda0>"
            ]
          },
          "metadata": {
            "tags": []
          }
        }
      ]
    },
    {
      "metadata": {
        "id": "5639xddQyDzg",
        "colab_type": "code",
        "colab": {
          "base_uri": "https://localhost:8080/",
          "height": 530
        },
        "outputId": "f67449df-24d7-42d8-8771-9bd8c5aa54b6"
      },
      "cell_type": "code",
      "source": [
        "plt.figure(figsize=(15, 8))\n",
        "sns.countplot(y='Neighborhood', data=data)\n",
        "plt.title('Oversik over nabolag')"
      ],
      "execution_count": 106,
      "outputs": [
        {
          "output_type": "execute_result",
          "data": {
            "text/plain": [
              "Text(0.5,1,'Salg per år')"
            ]
          },
          "metadata": {
            "tags": []
          },
          "execution_count": 106
        },
        {
          "output_type": "display_data",
          "data": {
            "image/png": "[encoded data removed]",
            "text/plain": [
              "<matplotlib.figure.Figure at 0x7f6b8c54fb70>"
            ]
          },
          "metadata": {
            "tags": []
          }
        }
      ]
    },
    {
      "metadata": {
        "id": "lKrA30orwXou",
        "colab_type": "text"
      },
      "cell_type": "markdown",
      "source": [
        "##Korrelasjon\n",
        "\n",
        "For å få et bredt perspektiv av hvilken effekt featurene har på hverandre er det nyttig å se på korrelasjonen mellom dem. Korrelasjonsplottet under ser vi at det er perfekt korrelasjon langs diagonalen, noe som er naturlig siden alle variabler korrelerer perfekt med seg selv. Vi kan for eksempel se at karakternivået et år korrelerer sterkt med karakternivået de andre årene. En elev gjør det typisk bra eller dårlig alle årene. En annen observajon er at utdanningen til foreldrene korreleres også sterkt, altså vil foreldre par typisk ha samme utdanningsnivå."
      ]
    },
    {
      "metadata": {
        "id": "JOt7rj23gPU5",
        "colab_type": "code",
        "colab": {
          "base_uri": "https://localhost:8080/",
          "height": 991
        },
        "outputId": "645f1188-bfe7-4e8c-e251-8a908f2d3035"
      },
      "cell_type": "code",
      "source": [
        "plt.figure(figsize=(15,15))\n",
        "sns.heatmap(data.corr(),annot = False, cbar = True)\n",
        "plt.xticks(rotation=90)\n",
        "plt.yticks(rotation = 0)"
      ],
      "execution_count": 111,
      "outputs": [
        {
          "output_type": "execute_result",
          "data": {
            "text/plain": [
              "(array([ 0.5,  1.5,  2.5,  3.5,  4.5,  5.5,  6.5,  7.5,  8.5,  9.5, 10.5,\n",
              "        11.5, 12.5, 13.5, 14.5, 15.5, 16.5, 17.5, 18.5, 19.5, 20.5, 21.5,\n",
              "        22.5, 23.5, 24.5, 25.5, 26.5, 27.5, 28.5, 29.5, 30.5, 31.5, 32.5,\n",
              "        33.5, 34.5, 35.5, 36.5, 37.5]), <a list of 38 Text yticklabel objects>)"
            ]
          },
          "metadata": {
            "tags": []
          },
          "execution_count": 111
        },
        {
          "output_type": "display_data",
          "data": {
            "image/png": "[encoded data removed]",
            "text/plain": [
              "<matplotlib.figure.Figure at 0x7f6b8b79a278>"
            ]
          },
          "metadata": {
            "tags": []
          }
        }
      ]
    },
    {
      "metadata": {
        "id": "vexCu6QOFcur",
        "colab_type": "text"
      },
      "cell_type": "markdown",
      "source": [
        "## Oppgave: studer og visualiser data\n",
        "\n",
        "\n",
        "Finn følgende informasjon: \n",
        "\n",
        " - Første og siste salg (måned og år)\n",
        " \n",
        " - Største svømmebasseng\n",
        "  \n",
        " - Gjennomsnittlig husalder \n",
        "\n",
        "\n",
        "Visualiser følgende:\n",
        "\n",
        " - Fordeling av kvadratfot på alle tomter\n",
        "\n",
        " - Fordeling over når boligene ble bygget\n",
        "\n",
        " - Hvor mange salg det er i hver måned totalt\n",
        "\n",
        " - Korrelasjonsplot for datasettet dere lagde i forrige seksjon (bruk datasettet til løsningsforslaget eventuelt)\n",
        "\n",
        "Lag gjerne andre visualiseringer dere syntes virker interessante."
      ]
    },
    {
      "metadata": {
        "id": "hTTEkDxjLxBa",
        "colab_type": "code",
        "colab": {}
      },
      "cell_type": "code",
      "source": [
        "\"Skriv kode her\""
      ],
      "execution_count": 0,
      "outputs": []
    },
    {
      "metadata": {
        "id": "lFGCQDkIK-x9",
        "colab_type": "text"
      },
      "cell_type": "markdown",
      "source": [
        "## Oppgave: lag nytt datasett\n",
        "\n",
        "Lag et nytt datasett og velg ut features dere tenker er nyttige. Studer dataen ved bruk av alt vi har gått gjennom, tenk at det er fordel å ha så lite unødvendig data i datasettet som mulig. Se også på korrelasjonsplottet for å avdekke hvilke features som korrelerer med output, salgspris. Når en variabel korrelerer med output betyr det at den har en grad av påvirkning. "
      ]
    },
    {
      "metadata": {
        "id": "_BewT2fwLyog",
        "colab_type": "code",
        "colab": {}
      },
      "cell_type": "code",
      "source": [
        "#Skriv kode her"
      ],
      "execution_count": 0,
      "outputs": []
    },
    {
      "metadata": {
        "id": "U8Ol2pPSFk9D",
        "colab_type": "text"
      },
      "cell_type": "markdown",
      "source": [
        "## Løsningsforslag: studer og visualiser data"
      ]
    },
    {
      "metadata": {
        "id": "oJdFPu9nlprk",
        "colab_type": "code",
        "colab": {
          "base_uri": "https://localhost:8080/",
          "height": 476
        },
        "outputId": "79ce7ccd-5895-4348-e274-1dba3d20c79e"
      },
      "cell_type": "code",
      "source": [
        "plt.figure(figsize=(15,7))\n",
        "sns.distplot(data_modell['LotArea'],bins=100, kde=False);\n",
        "plt.ylabel('Antall')\n",
        "plt.title('Fordeling av kvadratfot på tomt')"
      ],
      "execution_count": 134,
      "outputs": [
        {
          "output_type": "execute_result",
          "data": {
            "text/plain": [
              "Text(0.5,1,'Fordeling av kvadratfot på tomt')"
            ]
          },
          "metadata": {
            "tags": []
          },
          "execution_count": 134
        },
        {
          "output_type": "display_data",
          "data": {
            "image/png": "[encoded data removed]",
            "text/plain": [
              "<matplotlib.figure.Figure at 0x7f6b8ae33550>"
            ]
          },
          "metadata": {
            "tags": []
          }
        }
      ]
    },
    {
      "metadata": {
        "id": "LQsW36xKncFw",
        "colab_type": "code",
        "colab": {
          "base_uri": "https://localhost:8080/",
          "height": 1182
        },
        "outputId": "efd5c3a1-6726-4138-d8f7-d45ee1dc7e6c"
      },
      "cell_type": "code",
      "source": [
        "plt.figure(figsize=(15, 20))\n",
        "sns.countplot(y='YearBuilt', data=data)\n",
        "plt.title('Salg per år fordelt over måneder')"
      ],
      "execution_count": 103,
      "outputs": [
        {
          "output_type": "execute_result",
          "data": {
            "text/plain": [
              "Text(0.5,1,'Salg per år fordelt over måneder')"
            ]
          },
          "metadata": {
            "tags": []
          },
          "execution_count": 103
        },
        {
          "output_type": "display_data",
          "data": {
            "image/png": "[encoded data removed]",
            "text/plain": [
              "<matplotlib.figure.Figure at 0x7f6b8c8934e0>"
            ]
          },
          "metadata": {
            "tags": []
          }
        }
      ]
    },
    {
      "metadata": {
        "id": "ir0CSZ8u6FuS",
        "colab_type": "code",
        "colab": {
          "base_uri": "https://localhost:8080/",
          "height": 476
        },
        "outputId": "edcc4829-9098-439b-8ca6-cdd774e24a51"
      },
      "cell_type": "code",
      "source": [
        "plt.figure(figsize=(15,7))\n",
        "sns.countplot(data_modell['MoSold'])\n",
        "plt.title('Salg per måned')"
      ],
      "execution_count": 112,
      "outputs": [
        {
          "output_type": "execute_result",
          "data": {
            "text/plain": [
              "Text(0.5,1,'Salg per måned')"
            ]
          },
          "metadata": {
            "tags": []
          },
          "execution_count": 112
        },
        {
          "output_type": "display_data",
          "data": {
            "image/png": "[encoded data removed]",
            "text/plain": [
              "<matplotlib.figure.Figure at 0x7f6b8b63db00>"
            ]
          },
          "metadata": {
            "tags": []
          }
        }
      ]
    },
    {
      "metadata": {
        "id": "Qs_w5rR7wLO-",
        "colab_type": "code",
        "colab": {
          "base_uri": "https://localhost:8080/",
          "height": 974
        },
        "outputId": "86250cc0-9562-40c7-b44c-882c582a5c09"
      },
      "cell_type": "code",
      "source": [
        "plt.figure(figsize=(15,15))\n",
        "sns.heatmap(data_modell.corr(),annot = True,fmt = \".2f\",cbar = True)\n",
        "plt.xticks(rotation=90)\n",
        "plt.yticks(rotation = 0)"
      ],
      "execution_count": 141,
      "outputs": [
        {
          "output_type": "execute_result",
          "data": {
            "text/plain": [
              "(array([ 0.5,  1.5,  2.5,  3.5,  4.5,  5.5,  6.5,  7.5,  8.5,  9.5, 10.5,\n",
              "        11.5, 12.5, 13.5, 14.5, 15.5, 16.5, 17.5, 18.5, 19.5]),\n",
              " <a list of 20 Text yticklabel objects>)"
            ]
          },
          "metadata": {
            "tags": []
          },
          "execution_count": 141
        },
        {
          "output_type": "display_data",
          "data": {
            "image/png": "[encoded data removed]",
            "text/plain": [
              "<matplotlib.figure.Figure at 0x7f6b8aba0cc0>"
            ]
          },
          "metadata": {
            "tags": []
          }
        }
      ]
    },
    {
      "metadata": {
        "id": "Ua5NIcQijdao",
        "colab_type": "text"
      },
      "cell_type": "markdown",
      "source": [
        "##Løsningsforslag: konstruer datasett"
      ]
    },
    {
      "metadata": {
        "id": "zwI1OfUM-7YM",
        "colab_type": "code",
        "colab": {
          "base_uri": "https://localhost:8080/",
          "height": 244
        },
        "outputId": "4d6ec751-8b20-4bb3-e451-5b52f85122a2"
      },
      "cell_type": "code",
      "source": [
        "#aktuelle_kolonner = ['LotArea','Neighborhood','WoodDeckSF','Condition1','HouseStyle','OverallQual','OverallCond','YearBuilt','YearRemodAdd','ExterQual','Foundation','Heating','HeatingQC','1stFlrSF','1stFlrSF','FullBath','HalfBath','BedroomAbvGr','KitchenAbvGr','TotRmsAbvGrd','GarageCars','Fireplaces','PoolArea','MoSold','YrSold']\n",
        "aktuelle_kolonner = ['LotArea','Neighborhood','WoodDeckSF','Condition1','HouseStyle','OverallQual','OverallCond','YearBuilt','YearRemodAdd','1stFlrSF','1stFlrSF','FullBath','HalfBath','BedroomAbvGr','KitchenAbvGr','TotRmsAbvGrd','GarageCars','Fireplaces','PoolArea','MoSold','YrSold']\n",
        "data_modell = data[aktuelle_kolonner]\n",
        "data_modell['HouseAge'] = data['YrSold'] - data['YearBuilt']\n",
        "data_modell['SalePrice'] = data['SalePrice']\n",
        "data_modell.head(5)"
      ],
      "execution_count": 183,
      "outputs": [
        {
          "output_type": "execute_result",
          "data": {
            "text/html": [
              "<div>\n",
              "<style scoped>\n",
              "    .dataframe tbody tr th:only-of-type {\n",
              "        vertical-align: middle;\n",
              "    }\n",
              "\n",
              "    .dataframe tbody tr th {\n",
              "        vertical-align: top;\n",
              "    }\n",
              "\n",
              "    .dataframe thead th {\n",
              "        text-align: right;\n",
              "    }\n",
              "</style>\n",
              "<table border=\"1\" class=\"dataframe\">\n",
              "  <thead>\n",
              "    <tr style=\"text-align: right;\">\n",
              "      <th></th>\n",
              "      <th>LotArea</th>\n",
              "      <th>Neighborhood</th>\n",
              "      <th>WoodDeckSF</th>\n",
              "      <th>Condition1</th>\n",
              "      <th>HouseStyle</th>\n",
              "      <th>OverallQual</th>\n",
              "      <th>OverallCond</th>\n",
              "      <th>YearBuilt</th>\n",
              "      <th>YearRemodAdd</th>\n",
              "      <th>1stFlrSF</th>\n",
              "      <th>...</th>\n",
              "      <th>BedroomAbvGr</th>\n",
              "      <th>KitchenAbvGr</th>\n",
              "      <th>TotRmsAbvGrd</th>\n",
              "      <th>GarageCars</th>\n",
              "      <th>Fireplaces</th>\n",
              "      <th>PoolArea</th>\n",
              "      <th>MoSold</th>\n",
              "      <th>YrSold</th>\n",
              "      <th>HouseAge</th>\n",
              "      <th>SalePrice</th>\n",
              "    </tr>\n",
              "  </thead>\n",
              "  <tbody>\n",
              "    <tr>\n",
              "      <th>0</th>\n",
              "      <td>8450</td>\n",
              "      <td>CollgCr</td>\n",
              "      <td>0</td>\n",
              "      <td>Norm</td>\n",
              "      <td>2Story</td>\n",
              "      <td>7</td>\n",
              "      <td>5</td>\n",
              "      <td>2003</td>\n",
              "      <td>2003</td>\n",
              "      <td>856</td>\n",
              "      <td>...</td>\n",
              "      <td>3</td>\n",
              "      <td>1</td>\n",
              "      <td>8</td>\n",
              "      <td>2</td>\n",
              "      <td>0</td>\n",
              "      <td>0</td>\n",
              "      <td>2</td>\n",
              "      <td>2008</td>\n",
              "      <td>5</td>\n",
              "      <td>208500</td>\n",
              "    </tr>\n",
              "    <tr>\n",
              "      <th>1</th>\n",
              "      <td>9600</td>\n",
              "      <td>Veenker</td>\n",
              "      <td>298</td>\n",
              "      <td>Feedr</td>\n",
              "      <td>1Story</td>\n",
              "      <td>6</td>\n",
              "      <td>8</td>\n",
              "      <td>1976</td>\n",
              "      <td>1976</td>\n",
              "      <td>1262</td>\n",
              "      <td>...</td>\n",
              "      <td>3</td>\n",
              "      <td>1</td>\n",
              "      <td>6</td>\n",
              "      <td>2</td>\n",
              "      <td>1</td>\n",
              "      <td>0</td>\n",
              "      <td>5</td>\n",
              "      <td>2007</td>\n",
              "      <td>31</td>\n",
              "      <td>181500</td>\n",
              "    </tr>\n",
              "    <tr>\n",
              "      <th>2</th>\n",
              "      <td>11250</td>\n",
              "      <td>CollgCr</td>\n",
              "      <td>0</td>\n",
              "      <td>Norm</td>\n",
              "      <td>2Story</td>\n",
              "      <td>7</td>\n",
              "      <td>5</td>\n",
              "      <td>2001</td>\n",
              "      <td>2002</td>\n",
              "      <td>920</td>\n",
              "      <td>...</td>\n",
              "      <td>3</td>\n",
              "      <td>1</td>\n",
              "      <td>6</td>\n",
              "      <td>2</td>\n",
              "      <td>1</td>\n",
              "      <td>0</td>\n",
              "      <td>9</td>\n",
              "      <td>2008</td>\n",
              "      <td>7</td>\n",
              "      <td>223500</td>\n",
              "    </tr>\n",
              "    <tr>\n",
              "      <th>3</th>\n",
              "      <td>9550</td>\n",
              "      <td>Crawfor</td>\n",
              "      <td>0</td>\n",
              "      <td>Norm</td>\n",
              "      <td>2Story</td>\n",
              "      <td>7</td>\n",
              "      <td>5</td>\n",
              "      <td>1915</td>\n",
              "      <td>1970</td>\n",
              "      <td>961</td>\n",
              "      <td>...</td>\n",
              "      <td>3</td>\n",
              "      <td>1</td>\n",
              "      <td>7</td>\n",
              "      <td>3</td>\n",
              "      <td>1</td>\n",
              "      <td>0</td>\n",
              "      <td>2</td>\n",
              "      <td>2006</td>\n",
              "      <td>91</td>\n",
              "      <td>140000</td>\n",
              "    </tr>\n",
              "    <tr>\n",
              "      <th>4</th>\n",
              "      <td>14260</td>\n",
              "      <td>NoRidge</td>\n",
              "      <td>192</td>\n",
              "      <td>Norm</td>\n",
              "      <td>2Story</td>\n",
              "      <td>8</td>\n",
              "      <td>5</td>\n",
              "      <td>2000</td>\n",
              "      <td>2000</td>\n",
              "      <td>1145</td>\n",
              "      <td>...</td>\n",
              "      <td>4</td>\n",
              "      <td>1</td>\n",
              "      <td>9</td>\n",
              "      <td>3</td>\n",
              "      <td>1</td>\n",
              "      <td>0</td>\n",
              "      <td>12</td>\n",
              "      <td>2008</td>\n",
              "      <td>8</td>\n",
              "      <td>250000</td>\n",
              "    </tr>\n",
              "  </tbody>\n",
              "</table>\n",
              "<p>5 rows × 23 columns</p>\n",
              "</div>"
            ],
            "text/plain": [
              "   LotArea Neighborhood  WoodDeckSF Condition1 HouseStyle  OverallQual  \\\n",
              "0     8450      CollgCr           0       Norm     2Story            7   \n",
              "1     9600      Veenker         298      Feedr     1Story            6   \n",
              "2    11250      CollgCr           0       Norm     2Story            7   \n",
              "3     9550      Crawfor           0       Norm     2Story            7   \n",
              "4    14260      NoRidge         192       Norm     2Story            8   \n",
              "\n",
              "   OverallCond  YearBuilt  YearRemodAdd  1stFlrSF    ...      BedroomAbvGr  \\\n",
              "0            5       2003          2003       856    ...                 3   \n",
              "1            8       1976          1976      1262    ...                 3   \n",
              "2            5       2001          2002       920    ...                 3   \n",
              "3            5       1915          1970       961    ...                 3   \n",
              "4            5       2000          2000      1145    ...                 4   \n",
              "\n",
              "   KitchenAbvGr  TotRmsAbvGrd  GarageCars  Fireplaces  PoolArea  MoSold  \\\n",
              "0             1             8           2           0         0       2   \n",
              "1             1             6           2           1         0       5   \n",
              "2             1             6           2           1         0       9   \n",
              "3             1             7           3           1         0       2   \n",
              "4             1             9           3           1         0      12   \n",
              "\n",
              "   YrSold  HouseAge  SalePrice  \n",
              "0    2008         5     208500  \n",
              "1    2007        31     181500  \n",
              "2    2008         7     223500  \n",
              "3    2006        91     140000  \n",
              "4    2008         8     250000  \n",
              "\n",
              "[5 rows x 23 columns]"
            ]
          },
          "metadata": {
            "tags": []
          },
          "execution_count": 183
        }
      ]
    },
    {
      "metadata": {
        "id": "RED51JzX5XJx",
        "colab_type": "code",
        "colab": {
          "base_uri": "https://localhost:8080/",
          "height": 304
        },
        "outputId": "5e8bec0a-5987-4340-89aa-8ce32fe46b13"
      },
      "cell_type": "code",
      "source": [
        "data_modell.describe()"
      ],
      "execution_count": 139,
      "outputs": [
        {
          "output_type": "execute_result",
          "data": {
            "text/html": [
              "<div>\n",
              "<style scoped>\n",
              "    .dataframe tbody tr th:only-of-type {\n",
              "        vertical-align: middle;\n",
              "    }\n",
              "\n",
              "    .dataframe tbody tr th {\n",
              "        vertical-align: top;\n",
              "    }\n",
              "\n",
              "    .dataframe thead th {\n",
              "        text-align: right;\n",
              "    }\n",
              "</style>\n",
              "<table border=\"1\" class=\"dataframe\">\n",
              "  <thead>\n",
              "    <tr style=\"text-align: right;\">\n",
              "      <th></th>\n",
              "      <th>LotArea</th>\n",
              "      <th>WoodDeckSF</th>\n",
              "      <th>OverallQual</th>\n",
              "      <th>OverallCond</th>\n",
              "      <th>YearBuilt</th>\n",
              "      <th>YearRemodAdd</th>\n",
              "      <th>1stFlrSF</th>\n",
              "      <th>1stFlrSF</th>\n",
              "      <th>FullBath</th>\n",
              "      <th>HalfBath</th>\n",
              "      <th>BedroomAbvGr</th>\n",
              "      <th>KitchenAbvGr</th>\n",
              "      <th>TotRmsAbvGrd</th>\n",
              "      <th>GarageCars</th>\n",
              "      <th>Fireplaces</th>\n",
              "      <th>PoolArea</th>\n",
              "      <th>MoSold</th>\n",
              "      <th>YrSold</th>\n",
              "      <th>HouseAge</th>\n",
              "      <th>SalePrice</th>\n",
              "    </tr>\n",
              "  </thead>\n",
              "  <tbody>\n",
              "    <tr>\n",
              "      <th>count</th>\n",
              "      <td>1460.000000</td>\n",
              "      <td>1460.000000</td>\n",
              "      <td>1460.000000</td>\n",
              "      <td>1460.000000</td>\n",
              "      <td>1460.000000</td>\n",
              "      <td>1460.000000</td>\n",
              "      <td>1460.000000</td>\n",
              "      <td>1460.000000</td>\n",
              "      <td>1460.000000</td>\n",
              "      <td>1460.000000</td>\n",
              "      <td>1460.000000</td>\n",
              "      <td>1460.000000</td>\n",
              "      <td>1460.000000</td>\n",
              "      <td>1460.000000</td>\n",
              "      <td>1460.000000</td>\n",
              "      <td>1460.000000</td>\n",
              "      <td>1460.000000</td>\n",
              "      <td>1460.000000</td>\n",
              "      <td>1460.000000</td>\n",
              "      <td>1460.000000</td>\n",
              "    </tr>\n",
              "    <tr>\n",
              "      <th>mean</th>\n",
              "      <td>10516.828082</td>\n",
              "      <td>94.244521</td>\n",
              "      <td>6.099315</td>\n",
              "      <td>5.575342</td>\n",
              "      <td>1971.267808</td>\n",
              "      <td>1984.865753</td>\n",
              "      <td>1162.626712</td>\n",
              "      <td>1162.626712</td>\n",
              "      <td>1.565068</td>\n",
              "      <td>0.382877</td>\n",
              "      <td>2.866438</td>\n",
              "      <td>1.046575</td>\n",
              "      <td>6.517808</td>\n",
              "      <td>1.767123</td>\n",
              "      <td>0.613014</td>\n",
              "      <td>2.758904</td>\n",
              "      <td>6.321918</td>\n",
              "      <td>2007.815753</td>\n",
              "      <td>36.547945</td>\n",
              "      <td>180921.195890</td>\n",
              "    </tr>\n",
              "    <tr>\n",
              "      <th>std</th>\n",
              "      <td>9981.264932</td>\n",
              "      <td>125.338794</td>\n",
              "      <td>1.382997</td>\n",
              "      <td>1.112799</td>\n",
              "      <td>30.202904</td>\n",
              "      <td>20.645407</td>\n",
              "      <td>386.587738</td>\n",
              "      <td>386.587738</td>\n",
              "      <td>0.550916</td>\n",
              "      <td>0.502885</td>\n",
              "      <td>0.815778</td>\n",
              "      <td>0.220338</td>\n",
              "      <td>1.625393</td>\n",
              "      <td>0.747315</td>\n",
              "      <td>0.644666</td>\n",
              "      <td>40.177307</td>\n",
              "      <td>2.703626</td>\n",
              "      <td>1.328095</td>\n",
              "      <td>30.250152</td>\n",
              "      <td>79442.502883</td>\n",
              "    </tr>\n",
              "    <tr>\n",
              "      <th>min</th>\n",
              "      <td>1300.000000</td>\n",
              "      <td>0.000000</td>\n",
              "      <td>1.000000</td>\n",
              "      <td>1.000000</td>\n",
              "      <td>1872.000000</td>\n",
              "      <td>1950.000000</td>\n",
              "      <td>334.000000</td>\n",
              "      <td>334.000000</td>\n",
              "      <td>0.000000</td>\n",
              "      <td>0.000000</td>\n",
              "      <td>0.000000</td>\n",
              "      <td>0.000000</td>\n",
              "      <td>2.000000</td>\n",
              "      <td>0.000000</td>\n",
              "      <td>0.000000</td>\n",
              "      <td>0.000000</td>\n",
              "      <td>1.000000</td>\n",
              "      <td>2006.000000</td>\n",
              "      <td>0.000000</td>\n",
              "      <td>34900.000000</td>\n",
              "    </tr>\n",
              "    <tr>\n",
              "      <th>25%</th>\n",
              "      <td>7553.500000</td>\n",
              "      <td>0.000000</td>\n",
              "      <td>5.000000</td>\n",
              "      <td>5.000000</td>\n",
              "      <td>1954.000000</td>\n",
              "      <td>1967.000000</td>\n",
              "      <td>882.000000</td>\n",
              "      <td>882.000000</td>\n",
              "      <td>1.000000</td>\n",
              "      <td>0.000000</td>\n",
              "      <td>2.000000</td>\n",
              "      <td>1.000000</td>\n",
              "      <td>5.000000</td>\n",
              "      <td>1.000000</td>\n",
              "      <td>0.000000</td>\n",
              "      <td>0.000000</td>\n",
              "      <td>5.000000</td>\n",
              "      <td>2007.000000</td>\n",
              "      <td>8.000000</td>\n",
              "      <td>129975.000000</td>\n",
              "    </tr>\n",
              "    <tr>\n",
              "      <th>50%</th>\n",
              "      <td>9478.500000</td>\n",
              "      <td>0.000000</td>\n",
              "      <td>6.000000</td>\n",
              "      <td>5.000000</td>\n",
              "      <td>1973.000000</td>\n",
              "      <td>1994.000000</td>\n",
              "      <td>1087.000000</td>\n",
              "      <td>1087.000000</td>\n",
              "      <td>2.000000</td>\n",
              "      <td>0.000000</td>\n",
              "      <td>3.000000</td>\n",
              "      <td>1.000000</td>\n",
              "      <td>6.000000</td>\n",
              "      <td>2.000000</td>\n",
              "      <td>1.000000</td>\n",
              "      <td>0.000000</td>\n",
              "      <td>6.000000</td>\n",
              "      <td>2008.000000</td>\n",
              "      <td>35.000000</td>\n",
              "      <td>163000.000000</td>\n",
              "    </tr>\n",
              "    <tr>\n",
              "      <th>75%</th>\n",
              "      <td>11601.500000</td>\n",
              "      <td>168.000000</td>\n",
              "      <td>7.000000</td>\n",
              "      <td>6.000000</td>\n",
              "      <td>2000.000000</td>\n",
              "      <td>2004.000000</td>\n",
              "      <td>1391.250000</td>\n",
              "      <td>1391.250000</td>\n",
              "      <td>2.000000</td>\n",
              "      <td>1.000000</td>\n",
              "      <td>3.000000</td>\n",
              "      <td>1.000000</td>\n",
              "      <td>7.000000</td>\n",
              "      <td>2.000000</td>\n",
              "      <td>1.000000</td>\n",
              "      <td>0.000000</td>\n",
              "      <td>8.000000</td>\n",
              "      <td>2009.000000</td>\n",
              "      <td>54.000000</td>\n",
              "      <td>214000.000000</td>\n",
              "    </tr>\n",
              "    <tr>\n",
              "      <th>max</th>\n",
              "      <td>215245.000000</td>\n",
              "      <td>857.000000</td>\n",
              "      <td>10.000000</td>\n",
              "      <td>9.000000</td>\n",
              "      <td>2010.000000</td>\n",
              "      <td>2010.000000</td>\n",
              "      <td>4692.000000</td>\n",
              "      <td>4692.000000</td>\n",
              "      <td>3.000000</td>\n",
              "      <td>2.000000</td>\n",
              "      <td>8.000000</td>\n",
              "      <td>3.000000</td>\n",
              "      <td>14.000000</td>\n",
              "      <td>4.000000</td>\n",
              "      <td>3.000000</td>\n",
              "      <td>738.000000</td>\n",
              "      <td>12.000000</td>\n",
              "      <td>2010.000000</td>\n",
              "      <td>136.000000</td>\n",
              "      <td>755000.000000</td>\n",
              "    </tr>\n",
              "  </tbody>\n",
              "</table>\n",
              "</div>"
            ],
            "text/plain": [
              "             LotArea   WoodDeckSF  OverallQual  OverallCond    YearBuilt  \\\n",
              "count    1460.000000  1460.000000  1460.000000  1460.000000  1460.000000   \n",
              "mean    10516.828082    94.244521     6.099315     5.575342  1971.267808   \n",
              "std      9981.264932   125.338794     1.382997     1.112799    30.202904   \n",
              "min      1300.000000     0.000000     1.000000     1.000000  1872.000000   \n",
              "25%      7553.500000     0.000000     5.000000     5.000000  1954.000000   \n",
              "50%      9478.500000     0.000000     6.000000     5.000000  1973.000000   \n",
              "75%     11601.500000   168.000000     7.000000     6.000000  2000.000000   \n",
              "max    215245.000000   857.000000    10.000000     9.000000  2010.000000   \n",
              "\n",
              "       YearRemodAdd     1stFlrSF     1stFlrSF     FullBath     HalfBath  \\\n",
              "count   1460.000000  1460.000000  1460.000000  1460.000000  1460.000000   \n",
              "mean    1984.865753  1162.626712  1162.626712     1.565068     0.382877   \n",
              "std       20.645407   386.587738   386.587738     0.550916     0.502885   \n",
              "min     1950.000000   334.000000   334.000000     0.000000     0.000000   \n",
              "25%     1967.000000   882.000000   882.000000     1.000000     0.000000   \n",
              "50%     1994.000000  1087.000000  1087.000000     2.000000     0.000000   \n",
              "75%     2004.000000  1391.250000  1391.250000     2.000000     1.000000   \n",
              "max     2010.000000  4692.000000  4692.000000     3.000000     2.000000   \n",
              "\n",
              "       BedroomAbvGr  KitchenAbvGr  TotRmsAbvGrd   GarageCars   Fireplaces  \\\n",
              "count   1460.000000   1460.000000   1460.000000  1460.000000  1460.000000   \n",
              "mean       2.866438      1.046575      6.517808     1.767123     0.613014   \n",
              "std        0.815778      0.220338      1.625393     0.747315     0.644666   \n",
              "min        0.000000      0.000000      2.000000     0.000000     0.000000   \n",
              "25%        2.000000      1.000000      5.000000     1.000000     0.000000   \n",
              "50%        3.000000      1.000000      6.000000     2.000000     1.000000   \n",
              "75%        3.000000      1.000000      7.000000     2.000000     1.000000   \n",
              "max        8.000000      3.000000     14.000000     4.000000     3.000000   \n",
              "\n",
              "          PoolArea       MoSold       YrSold     HouseAge      SalePrice  \n",
              "count  1460.000000  1460.000000  1460.000000  1460.000000    1460.000000  \n",
              "mean      2.758904     6.321918  2007.815753    36.547945  180921.195890  \n",
              "std      40.177307     2.703626     1.328095    30.250152   79442.502883  \n",
              "min       0.000000     1.000000  2006.000000     0.000000   34900.000000  \n",
              "25%       0.000000     5.000000  2007.000000     8.000000  129975.000000  \n",
              "50%       0.000000     6.000000  2008.000000    35.000000  163000.000000  \n",
              "75%       0.000000     8.000000  2009.000000    54.000000  214000.000000  \n",
              "max     738.000000    12.000000  2010.000000   136.000000  755000.000000  "
            ]
          },
          "metadata": {
            "tags": []
          },
          "execution_count": 139
        }
      ]
    },
    {
      "metadata": {
        "id": "fTJTBdf1WlNW",
        "colab_type": "code",
        "colab": {
          "base_uri": "https://localhost:8080/",
          "height": 487
        },
        "outputId": "89fb9a56-3b90-4f95-e546-c9dbd255825c"
      },
      "cell_type": "code",
      "source": [
        "data_modell.info()"
      ],
      "execution_count": 184,
      "outputs": [
        {
          "output_type": "stream",
          "text": [
            "<class 'pandas.core.frame.DataFrame'>\n",
            "RangeIndex: 1460 entries, 0 to 1459\n",
            "Data columns (total 23 columns):\n",
            "LotArea         1460 non-null int64\n",
            "Neighborhood    1460 non-null object\n",
            "WoodDeckSF      1460 non-null int64\n",
            "Condition1      1460 non-null object\n",
            "HouseStyle      1460 non-null object\n",
            "OverallQual     1460 non-null int64\n",
            "OverallCond     1460 non-null int64\n",
            "YearBuilt       1460 non-null int64\n",
            "YearRemodAdd    1460 non-null int64\n",
            "1stFlrSF        1460 non-null int64\n",
            "1stFlrSF        1460 non-null int64\n",
            "FullBath        1460 non-null int64\n",
            "HalfBath        1460 non-null int64\n",
            "BedroomAbvGr    1460 non-null int64\n",
            "KitchenAbvGr    1460 non-null int64\n",
            "TotRmsAbvGrd    1460 non-null int64\n",
            "GarageCars      1460 non-null int64\n",
            "Fireplaces      1460 non-null int64\n",
            "PoolArea        1460 non-null int64\n",
            "MoSold          1460 non-null int64\n",
            "YrSold          1460 non-null int64\n",
            "HouseAge        1460 non-null int64\n",
            "SalePrice       1460 non-null int64\n",
            "dtypes: int64(20), object(3)\n",
            "memory usage: 262.4+ KB\n"
          ],
          "name": "stdout"
        }
      ]
    },
    {
      "metadata": {
        "id": "GM6bxAeBE956",
        "colab_type": "text"
      },
      "cell_type": "markdown",
      "source": [
        "#Maskinlærings modeller"
      ]
    },
    {
      "metadata": {
        "id": "e1bESHsxltJb",
        "colab_type": "text"
      },
      "cell_type": "markdown",
      "source": [
        "![alt text](https://)Til maskinlæringsmodellene vil vi benytte datasettet fra løsningsforslaget i første seksjon. Vi ønsker her å predikere salgsprisen basert på all informasjonen som er tilgjengelig på boligen. Altså vil input til modellen være utvalgte features, og outputen vil være salgspris."
      ]
    },
    {
      "metadata": {
        "id": "mry8x7W-xr2e",
        "colab_type": "code",
        "colab": {
          "base_uri": "https://localhost:8080/",
          "height": 34
        },
        "outputId": "f410aea0-e361-492c-caa5-23430940516c"
      },
      "cell_type": "code",
      "source": [
        "#Velg alle kolonner untatt den siste\n",
        "input_data = data_modell.iloc[:,0:-1]\n",
        "\n",
        "#Velg kun siste kolonne\n",
        "output_data = data_modell['SalePrice']\n",
        "\n",
        "print('Datastørrelse på features: {}, datastørrelse på priser: {}'.format(input_data.shape,output_data.shape))"
      ],
      "execution_count": 198,
      "outputs": [
        {
          "output_type": "stream",
          "text": [
            "Datastørrelse på features: (1460, 22), datastørrelse på priser: (1460,)\n"
          ],
          "name": "stdout"
        }
      ]
    },
    {
      "metadata": {
        "id": "_dMtjG5ZPRnu",
        "colab_type": "code",
        "colab": {
          "base_uri": "https://localhost:8080/",
          "height": 244
        },
        "outputId": "4ae933a1-aa90-4442-848a-d2894b68a5d8"
      },
      "cell_type": "code",
      "source": [
        "data_modell.head(5)"
      ],
      "execution_count": 199,
      "outputs": [
        {
          "output_type": "execute_result",
          "data": {
            "text/html": [
              "<div>\n",
              "<style scoped>\n",
              "    .dataframe tbody tr th:only-of-type {\n",
              "        vertical-align: middle;\n",
              "    }\n",
              "\n",
              "    .dataframe tbody tr th {\n",
              "        vertical-align: top;\n",
              "    }\n",
              "\n",
              "    .dataframe thead th {\n",
              "        text-align: right;\n",
              "    }\n",
              "</style>\n",
              "<table border=\"1\" class=\"dataframe\">\n",
              "  <thead>\n",
              "    <tr style=\"text-align: right;\">\n",
              "      <th></th>\n",
              "      <th>LotArea</th>\n",
              "      <th>Neighborhood</th>\n",
              "      <th>WoodDeckSF</th>\n",
              "      <th>Condition1</th>\n",
              "      <th>HouseStyle</th>\n",
              "      <th>OverallQual</th>\n",
              "      <th>OverallCond</th>\n",
              "      <th>YearBuilt</th>\n",
              "      <th>YearRemodAdd</th>\n",
              "      <th>1stFlrSF</th>\n",
              "      <th>...</th>\n",
              "      <th>BedroomAbvGr</th>\n",
              "      <th>KitchenAbvGr</th>\n",
              "      <th>TotRmsAbvGrd</th>\n",
              "      <th>GarageCars</th>\n",
              "      <th>Fireplaces</th>\n",
              "      <th>PoolArea</th>\n",
              "      <th>MoSold</th>\n",
              "      <th>YrSold</th>\n",
              "      <th>HouseAge</th>\n",
              "      <th>SalePrice</th>\n",
              "    </tr>\n",
              "  </thead>\n",
              "  <tbody>\n",
              "    <tr>\n",
              "      <th>0</th>\n",
              "      <td>8450</td>\n",
              "      <td>CollgCr</td>\n",
              "      <td>0</td>\n",
              "      <td>Norm</td>\n",
              "      <td>2Story</td>\n",
              "      <td>7</td>\n",
              "      <td>5</td>\n",
              "      <td>2003</td>\n",
              "      <td>2003</td>\n",
              "      <td>856</td>\n",
              "      <td>...</td>\n",
              "      <td>3</td>\n",
              "      <td>1</td>\n",
              "      <td>8</td>\n",
              "      <td>2</td>\n",
              "      <td>0</td>\n",
              "      <td>0</td>\n",
              "      <td>2</td>\n",
              "      <td>2008</td>\n",
              "      <td>5</td>\n",
              "      <td>208500</td>\n",
              "    </tr>\n",
              "    <tr>\n",
              "      <th>1</th>\n",
              "      <td>9600</td>\n",
              "      <td>Veenker</td>\n",
              "      <td>298</td>\n",
              "      <td>Feedr</td>\n",
              "      <td>1Story</td>\n",
              "      <td>6</td>\n",
              "      <td>8</td>\n",
              "      <td>1976</td>\n",
              "      <td>1976</td>\n",
              "      <td>1262</td>\n",
              "      <td>...</td>\n",
              "      <td>3</td>\n",
              "      <td>1</td>\n",
              "      <td>6</td>\n",
              "      <td>2</td>\n",
              "      <td>1</td>\n",
              "      <td>0</td>\n",
              "      <td>5</td>\n",
              "      <td>2007</td>\n",
              "      <td>31</td>\n",
              "      <td>181500</td>\n",
              "    </tr>\n",
              "    <tr>\n",
              "      <th>2</th>\n",
              "      <td>11250</td>\n",
              "      <td>CollgCr</td>\n",
              "      <td>0</td>\n",
              "      <td>Norm</td>\n",
              "      <td>2Story</td>\n",
              "      <td>7</td>\n",
              "      <td>5</td>\n",
              "      <td>2001</td>\n",
              "      <td>2002</td>\n",
              "      <td>920</td>\n",
              "      <td>...</td>\n",
              "      <td>3</td>\n",
              "      <td>1</td>\n",
              "      <td>6</td>\n",
              "      <td>2</td>\n",
              "      <td>1</td>\n",
              "      <td>0</td>\n",
              "      <td>9</td>\n",
              "      <td>2008</td>\n",
              "      <td>7</td>\n",
              "      <td>223500</td>\n",
              "    </tr>\n",
              "    <tr>\n",
              "      <th>3</th>\n",
              "      <td>9550</td>\n",
              "      <td>Crawfor</td>\n",
              "      <td>0</td>\n",
              "      <td>Norm</td>\n",
              "      <td>2Story</td>\n",
              "      <td>7</td>\n",
              "      <td>5</td>\n",
              "      <td>1915</td>\n",
              "      <td>1970</td>\n",
              "      <td>961</td>\n",
              "      <td>...</td>\n",
              "      <td>3</td>\n",
              "      <td>1</td>\n",
              "      <td>7</td>\n",
              "      <td>3</td>\n",
              "      <td>1</td>\n",
              "      <td>0</td>\n",
              "      <td>2</td>\n",
              "      <td>2006</td>\n",
              "      <td>91</td>\n",
              "      <td>140000</td>\n",
              "    </tr>\n",
              "    <tr>\n",
              "      <th>4</th>\n",
              "      <td>14260</td>\n",
              "      <td>NoRidge</td>\n",
              "      <td>192</td>\n",
              "      <td>Norm</td>\n",
              "      <td>2Story</td>\n",
              "      <td>8</td>\n",
              "      <td>5</td>\n",
              "      <td>2000</td>\n",
              "      <td>2000</td>\n",
              "      <td>1145</td>\n",
              "      <td>...</td>\n",
              "      <td>4</td>\n",
              "      <td>1</td>\n",
              "      <td>9</td>\n",
              "      <td>3</td>\n",
              "      <td>1</td>\n",
              "      <td>0</td>\n",
              "      <td>12</td>\n",
              "      <td>2008</td>\n",
              "      <td>8</td>\n",
              "      <td>250000</td>\n",
              "    </tr>\n",
              "  </tbody>\n",
              "</table>\n",
              "<p>5 rows × 23 columns</p>\n",
              "</div>"
            ],
            "text/plain": [
              "   LotArea Neighborhood  WoodDeckSF Condition1 HouseStyle  OverallQual  \\\n",
              "0     8450      CollgCr           0       Norm     2Story            7   \n",
              "1     9600      Veenker         298      Feedr     1Story            6   \n",
              "2    11250      CollgCr           0       Norm     2Story            7   \n",
              "3     9550      Crawfor           0       Norm     2Story            7   \n",
              "4    14260      NoRidge         192       Norm     2Story            8   \n",
              "\n",
              "   OverallCond  YearBuilt  YearRemodAdd  1stFlrSF    ...      BedroomAbvGr  \\\n",
              "0            5       2003          2003       856    ...                 3   \n",
              "1            8       1976          1976      1262    ...                 3   \n",
              "2            5       2001          2002       920    ...                 3   \n",
              "3            5       1915          1970       961    ...                 3   \n",
              "4            5       2000          2000      1145    ...                 4   \n",
              "\n",
              "   KitchenAbvGr  TotRmsAbvGrd  GarageCars  Fireplaces  PoolArea  MoSold  \\\n",
              "0             1             8           2           0         0       2   \n",
              "1             1             6           2           1         0       5   \n",
              "2             1             6           2           1         0       9   \n",
              "3             1             7           3           1         0       2   \n",
              "4             1             9           3           1         0      12   \n",
              "\n",
              "   YrSold  HouseAge  SalePrice  \n",
              "0    2008         5     208500  \n",
              "1    2007        31     181500  \n",
              "2    2008         7     223500  \n",
              "3    2006        91     140000  \n",
              "4    2008         8     250000  \n",
              "\n",
              "[5 rows x 23 columns]"
            ]
          },
          "metadata": {
            "tags": []
          },
          "execution_count": 199
        }
      ]
    },
    {
      "metadata": {
        "id": "eoQMiqIMy5oK",
        "colab_type": "text"
      },
      "cell_type": "markdown",
      "source": [
        "Maskinlæringsmodellene ser kun tallverdier, det er derfor ikke mulig å servere den kategoriske verdier som \"Neighborhood\". Vi må derfor konvertere all kategorisk input til tallverdier."
      ]
    },
    {
      "metadata": {
        "id": "pIHARmIR0Uqc",
        "colab_type": "code",
        "colab": {
          "base_uri": "https://localhost:8080/",
          "height": 67
        },
        "outputId": "eed06214-39e2-4352-c278-b39ba11c6461"
      },
      "cell_type": "code",
      "source": [
        "data[\"Street\"].value_counts()"
      ],
      "execution_count": 188,
      "outputs": [
        {
          "output_type": "execute_result",
          "data": {
            "text/plain": [
              "Pave    1454\n",
              "Grvl       6\n",
              "Name: Street, dtype: int64"
            ]
          },
          "metadata": {
            "tags": []
          },
          "execution_count": 188
        }
      ]
    },
    {
      "metadata": {
        "id": "KmzoFkjf16-y",
        "colab_type": "text"
      },
      "cell_type": "markdown",
      "source": [
        "Denne kategorien kan oversettes til [0 , 1] istedenfor ['Pvae' , 'Grvl'] slik at den blir lesbar for modellene våre. Dette må gjøres med alle kategoriske verdier. Scikit-learn har funksjoner som gjør dette enkelt."
      ]
    },
    {
      "metadata": {
        "id": "UHXq3aab0aCp",
        "colab_type": "code",
        "colab": {
          "base_uri": "https://localhost:8080/",
          "height": 244
        },
        "outputId": "b9180fed-2b8d-4d32-8c0a-da1072edd297"
      },
      "cell_type": "code",
      "source": [
        "from sklearn import preprocessing\n",
        "\n",
        "Neighborhood = preprocessing.LabelEncoder()\n",
        "Condition1 = preprocessing.LabelEncoder()\n",
        "HouseStyle = preprocessing.LabelEncoder()\n",
        "\n",
        "input_data['Neighborhood'] = streets.fit_transform(input_data['Neighborhood'])\n",
        "input_data['Condition1'] = streets.fit_transform(input_data['Condition1'])\n",
        "input_data['HouseStyle'] = streets.fit_transform(input_data['HouseStyle'])\n",
        "\n",
        "input_data.head(5)"
      ],
      "execution_count": 200,
      "outputs": [
        {
          "output_type": "execute_result",
          "data": {
            "text/html": [
              "<div>\n",
              "<style scoped>\n",
              "    .dataframe tbody tr th:only-of-type {\n",
              "        vertical-align: middle;\n",
              "    }\n",
              "\n",
              "    .dataframe tbody tr th {\n",
              "        vertical-align: top;\n",
              "    }\n",
              "\n",
              "    .dataframe thead th {\n",
              "        text-align: right;\n",
              "    }\n",
              "</style>\n",
              "<table border=\"1\" class=\"dataframe\">\n",
              "  <thead>\n",
              "    <tr style=\"text-align: right;\">\n",
              "      <th></th>\n",
              "      <th>LotArea</th>\n",
              "      <th>Neighborhood</th>\n",
              "      <th>WoodDeckSF</th>\n",
              "      <th>Condition1</th>\n",
              "      <th>HouseStyle</th>\n",
              "      <th>OverallQual</th>\n",
              "      <th>OverallCond</th>\n",
              "      <th>YearBuilt</th>\n",
              "      <th>YearRemodAdd</th>\n",
              "      <th>1stFlrSF</th>\n",
              "      <th>...</th>\n",
              "      <th>HalfBath</th>\n",
              "      <th>BedroomAbvGr</th>\n",
              "      <th>KitchenAbvGr</th>\n",
              "      <th>TotRmsAbvGrd</th>\n",
              "      <th>GarageCars</th>\n",
              "      <th>Fireplaces</th>\n",
              "      <th>PoolArea</th>\n",
              "      <th>MoSold</th>\n",
              "      <th>YrSold</th>\n",
              "      <th>HouseAge</th>\n",
              "    </tr>\n",
              "  </thead>\n",
              "  <tbody>\n",
              "    <tr>\n",
              "      <th>0</th>\n",
              "      <td>8450</td>\n",
              "      <td>5</td>\n",
              "      <td>0</td>\n",
              "      <td>2</td>\n",
              "      <td>5</td>\n",
              "      <td>7</td>\n",
              "      <td>5</td>\n",
              "      <td>2003</td>\n",
              "      <td>2003</td>\n",
              "      <td>856</td>\n",
              "      <td>...</td>\n",
              "      <td>1</td>\n",
              "      <td>3</td>\n",
              "      <td>1</td>\n",
              "      <td>8</td>\n",
              "      <td>2</td>\n",
              "      <td>0</td>\n",
              "      <td>0</td>\n",
              "      <td>2</td>\n",
              "      <td>2008</td>\n",
              "      <td>5</td>\n",
              "    </tr>\n",
              "    <tr>\n",
              "      <th>1</th>\n",
              "      <td>9600</td>\n",
              "      <td>24</td>\n",
              "      <td>298</td>\n",
              "      <td>1</td>\n",
              "      <td>2</td>\n",
              "      <td>6</td>\n",
              "      <td>8</td>\n",
              "      <td>1976</td>\n",
              "      <td>1976</td>\n",
              "      <td>1262</td>\n",
              "      <td>...</td>\n",
              "      <td>0</td>\n",
              "      <td>3</td>\n",
              "      <td>1</td>\n",
              "      <td>6</td>\n",
              "      <td>2</td>\n",
              "      <td>1</td>\n",
              "      <td>0</td>\n",
              "      <td>5</td>\n",
              "      <td>2007</td>\n",
              "      <td>31</td>\n",
              "    </tr>\n",
              "    <tr>\n",
              "      <th>2</th>\n",
              "      <td>11250</td>\n",
              "      <td>5</td>\n",
              "      <td>0</td>\n",
              "      <td>2</td>\n",
              "      <td>5</td>\n",
              "      <td>7</td>\n",
              "      <td>5</td>\n",
              "      <td>2001</td>\n",
              "      <td>2002</td>\n",
              "      <td>920</td>\n",
              "      <td>...</td>\n",
              "      <td>1</td>\n",
              "      <td>3</td>\n",
              "      <td>1</td>\n",
              "      <td>6</td>\n",
              "      <td>2</td>\n",
              "      <td>1</td>\n",
              "      <td>0</td>\n",
              "      <td>9</td>\n",
              "      <td>2008</td>\n",
              "      <td>7</td>\n",
              "    </tr>\n",
              "    <tr>\n",
              "      <th>3</th>\n",
              "      <td>9550</td>\n",
              "      <td>6</td>\n",
              "      <td>0</td>\n",
              "      <td>2</td>\n",
              "      <td>5</td>\n",
              "      <td>7</td>\n",
              "      <td>5</td>\n",
              "      <td>1915</td>\n",
              "      <td>1970</td>\n",
              "      <td>961</td>\n",
              "      <td>...</td>\n",
              "      <td>0</td>\n",
              "      <td>3</td>\n",
              "      <td>1</td>\n",
              "      <td>7</td>\n",
              "      <td>3</td>\n",
              "      <td>1</td>\n",
              "      <td>0</td>\n",
              "      <td>2</td>\n",
              "      <td>2006</td>\n",
              "      <td>91</td>\n",
              "    </tr>\n",
              "    <tr>\n",
              "      <th>4</th>\n",
              "      <td>14260</td>\n",
              "      <td>15</td>\n",
              "      <td>192</td>\n",
              "      <td>2</td>\n",
              "      <td>5</td>\n",
              "      <td>8</td>\n",
              "      <td>5</td>\n",
              "      <td>2000</td>\n",
              "      <td>2000</td>\n",
              "      <td>1145</td>\n",
              "      <td>...</td>\n",
              "      <td>1</td>\n",
              "      <td>4</td>\n",
              "      <td>1</td>\n",
              "      <td>9</td>\n",
              "      <td>3</td>\n",
              "      <td>1</td>\n",
              "      <td>0</td>\n",
              "      <td>12</td>\n",
              "      <td>2008</td>\n",
              "      <td>8</td>\n",
              "    </tr>\n",
              "  </tbody>\n",
              "</table>\n",
              "<p>5 rows × 22 columns</p>\n",
              "</div>"
            ],
            "text/plain": [
              "   LotArea  Neighborhood  WoodDeckSF  Condition1  HouseStyle  OverallQual  \\\n",
              "0     8450             5           0           2           5            7   \n",
              "1     9600            24         298           1           2            6   \n",
              "2    11250             5           0           2           5            7   \n",
              "3     9550             6           0           2           5            7   \n",
              "4    14260            15         192           2           5            8   \n",
              "\n",
              "   OverallCond  YearBuilt  YearRemodAdd  1stFlrSF    ...     HalfBath  \\\n",
              "0            5       2003          2003       856    ...            1   \n",
              "1            8       1976          1976      1262    ...            0   \n",
              "2            5       2001          2002       920    ...            1   \n",
              "3            5       1915          1970       961    ...            0   \n",
              "4            5       2000          2000      1145    ...            1   \n",
              "\n",
              "   BedroomAbvGr  KitchenAbvGr  TotRmsAbvGrd  GarageCars  Fireplaces  PoolArea  \\\n",
              "0             3             1             8           2           0         0   \n",
              "1             3             1             6           2           1         0   \n",
              "2             3             1             6           2           1         0   \n",
              "3             3             1             7           3           1         0   \n",
              "4             4             1             9           3           1         0   \n",
              "\n",
              "   MoSold  YrSold  HouseAge  \n",
              "0       2    2008         5  \n",
              "1       5    2007        31  \n",
              "2       9    2008         7  \n",
              "3       2    2006        91  \n",
              "4      12    2008         8  \n",
              "\n",
              "[5 rows x 22 columns]"
            ]
          },
          "metadata": {
            "tags": []
          },
          "execution_count": 200
        }
      ]
    },
    {
      "metadata": {
        "id": "hL3vBWoIvVtC",
        "colab_type": "code",
        "colab": {
          "base_uri": "https://localhost:8080/",
          "height": 34
        },
        "outputId": "e4b79407-e876-4f75-ea7b-3af02abedd35"
      },
      "cell_type": "code",
      "source": [
        "#Dataen deles opp i to sett: treningssett og testsett. Test_size bestemmer andelen av dataen som blir brukt til testing av modellen\n",
        "from sklearn.model_selection import train_test_split\n",
        "\n",
        "input_treningsdata, input_testdata, output_treningsdata, output_testdata = train_test_split(input_data, output_data, test_size=0.2)\n",
        "\n",
        "print('Input_treningsdata: {}, input_testdata: {}, output_treningsdata: {} og output_testdata: {}'.format(input_treningsdata.shape, input_testdata.shape, output_treningsdata.shape, output_testdata.shape))\n"
      ],
      "execution_count": 201,
      "outputs": [
        {
          "output_type": "stream",
          "text": [
            "Input_treningsdata: (1168, 22), input_testdata: (292, 22), output_treningsdata: (1168,) og output_testdata: (292,)\n"
          ],
          "name": "stdout"
        }
      ]
    },
    {
      "metadata": {
        "id": "VKqM6AkePyCE",
        "colab_type": "code",
        "colab": {
          "base_uri": "https://localhost:8080/",
          "height": 244
        },
        "outputId": "ba384599-4297-49fd-f554-f1b5d450d5c3"
      },
      "cell_type": "code",
      "source": [
        "input_testdata.head(5)"
      ],
      "execution_count": 202,
      "outputs": [
        {
          "output_type": "execute_result",
          "data": {
            "text/html": [
              "<div>\n",
              "<style scoped>\n",
              "    .dataframe tbody tr th:only-of-type {\n",
              "        vertical-align: middle;\n",
              "    }\n",
              "\n",
              "    .dataframe tbody tr th {\n",
              "        vertical-align: top;\n",
              "    }\n",
              "\n",
              "    .dataframe thead th {\n",
              "        text-align: right;\n",
              "    }\n",
              "</style>\n",
              "<table border=\"1\" class=\"dataframe\">\n",
              "  <thead>\n",
              "    <tr style=\"text-align: right;\">\n",
              "      <th></th>\n",
              "      <th>LotArea</th>\n",
              "      <th>Neighborhood</th>\n",
              "      <th>WoodDeckSF</th>\n",
              "      <th>Condition1</th>\n",
              "      <th>HouseStyle</th>\n",
              "      <th>OverallQual</th>\n",
              "      <th>OverallCond</th>\n",
              "      <th>YearBuilt</th>\n",
              "      <th>YearRemodAdd</th>\n",
              "      <th>1stFlrSF</th>\n",
              "      <th>...</th>\n",
              "      <th>HalfBath</th>\n",
              "      <th>BedroomAbvGr</th>\n",
              "      <th>KitchenAbvGr</th>\n",
              "      <th>TotRmsAbvGrd</th>\n",
              "      <th>GarageCars</th>\n",
              "      <th>Fireplaces</th>\n",
              "      <th>PoolArea</th>\n",
              "      <th>MoSold</th>\n",
              "      <th>YrSold</th>\n",
              "      <th>HouseAge</th>\n",
              "    </tr>\n",
              "  </thead>\n",
              "  <tbody>\n",
              "    <tr>\n",
              "      <th>1418</th>\n",
              "      <td>9204</td>\n",
              "      <td>12</td>\n",
              "      <td>0</td>\n",
              "      <td>2</td>\n",
              "      <td>2</td>\n",
              "      <td>5</td>\n",
              "      <td>5</td>\n",
              "      <td>1963</td>\n",
              "      <td>1963</td>\n",
              "      <td>1144</td>\n",
              "      <td>...</td>\n",
              "      <td>1</td>\n",
              "      <td>3</td>\n",
              "      <td>1</td>\n",
              "      <td>6</td>\n",
              "      <td>1</td>\n",
              "      <td>0</td>\n",
              "      <td>0</td>\n",
              "      <td>8</td>\n",
              "      <td>2008</td>\n",
              "      <td>45</td>\n",
              "    </tr>\n",
              "    <tr>\n",
              "      <th>1140</th>\n",
              "      <td>7350</td>\n",
              "      <td>12</td>\n",
              "      <td>0</td>\n",
              "      <td>2</td>\n",
              "      <td>2</td>\n",
              "      <td>5</td>\n",
              "      <td>7</td>\n",
              "      <td>1951</td>\n",
              "      <td>1951</td>\n",
              "      <td>952</td>\n",
              "      <td>...</td>\n",
              "      <td>0</td>\n",
              "      <td>2</td>\n",
              "      <td>1</td>\n",
              "      <td>4</td>\n",
              "      <td>2</td>\n",
              "      <td>0</td>\n",
              "      <td>0</td>\n",
              "      <td>6</td>\n",
              "      <td>2008</td>\n",
              "      <td>57</td>\n",
              "    </tr>\n",
              "    <tr>\n",
              "      <th>1128</th>\n",
              "      <td>11796</td>\n",
              "      <td>8</td>\n",
              "      <td>100</td>\n",
              "      <td>2</td>\n",
              "      <td>5</td>\n",
              "      <td>7</td>\n",
              "      <td>5</td>\n",
              "      <td>2004</td>\n",
              "      <td>2005</td>\n",
              "      <td>847</td>\n",
              "      <td>...</td>\n",
              "      <td>1</td>\n",
              "      <td>4</td>\n",
              "      <td>1</td>\n",
              "      <td>8</td>\n",
              "      <td>2</td>\n",
              "      <td>1</td>\n",
              "      <td>0</td>\n",
              "      <td>7</td>\n",
              "      <td>2007</td>\n",
              "      <td>3</td>\n",
              "    </tr>\n",
              "    <tr>\n",
              "      <th>1329</th>\n",
              "      <td>9084</td>\n",
              "      <td>8</td>\n",
              "      <td>0</td>\n",
              "      <td>2</td>\n",
              "      <td>5</td>\n",
              "      <td>7</td>\n",
              "      <td>5</td>\n",
              "      <td>1998</td>\n",
              "      <td>1998</td>\n",
              "      <td>955</td>\n",
              "      <td>...</td>\n",
              "      <td>1</td>\n",
              "      <td>3</td>\n",
              "      <td>1</td>\n",
              "      <td>8</td>\n",
              "      <td>2</td>\n",
              "      <td>1</td>\n",
              "      <td>0</td>\n",
              "      <td>6</td>\n",
              "      <td>2006</td>\n",
              "      <td>8</td>\n",
              "    </tr>\n",
              "    <tr>\n",
              "      <th>366</th>\n",
              "      <td>9500</td>\n",
              "      <td>12</td>\n",
              "      <td>0</td>\n",
              "      <td>2</td>\n",
              "      <td>2</td>\n",
              "      <td>6</td>\n",
              "      <td>5</td>\n",
              "      <td>1963</td>\n",
              "      <td>1963</td>\n",
              "      <td>1394</td>\n",
              "      <td>...</td>\n",
              "      <td>1</td>\n",
              "      <td>3</td>\n",
              "      <td>1</td>\n",
              "      <td>6</td>\n",
              "      <td>2</td>\n",
              "      <td>2</td>\n",
              "      <td>0</td>\n",
              "      <td>7</td>\n",
              "      <td>2009</td>\n",
              "      <td>46</td>\n",
              "    </tr>\n",
              "  </tbody>\n",
              "</table>\n",
              "<p>5 rows × 22 columns</p>\n",
              "</div>"
            ],
            "text/plain": [
              "      LotArea  Neighborhood  WoodDeckSF  Condition1  HouseStyle  OverallQual  \\\n",
              "1418     9204            12           0           2           2            5   \n",
              "1140     7350            12           0           2           2            5   \n",
              "1128    11796             8         100           2           5            7   \n",
              "1329     9084             8           0           2           5            7   \n",
              "366      9500            12           0           2           2            6   \n",
              "\n",
              "      OverallCond  YearBuilt  YearRemodAdd  1stFlrSF    ...     HalfBath  \\\n",
              "1418            5       1963          1963      1144    ...            1   \n",
              "1140            7       1951          1951       952    ...            0   \n",
              "1128            5       2004          2005       847    ...            1   \n",
              "1329            5       1998          1998       955    ...            1   \n",
              "366             5       1963          1963      1394    ...            1   \n",
              "\n",
              "      BedroomAbvGr  KitchenAbvGr  TotRmsAbvGrd  GarageCars  Fireplaces  \\\n",
              "1418             3             1             6           1           0   \n",
              "1140             2             1             4           2           0   \n",
              "1128             4             1             8           2           1   \n",
              "1329             3             1             8           2           1   \n",
              "366              3             1             6           2           2   \n",
              "\n",
              "      PoolArea  MoSold  YrSold  HouseAge  \n",
              "1418         0       8    2008        45  \n",
              "1140         0       6    2008        57  \n",
              "1128         0       7    2007         3  \n",
              "1329         0       6    2006         8  \n",
              "366          0       7    2009        46  \n",
              "\n",
              "[5 rows x 22 columns]"
            ]
          },
          "metadata": {
            "tags": []
          },
          "execution_count": 202
        }
      ]
    },
    {
      "metadata": {
        "id": "XGZ0TxP0PnLH",
        "colab_type": "code",
        "colab": {
          "base_uri": "https://localhost:8080/",
          "height": 118
        },
        "outputId": "313300e7-da0c-4bde-b3cd-d5d92be28cde"
      },
      "cell_type": "code",
      "source": [
        "output_testdata.head(5)"
      ],
      "execution_count": 203,
      "outputs": [
        {
          "output_type": "execute_result",
          "data": {
            "text/plain": [
              "1418    124000\n",
              "1140    139000\n",
              "1128    215000\n",
              "1329    176500\n",
              "366     159000\n",
              "Name: SalePrice, dtype: int64"
            ]
          },
          "metadata": {
            "tags": []
          },
          "execution_count": 203
        }
      ]
    },
    {
      "metadata": {
        "id": "UHgizoNmwGIO",
        "colab_type": "text"
      },
      "cell_type": "markdown",
      "source": [
        "Vi ønsker å måle feilprediksjonen kvantitativt, og trenger derfor en feilmåling. Gjennomsnittet av absolutt feil er en simpel og oversiktlig måte å beregne feilprediksjoner på."
      ]
    },
    {
      "metadata": {
        "id": "rCZPiQfS9KXH",
        "colab_type": "code",
        "colab": {}
      },
      "cell_type": "code",
      "source": [
        "from sklearn.metrics import mean_absolute_error"
      ],
      "execution_count": 0,
      "outputs": []
    },
    {
      "metadata": {
        "id": "YwgJLVuG1bQh",
        "colab_type": "text"
      },
      "cell_type": "markdown",
      "source": [
        "##Lineær regressjon"
      ]
    },
    {
      "metadata": {
        "id": "fWNg2sqX1bCq",
        "colab_type": "code",
        "colab": {
          "base_uri": "https://localhost:8080/",
          "height": 34
        },
        "outputId": "19233dd7-d11d-41c6-bc6d-fbfc5a53f10e"
      },
      "cell_type": "code",
      "source": [
        "#Treningsfase\n",
        "from sklearn import linear_model\n",
        "\n",
        "#Regressjons-objekt fra scikit-learn\n",
        "modell_regressjon = linear_model.LinearRegression()\n",
        "\n",
        "#Tilpass regressjonskoeffesienter med treningsdata\n",
        "modell_regressjon.fit(input_treningsdata, output_treningsdata)"
      ],
      "execution_count": 204,
      "outputs": [
        {
          "output_type": "execute_result",
          "data": {
            "text/plain": [
              "LinearRegression(copy_X=True, fit_intercept=True, n_jobs=1, normalize=False)"
            ]
          },
          "metadata": {
            "tags": []
          },
          "execution_count": 204
        }
      ]
    },
    {
      "metadata": {
        "id": "rd7u24kM1_Gi",
        "colab_type": "code",
        "colab": {
          "base_uri": "https://localhost:8080/",
          "height": 34
        },
        "outputId": "4b6fc733-f1ed-47a6-b872-9c21cfb6769d"
      },
      "cell_type": "code",
      "source": [
        "#Testfase\n",
        "\n",
        "#Gjør pris-prediksjon på testdataen\n",
        "pris_prediksjoner_regressjon = modell_regressjon.predict(input_testdata)\n",
        "\n",
        "#Beregn feil\n",
        "MAE = mean_absolute_error(pris_prediksjoner_regressjon, output_testdata)\n",
        "\n",
        "print(\"MAE: {}\".format(MAE))"
      ],
      "execution_count": 205,
      "outputs": [
        {
          "output_type": "stream",
          "text": [
            "MAE: 25900.700898841398\n"
          ],
          "name": "stdout"
        }
      ]
    },
    {
      "metadata": {
        "id": "LZFxrZOY9nmq",
        "colab_type": "code",
        "colab": {
          "base_uri": "https://localhost:8080/",
          "height": 620
        },
        "outputId": "48400659-e9ce-41ad-88c8-9733c19ef11b"
      },
      "cell_type": "code",
      "source": [
        "plt.figure(figsize=(15, 10))\n",
        "plt.scatter(x=output_testdata, y=pris_prediksjoner_regressjon)\n",
        "plt.xlabel('Pris')\n",
        "plt.ylabel('Prediskjon')\n",
        "plt.title('Faktisk pris mot estimert pris')\n",
        "plt.show()"
      ],
      "execution_count": 217,
      "outputs": [
        {
          "output_type": "display_data",
          "data": {
            "image/png": "[encoded data removed]",
            "text/plain": [
              "<matplotlib.figure.Figure at 0x7f6b87ad1eb8>"
            ]
          },
          "metadata": {
            "tags": []
          }
        }
      ]
    },
    {
      "metadata": {
        "id": "CGoRukkIFvuu",
        "colab_type": "text"
      },
      "cell_type": "markdown",
      "source": [
        "## Decision tree regression"
      ]
    },
    {
      "metadata": {
        "id": "Cz0m8BKfaWpk",
        "colab_type": "code",
        "colab": {}
      },
      "cell_type": "code",
      "source": [
        "from sklearn import tree\n",
        "\n",
        "model_tre = tree.DecisionTreeClassifier()\n",
        "\n",
        "model_tre.fit(input_treningsdata, output_treningsdata)"
      ],
      "execution_count": 0,
      "outputs": []
    },
    {
      "metadata": {
        "id": "p3-iMUvpahKv",
        "colab_type": "code",
        "colab": {}
      },
      "cell_type": "code",
      "source": [
        "pris_prediksjon_tre = model_tre.predict(input_testdata)\n",
        "\n",
        "MAE_tre = mean_absolute_error(pris_prediksjon_tre, output_testdata)\n",
        "\n",
        "print(\"MAE: {}\".format(MAE_tre))"
      ],
      "execution_count": 0,
      "outputs": []
    },
    {
      "metadata": {
        "id": "z4g8fHoRatms",
        "colab_type": "code",
        "colab": {}
      },
      "cell_type": "code",
      "source": [
        "plt.figure(figsize=(15, 10))\n",
        "plt.scatter(output_testdata, pris_prediksjon_tre)\n",
        "plt.xlabel('Predkisjon')\n",
        "plt.xlabel('Pris')\n",
        "plt.title('Faktisk pris mot estimert pris')\n",
        "plt.show()"
      ],
      "execution_count": 0,
      "outputs": []
    },
    {
      "metadata": {
        "id": "5hvA0IPRFq36",
        "colab_type": "text"
      },
      "cell_type": "markdown",
      "source": [
        "##Forest regressjon"
      ]
    },
    {
      "metadata": {
        "id": "T0Spzq3U4eS2",
        "colab_type": "code",
        "colab": {
          "base_uri": "https://localhost:8080/",
          "height": 118
        },
        "outputId": "733eacfc-2268-4ce4-932f-89147b4a9222"
      },
      "cell_type": "code",
      "source": [
        "#Forest regression\n",
        "\n",
        "from sklearn.ensemble import RandomForestRegressor\n",
        "\n",
        "modell_forest = RandomForestRegressor(random_state=1)\n",
        "\n",
        "modell_forest.fit(input_treningsdata, output_treningsdata)"
      ],
      "execution_count": 218,
      "outputs": [
        {
          "output_type": "execute_result",
          "data": {
            "text/plain": [
              "RandomForestRegressor(bootstrap=True, criterion='mse', max_depth=None,\n",
              "           max_features='auto', max_leaf_nodes=None,\n",
              "           min_impurity_decrease=0.0, min_impurity_split=None,\n",
              "           min_samples_leaf=1, min_samples_split=2,\n",
              "           min_weight_fraction_leaf=0.0, n_estimators=10, n_jobs=1,\n",
              "           oob_score=False, random_state=1, verbose=0, warm_start=False)"
            ]
          },
          "metadata": {
            "tags": []
          },
          "execution_count": 218
        }
      ]
    },
    {
      "metadata": {
        "id": "kf_75UuA_rJv",
        "colab_type": "code",
        "colab": {
          "base_uri": "https://localhost:8080/",
          "height": 34
        },
        "outputId": "17ee97c4-19dd-4ce0-89dc-1a5fe1f107b3"
      },
      "cell_type": "code",
      "source": [
        "pris_prediksjon_forest = modell_forest.predict(input_testdata)\n",
        "\n",
        "MAE_forest = mean_absolute_error(pris_prediksjon_forest, output_testdata)\n",
        "\n",
        "print(\"MAE: {}\".format(MAE_forest))"
      ],
      "execution_count": 219,
      "outputs": [
        {
          "output_type": "stream",
          "text": [
            "MAE: 22723.470159817352\n"
          ],
          "name": "stdout"
        }
      ]
    },
    {
      "metadata": {
        "id": "bvmdjFOkAH_i",
        "colab_type": "code",
        "colab": {
          "base_uri": "https://localhost:8080/",
          "height": 892
        },
        "outputId": "bb73adf8-35ae-415a-994c-7a70da9a80bb"
      },
      "cell_type": "code",
      "source": [
        "plt.figure(figsize=(15, 10))\n",
        "plt.scatter(output_testdata, pris_prediksjon_forest)\n",
        "plt.xlabel('Predkisjon')\n",
        "plt.xlabel('Pris')\n",
        "plt.title('Faktisk pris mot estimert pris')\n",
        "plt.show()"
      ],
      "execution_count": 220,
      "outputs": [
        {
          "output_type": "display_data",
          "data": {
            "image/png": "[encoded data removed]",
            "text/plain": [
              "<matplotlib.figure.Figure at 0x7f6b863a5780>"
            ]
          },
          "metadata": {
            "tags": []
          }
        }
      ]
    },
    {
      "metadata": {
        "id": "6SiivxKBeaOO",
        "colab_type": "text"
      },
      "cell_type": "markdown",
      "source": [
        "##Nevralt nettverk regressjon"
      ]
    },
    {
      "metadata": {
        "id": "udablqB1cNx1",
        "colab_type": "code",
        "colab": {}
      },
      "cell_type": "code",
      "source": [
        "from sklearn.neural_network import MLPRegressor\n",
        "\n",
        "modell_MLPR = MLPRegressor(hidden_layer_sizes=(100,), activation='relu',solver='adam', learning_rate_init=0.001, momentum = 0.9, validation_fraction = 0.1)\n",
        "\n",
        "modell_MLPR.fit(input_treningsdata, output_treningsdata)"
      ],
      "execution_count": 0,
      "outputs": []
    },
    {
      "metadata": {
        "id": "jgMIdlRceF5H",
        "colab_type": "code",
        "colab": {}
      },
      "cell_type": "code",
      "source": [
        "pris_prediksjon_MLPR = modell_MLPR.predict(input_testdata)\n",
        "\n",
        "MAE_MLPR = mean_absolute_error(pris_prediksjon_MLPR, output_testdata)\n",
        "\n",
        "print(\"MAE: {}\".format(MAE_MLPR))"
      ],
      "execution_count": 0,
      "outputs": []
    },
    {
      "metadata": {
        "id": "NnDi0ltdegsR",
        "colab_type": "code",
        "colab": {}
      },
      "cell_type": "code",
      "source": [
        "plt.figure(figsize=(15, 10))\n",
        "plt.scatter(output_testdata, pris_prediksjon_MLPR)\n",
        "plt.xlabel('Predkisjon')\n",
        "plt.xlabel('Pris')\n",
        "plt.title('Faktisk pris mot estimert pris')\n",
        "plt.show()"
      ],
      "execution_count": 0,
      "outputs": []
    },
    {
      "metadata": {
        "id": "kfZGKM3NF7WB",
        "colab_type": "text"
      },
      "cell_type": "markdown",
      "source": [
        "##Oppgave: Bygg model\n",
        "\n",
        "Bygg din egen modell på datasettet du lagde i tidligere seksjon. Juster parametrene til modellen og forsøk å få så lav MAE som mulig. Bruk gjerne andre regressjonsmetoder i scikit-learn biblioteket:\n",
        "\n",
        "http://scikit-learn.org/stable/supervised_learning.html"
      ]
    },
    {
      "metadata": {
        "id": "e32wTdjaGGnx",
        "colab_type": "text"
      },
      "cell_type": "markdown",
      "source": [
        "## løsningsforslag"
      ]
    },
    {
      "metadata": {
        "id": "C3TcE9YiGJEy",
        "colab_type": "text"
      },
      "cell_type": "markdown",
      "source": [
        "# Analyse av resultater"
      ]
    },
    {
      "metadata": {
        "id": "qYIKmfMhUiCJ",
        "colab_type": "text"
      },
      "cell_type": "markdown",
      "source": [
        "La oss se nærmere på 10 eksempler i datasettet"
      ]
    },
    {
      "metadata": {
        "id": "wIaO4mw6kbzz",
        "colab_type": "text"
      },
      "cell_type": "markdown",
      "source": [
        "##Sammenlikning av modeller"
      ]
    },
    {
      "metadata": {
        "id": "xALfnHUAUgcN",
        "colab_type": "code",
        "colab": {}
      },
      "cell_type": "code",
      "source": [
        "plt.figure(figsize=(15, 10))\n",
        "plt.scatter(input_testdata[], pris_prediksjon_forest)\n",
        "plt.xlabel('Predkisjon')\n",
        "plt.xlabel('Pris')\n",
        "plt.title('Faktisk pris mot estimert pris')\n",
        "plt.show()"
      ],
      "execution_count": 0,
      "outputs": []
    },
    {
      "metadata": {
        "id": "5055y1joGONr",
        "colab_type": "text"
      },
      "cell_type": "markdown",
      "source": [
        "## Partial dependence"
      ]
    },
    {
      "metadata": {
        "id": "CQPdRiC1fKy8",
        "colab_type": "code",
        "colab": {}
      },
      "cell_type": "code",
      "source": [
        "from sklearn.ensemble.partial_dependence import partial_dependence, plot_partial_dependence\n",
        "\n",
        "features = ['LotArea', 'BedrAboveGr']\n",
        "\n",
        "my_plots = plot_partial_dependence(modell_forest, \n",
        "                                   features=features, \n",
        "                                   X=input_treningsdata[features], \n",
        "                                   feature_names=features, \n",
        "                                   grid_resolution=10)"
      ],
      "execution_count": 0,
      "outputs": []
    }
  ]
}