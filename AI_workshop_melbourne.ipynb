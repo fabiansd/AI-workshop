{
  "nbformat": 4,
  "nbformat_minor": 0,
  "metadata": {
    "colab": {
      "name": "AI_workshop_melbourne.ipynb",
      "version": "0.3.2",
      "provenance": [],
      "include_colab_link": true
    },
    "kernelspec": {
      "name": "python3",
      "display_name": "Python 3"
    }
  },
  "cells": [
    {
      "cell_type": "markdown",
      "metadata": {
        "id": "view-in-github",
        "colab_type": "text"
      },
      "source": [
        "[View in Colaboratory](https://colab.research.google.com/github/fabiansd/AI-workshop/blob/master/AI_workshop_melbourne.ipynb)"
      ]
    },
    {
      "metadata": {
        "id": "23kPOlTZs8DW",
        "colab_type": "text"
      },
      "cell_type": "markdown",
      "source": [
        "Github:\n",
        "\n",
        "https://github.com/fabiansd/AI-workshop/blob/master/AI_workshop_melbourne.ipynb"
      ]
    },
    {
      "metadata": {
        "id": "Mj-iU85nxENm",
        "colab_type": "text"
      },
      "cell_type": "markdown",
      "source": [
        "# Datasett\n",
        "\n",
        "Beskrivelse av datasett:\n",
        "\n",
        "https://www.kaggle.com/c/home-data-for-ml-course/data\n",
        "\n",
        "\n",
        "Alle måleenhetene utgjør hver sin kolonne, og kalles *features*\n"
      ]
    },
    {
      "metadata": {
        "id": "vSAy5T75eZQi",
        "colab_type": "text"
      },
      "cell_type": "markdown",
      "source": [
        "# Importering av data og python-bibliotek\n",
        "\n",
        "Python tillater å bruke mange forskjellige ferdigskrevne funksjoner. Disse lagres i biblioteker som må importeres før de kan brukes. \n",
        "\n",
        "### Bibliotek dokumentasjon\n",
        "\n",
        "Pandas (datahåndtering):\n",
        "https://pandas.pydata.org/pandas-docs/stable/generated/pandas.DataFrame.html\n",
        "\n",
        "Seaborn (plottefunksjoner):\n",
        "https://seaborn.pydata.org/index.html\n",
        "\n",
        "Matplotlib (plottestøttefunksjoner)\n",
        "https://matplotlib.org/api/_as_gen/matplotlib.figure.Figure.html#matplotlib.figure.Figure\n",
        "\n",
        "Scikit-learn (maskinlæring):\n",
        "http://scikit-learn.org/stable/\n",
        "\n",
        "\n",
        "Bruk google hyppig, se på eksempler!"
      ]
    },
    {
      "metadata": {
        "id": "NTWD1FGw3Smp",
        "colab_type": "code",
        "colab": {}
      },
      "cell_type": "code",
      "source": [
        "## Import av biblioteker \n",
        "import sklearn\n",
        "import pandas as pd\n",
        "import seaborn as sns\n",
        "from matplotlib import pyplot as plt\n",
        "\n",
        "pd.options.mode.chained_assignment = None  # default='warn'\n",
        "\n",
        "pd.set_option('display.max_columns', None)\n",
        "\n",
        "import warnings\n",
        "warnings.simplefilter(action='ignore', category=FutureWarning)\n",
        "\n",
        "\n",
        "## Laster ned datasettet fra lenken og lagrer dette som filen Melbourne_train.csv\n",
        "from six.moves import urllib\n",
        "urllib.request.urlretrieve(\"https://raw.githubusercontent.com/fabiansd/AI-workshop/master/data/Melbourne_train.csv\", \"./Melbourne_train.csv\")"
      ],
      "execution_count": 0,
      "outputs": []
    },
    {
      "metadata": {
        "id": "aVZuxHi_361P",
        "colab_type": "text"
      },
      "cell_type": "markdown",
      "source": [
        "# Databehandling\n",
        "\n",
        "Første steg i et AI-prosjekt er å undersøke og studere dataen. Pandas har mange funksjoner som kan hjelpe til med dette. Det er viktig få et innblikk i hvordan dataen ser ut og hva slag verdier den faktisk inneholder. Pandas kan sammenliknes med excel, bare for python.\n"
      ]
    },
    {
      "metadata": {
        "id": "66oiq_AKrrbp",
        "colab_type": "text"
      },
      "cell_type": "markdown",
      "source": [
        "## Utforsking av data\n",
        "\n",
        "Dataen blir lest og lastet opp av pandas biblioteket. Dette gjøres ved å bruke pandas-funksjonen <br>\n",
        "$pd.read\\_csv()$. <br>Funksjonen tar en parameter som er filstien til csv-filen som vi har lastet ned. Parameteren må være av typen String. Det betyr tekst og må skrives inne mellom anførselstegn. <br> I dette tilfellet er parameteren<i> \"Melbourne_train.csv\"</i><br>\n",
        "\n",
        "Funksjonen returnerer et objekt som representerer datasettet vårt. I dette tilfellet heter objektet $data$"
      ]
    },
    {
      "metadata": {
        "id": "2P2YICvV4Co0",
        "colab_type": "code",
        "colab": {}
      },
      "cell_type": "code",
      "source": [
        "data = pd.read_csv('Melbourne_train.csv')"
      ],
      "execution_count": 0,
      "outputs": []
    },
    {
      "metadata": {
        "id": "c3Aq-Tcar3dq",
        "colab_type": "text"
      },
      "cell_type": "markdown",
      "source": [
        "Et Pandas-element har mange funksjoner. Disse utfører ulike operasjoner på objektet. <br>\n",
        "Eksempelvis kan man skrive ut de N førset elementene i datasettet ved å skrive: <br> $data.head(N)$ <br>\n",
        "Denne funksjonen tar parametre av typen heltall også kalt Integer.<br> I dette tilfellet er parameteren <i>10</i>"
      ]
    },
    {
      "metadata": {
        "id": "OmvwCThz6Qdu",
        "colab_type": "code",
        "colab": {}
      },
      "cell_type": "code",
      "source": [
        "data.head(10)"
      ],
      "execution_count": 0,
      "outputs": []
    },
    {
      "metadata": {
        "id": "rAwJ_VcusDLg",
        "colab_type": "text"
      },
      "cell_type": "markdown",
      "source": [
        "På samme vis kan de 5 siste elementene vises ved å skrive: \n",
        "<br>$data.tail(5)$"
      ]
    },
    {
      "metadata": {
        "id": "r1hIBvu2RDLm",
        "colab_type": "code",
        "colab": {}
      },
      "cell_type": "code",
      "source": [
        "data.tail(5)"
      ],
      "execution_count": 0,
      "outputs": []
    },
    {
      "metadata": {
        "id": "AONVtkIr-xaH",
        "colab_type": "text"
      },
      "cell_type": "markdown",
      "source": [
        "Med pandas kan man få en statistisk oversikt over datasettet med funksjonen <br> $data.describe()$ <br> For eksempel kan vi se hva gjennomsnittlig salgspris for boliger er. <br> Merk at oversikten viser kun numeriske features, og ikke kategoriske features som også finnes i datasettet."
      ]
    },
    {
      "metadata": {
        "id": "AGVrC79uREgA",
        "colab_type": "code",
        "colab": {}
      },
      "cell_type": "code",
      "source": [
        "data.describe()"
      ],
      "execution_count": 0,
      "outputs": []
    },
    {
      "metadata": {
        "id": "rqWAijVQoCDp",
        "colab_type": "text"
      },
      "cell_type": "markdown",
      "source": [
        "Videre kan det være nyttig å skrive ut navnet på alle kolonnene i datasettet vårt. Disse er lagret i en variabel til objektet $data$. <br> Disse kan aksesseres ved å skrive $data.columns$ og kan printes rett ut gjennom Python sin $print()$ funksjon "
      ]
    },
    {
      "metadata": {
        "id": "bHfl_nCCoNLO",
        "colab_type": "code",
        "colab": {}
      },
      "cell_type": "code",
      "source": [
        "print(data.columns)"
      ],
      "execution_count": 0,
      "outputs": []
    },
    {
      "metadata": {
        "id": "NiqSUdFXtvv-",
        "colab_type": "text"
      },
      "cell_type": "markdown",
      "source": [
        "Pandas kan også gi info om hva slags data som er lagret i datasettet, og hvor mange instanser det er i hver kolonne. Dette gjøres gjennom funksjonen <br>\n",
        "$data.info()$ <br>\n",
        "Det kan også være greit å vite hvor mange linjer det faktisk er. Vi teller derfor antallet linjre i objektet $data$ ved å bruke funksjonen <br>\n",
        "$len()$ <br>\n",
        "Denne funksjonen kan ta objektet $data$, som vi ønsker å telle, som parameter."
      ]
    },
    {
      "metadata": {
        "id": "2r-HQcObR72m",
        "colab_type": "code",
        "colab": {}
      },
      "cell_type": "code",
      "source": [
        "data.info()\n",
        "\n",
        "## Skriver ut lengden på datasettet. Dvs antallet linjer i datasettet\n",
        "print('\\n Lengde på data: {}'.format(len(data)))"
      ],
      "execution_count": 0,
      "outputs": []
    },
    {
      "metadata": {
        "id": "WLFDGH2PfijY",
        "colab_type": "text"
      },
      "cell_type": "markdown",
      "source": [
        "Som vi kan se i denne informasjonen så er det ikke like mange verdier i de ulike attributtene, det vi kaller features. Det er ikke uvanlig at det mangler verdier i datasettet. Vi kan sjekke hvilke features som mangler en eller flere verdier med funksjonene <br> $.isnull().any()$ <br>"
      ]
    },
    {
      "metadata": {
        "id": "nBnrfyyqfepB",
        "colab_type": "code",
        "colab": {}
      },
      "cell_type": "code",
      "source": [
        "print(data.isnull().any())"
      ],
      "execution_count": 0,
      "outputs": []
    },
    {
      "metadata": {
        "id": "mkjlOaUyk_gF",
        "colab_type": "text"
      },
      "cell_type": "markdown",
      "source": [
        "Ofte er registreringer ufullstendige og mangler data i spesifikke kolonner. En vanlig måte å håndtere manglende verdier på er å fjerne hele raden.\n",
        "\n",
        "I vårt tilfelle finnes det en kolonne, <i>kvalitet på badebasseng</i>, hvor det kun er gjort <b>7</b> registreringer. Ved å fjerne alle linjer som ikke innholder verdi for denne kolonnen ville man følgelig stått igjen med <b>7</b> registreringer. Vi kan heller ikke gjøre noen god gjetning på hva de manglende verdiene skal være. Derfor er det ikke mulig å tette disse \"hullene\", og \"PoolQC\" er derfor en lite egnet feature å benytte.\n",
        "\n",
        "\n",
        "For å droppe rader men en eller flere manglende verdier kan man gjøre følgende:\n",
        "\n",
        "<br> $ data = data.dropna() $<br>\n",
        "\n",
        "Dette resulterer i ingen registreringer, siden alle rader inneholder minst en manglende verdi."
      ]
    },
    {
      "metadata": {
        "id": "fUSR6KyN05u2",
        "colab_type": "code",
        "colab": {}
      },
      "cell_type": "code",
      "source": [
        "data_ingen_mangel = data.dropna()\n",
        "data_ingen_mangel.info()"
      ],
      "execution_count": 0,
      "outputs": []
    },
    {
      "metadata": {
        "id": "FAOwr1HSssQZ",
        "colab_type": "text"
      },
      "cell_type": "markdown",
      "source": [
        "Pandas tillater å hente ut enkeltkolonner, og man kan dermed hente ut featurene man ønsker og eskludere de man ikke ønsker. Disse kan utvinnes ved å referere til \"kolonnenavnet.\"\n",
        "Syntaksen for å hente ut en kolonne er som følger: <br>\n",
        "$data['Kolonnenavn']$<br>\n",
        "I vårt tilfelle velger vi å lagre denne kolonnen i et nytt pandas-objekt kalt $data\\_ÅrSolgt$"
      ]
    },
    {
      "metadata": {
        "id": "vKHvOqcLceTk",
        "colab_type": "code",
        "colab": {}
      },
      "cell_type": "code",
      "source": [
        "## Kolonnen \"YrSold\" lagres i et nytt Pandas-objekt kalt data_ÅrSolgt\n",
        "data_ÅrSolgt = data['YrSold']\n",
        "\n",
        "## Skriver ut de 10 første linjene i data_ÅrSolgt\n",
        "data_ÅrSolgt.head(10)"
      ],
      "execution_count": 0,
      "outputs": []
    },
    {
      "metadata": {
        "id": "KjXJjTq6wXb5",
        "colab_type": "text"
      },
      "cell_type": "markdown",
      "source": [
        "man kan også filtrere ut spesifikk data, som for eksempel alle boliger solgt i 2008"
      ]
    },
    {
      "metadata": {
        "id": "HUI_vBp7AZe9",
        "colab_type": "code",
        "colab": {}
      },
      "cell_type": "code",
      "source": [
        "## Henter ut alle linjer der YrSold er lik 2008\n",
        "data_Solgt2008 = data[data['YrSold'] == 2008]\n",
        "\n",
        "## Skriver ut 10 første linjer av data_Solgt2008\n",
        "data_Solgt2008.head(10)"
      ],
      "execution_count": 0,
      "outputs": []
    },
    {
      "metadata": {
        "id": "BBT_boFWm2hH",
        "colab_type": "text"
      },
      "cell_type": "markdown",
      "source": [
        "Pandas fungerer på mange måter som Excel. Man kan derfor hente ut verdier ved å refere til en bestemt \"celle\" i objektet. \n",
        "På den måten kan enkeltverdier hentes ut med tall-indeksering ved bruk av iloc-funksjonenen. <br>\n",
        "Eksempelvis henter følgende kode ut data lagret i <i>rad 0</i> og <i>kolonne 3</i>"
      ]
    },
    {
      "metadata": {
        "id": "00YBaG-unO0J",
        "colab_type": "code",
        "colab": {}
      },
      "cell_type": "code",
      "source": [
        "## Verdien fra linje 0, kolonne 3 lagres i variabelen verdi\n",
        "verdi = data.iloc[0,3]\n",
        "\n",
        "## Navnet på kolonne 3 lagres i variabelen feature\n",
        "feature = data.columns[3]\n",
        "\n",
        "## Skriver ut variablene feature og verdi\n",
        "print(feature, verdi)"
      ],
      "execution_count": 0,
      "outputs": []
    },
    {
      "metadata": {
        "id": "R874aW3XwjXZ",
        "colab_type": "text"
      },
      "cell_type": "markdown",
      "source": [
        "Man kan lage nye subdatasett av det originale datasettet ved å hente ut ønskede kolonner med data. Dette lar deg konstruere helt nye datasett.<br>\n",
        "\n",
        "Her introduseres vi for Pythons liste-objekt. I denne listen lagres **3** verdier av typen String; \"MoSold\", \"YrSold\", og \"SalesPrice\". \n",
        "<br>Listen opprettes ved å skrive: <br>\n",
        "$kolonner\\_salgsinfo = ['MoSold', 'YrSold', 'SalesPrice']$\n",
        "\n",
        "Deretter kan de ønskede kolonnene hentes ut med denne listen"
      ]
    },
    {
      "metadata": {
        "id": "InCy1_ERdfkK",
        "colab_type": "code",
        "colab": {}
      },
      "cell_type": "code",
      "source": [
        "## Oppretter liste som inneholder navnene på kolonnene vi ønsker å hente ut\n",
        "kolonner_salgsinfo = ['MoSold','YrSold','SalePrice']\n",
        "\n",
        "##  Henter ut kolonnene vi ønsker fra data. Lagres i data_salgsinfo\n",
        "data_salgsinfo = data[kolonner_salgsinfo]\n",
        "\n",
        "## Skriver ut de 10 første linjene i data_salgsinfo\n",
        "data_salgsinfo.head(10)"
      ],
      "execution_count": 0,
      "outputs": []
    },
    {
      "metadata": {
        "id": "tCDz3w7Cw3Rq",
        "colab_type": "text"
      },
      "cell_type": "markdown",
      "source": [
        "Nye features kan konstrueres ved å lage kombinasjoner av kolonner i datasettet. Siden kolonnen 'HouseAge' ikke finnes i datasettet vil det blir oprettet som en ny kolonne som inneholder data om hvor gammelt huset er. <br>Dette regnes ut ved å trekke årstallet for når huset ble solgt fra husets byggeår. \n"
      ]
    },
    {
      "metadata": {
        "id": "Bg6EUOREyeV9",
        "colab_type": "code",
        "colab": {}
      },
      "cell_type": "code",
      "source": [
        "## Regner ut husets alder og lagrer dette i en ny kolonne kalt HouseAge\n",
        "data_salgsinfo['HouseAge'] = data['YrSold'] - data['YearBuilt']\n",
        "\n",
        "## Skriver ut de 5 første linjene av data_salgsinfo for å se at den nye kolonnen er på plass med logiske verdier.\n",
        "data_salgsinfo.head(5)"
      ],
      "execution_count": 0,
      "outputs": []
    },
    {
      "metadata": {
        "id": "9Y78HHV4xelB",
        "colab_type": "text"
      },
      "cell_type": "markdown",
      "source": [
        "Vi kan nå enkelt finne gjennomsnittlig husalder ved å bruke <br> $ describe()$<br> "
      ]
    },
    {
      "metadata": {
        "id": "t2KWLt1lgl4C",
        "colab_type": "code",
        "colab": {}
      },
      "cell_type": "code",
      "source": [
        "data_salgsinfo.describe()"
      ],
      "execution_count": 0,
      "outputs": []
    },
    {
      "metadata": {
        "id": "Kz76BZO32imh",
        "colab_type": "text"
      },
      "cell_type": "markdown",
      "source": [
        "Man kan også få en oversikt over hva kategoriske features inneholder, som for eksempel \"Neighborhood\", for å hjelpe deg med å bli kjent med hva dataen inneholder.\n",
        "\n",
        "For å telle antall enititeter av ulike kategorier i \"Neighborhood\" kan man skrive:<br>\n",
        "$data[\"Neighborhood\"].value\\_counts()$<br>\n"
      ]
    },
    {
      "metadata": {
        "id": "DOv_-4lm2tAn",
        "colab_type": "code",
        "colab": {}
      },
      "cell_type": "code",
      "source": [
        "data[\"Neighborhood\"].value_counts()"
      ],
      "execution_count": 0,
      "outputs": []
    },
    {
      "metadata": {
        "id": "N7mvJ0nnz9u-",
        "colab_type": "text"
      },
      "cell_type": "markdown",
      "source": [
        "Denne kategoriske featuren viser at boligene er fordelt over mange nabolag. Dette er en god feature fordi den tilfører nyttig informasjon til datasettet. Om vi ser på featuren 'Utilities' derimot, så ser vi at det er et eneste tilfelle av kategorien **NoSeWa**, resten tilhører den andre kategorien. Dette vil være en feature som ikke tilfører noe informasjon, men opptar plass og øker kompleksiteten på datasettet unødvendig."
      ]
    },
    {
      "metadata": {
        "id": "PDL0E6xk3VFQ",
        "colab_type": "code",
        "colab": {}
      },
      "cell_type": "code",
      "source": [
        "data['Utilities'].value_counts()"
      ],
      "execution_count": 0,
      "outputs": []
    },
    {
      "metadata": {
        "id": "WSE60XmkkPiF",
        "colab_type": "text"
      },
      "cell_type": "markdown",
      "source": [
        "#Visualisering av data\n",
        "\n",
        "Visualisering er en viktig del av den initielle utforskingen av dataen. Det viser ofte informasjon som er vanskelig å få ved å kun se på dataen i rå form.\n",
        "\n",
        "Bibliotekene vi bruker her er Matplotlib og Seaborn (plt og sns)"
      ]
    },
    {
      "metadata": {
        "id": "jCg2e_DKx5F5",
        "colab_type": "text"
      },
      "cell_type": "markdown",
      "source": [
        "## Fordeling av data"
      ]
    },
    {
      "metadata": {
        "id": "EPX2xi5atvdi",
        "colab_type": "text"
      },
      "cell_type": "markdown",
      "source": [
        "Måten man lager en figure på er som følger:\n",
        "\n",
        "<br>$plt.figure(figsize=(n,m)) $ <br>\n",
        "Dette lager et figur objekt. Deretter velger man hvilke data man vil plott og hvordan, f.eks histogram, linjeplot osv. Her er det mange plotfunksjoner fra seaborn som er nyttige.\n",
        "\n",
        "<br> $sns.distplot() $ <br>\n",
        "\n",
        "Seaborn dokumentasjonen på distplot forklarer hvilke argumenter man kan putte inn i parantesen. For eksempel hvilken data man vil bruke. https://seaborn.pydata.org/generated/seaborn.distplot.html\n",
        "\n",
        "Deretter kan man velge hva som skal skrives langs x- og y-aksen, og om man vil ha tittel. Se mer på https://matplotlib.org/api/_as_gen/matplotlib.pyplot.figure.html#matplotlib.pyplot.figure"
      ]
    },
    {
      "metadata": {
        "id": "oy8HdNmF3tLk",
        "colab_type": "text"
      },
      "cell_type": "markdown",
      "source": [
        "Et histogram viser fordelinen av data i \"bøtter\", altså intervaller med data. Dette er velegnet for å studere fordeling av talldata. For eksempel kan vi visualisere fordelingen av salgsprisen fordelt over et valgfritt antall bøtter."
      ]
    },
    {
      "metadata": {
        "id": "gas9nZTQ11du",
        "colab_type": "code",
        "colab": {}
      },
      "cell_type": "code",
      "source": [
        "#Lab figur-objekt og bestem størrelsen\n",
        "plt.figure(figsize=(15,7))\n",
        "\n",
        "#Velg type plot med sns (seaborn) biblioteket.\n",
        "sns.distplot(data['SalePrice'],bins=50, kde=False);\n",
        "\n",
        "#X- og y-aksen kan navngis\n",
        "plt.ylabel('Antall')\n",
        "plt.xlabel('Salgspris')\n",
        "\n",
        "#Sett tittel på figur\n",
        "plt.title('Fordeling av slagspris')"
      ],
      "execution_count": 0,
      "outputs": []
    },
    {
      "metadata": {
        "id": "9l8WxeqOpnQJ",
        "colab_type": "text"
      },
      "cell_type": "markdown",
      "source": [
        "Fordelingen kan også visualiseres med en tilpasset funksjon (kde) ved å sette kde til true og hist til false."
      ]
    },
    {
      "metadata": {
        "id": "ykKneESqqM75",
        "colab_type": "code",
        "colab": {}
      },
      "cell_type": "code",
      "source": [
        "plt.figure(figsize=(15,7))\n",
        "\n",
        "## Endrer kde til True\n",
        "sns.distplot(data['SalePrice'],hist=False, kde=True);\n",
        "\n",
        "plt.title('Fordeling av slagspris')"
      ],
      "execution_count": 0,
      "outputs": []
    },
    {
      "metadata": {
        "id": "U61e6pHWCxRo",
        "colab_type": "text"
      },
      "cell_type": "markdown",
      "source": [
        "Kategorisk data kan vi visualisere ved å bruke countplots. For eksempel kan vi få en oversikt over hvor mange salg som ble gjort i de ulike årene."
      ]
    },
    {
      "metadata": {
        "id": "WhF8OvUWeEZU",
        "colab_type": "code",
        "colab": {}
      },
      "cell_type": "code",
      "source": [
        "plt.figure(figsize=(15, 6))\n",
        "sns.countplot(x='YrSold', data=data)\n",
        "plt.title('Salg per år')"
      ],
      "execution_count": 0,
      "outputs": []
    },
    {
      "metadata": {
        "id": "jkwbW1IpocGq",
        "colab_type": "text"
      },
      "cell_type": "markdown",
      "source": [
        "Man kan også gruppere inn countplots etter kategori, for eksempel kan vi fordele salg per år inn i måneder også."
      ]
    },
    {
      "metadata": {
        "id": "rv5fBpoHoi9D",
        "colab_type": "code",
        "colab": {}
      },
      "cell_type": "code",
      "source": [
        "plt.figure(figsize=(16, 7))\n",
        "sns.countplot(x='YrSold', hue='MoSold', data=data)\n",
        "plt.title('Salg per år fordelt over måneder')"
      ],
      "execution_count": 0,
      "outputs": []
    },
    {
      "metadata": {
        "id": "okeKSigWvS6D",
        "colab_type": "text"
      },
      "cell_type": "markdown",
      "source": [
        "Plottet kan legges sidelengs ved å plotte dataen i y-retning istedenfor. Dette kan gjøre det enklere å tyde plottet."
      ]
    },
    {
      "metadata": {
        "id": "5639xddQyDzg",
        "colab_type": "code",
        "colab": {}
      },
      "cell_type": "code",
      "source": [
        "plt.figure(figsize=(15, 8))\n",
        "sns.countplot(y='Neighborhood', data=data)\n",
        "plt.title('Oversik over nabolag')"
      ],
      "execution_count": 0,
      "outputs": []
    },
    {
      "metadata": {
        "id": "WEP0p5RBBojS",
        "colab_type": "text"
      },
      "cell_type": "markdown",
      "source": [
        "Et scatter plot vil vise punktvis distribusjon over dataen. Her kan vi benytte plt sin scatter funksjon.\n",
        "\n",
        "<br> $plt.scatter(x, y) $ <br>\n",
        "\n",
        "https://matplotlib.org/api/_as_gen/matplotlib.pyplot.scatter.html\n",
        "\n",
        "Her kan vi for eksempel se at nyere bygg typisk går for en høyere pris. Ikke så overraskende"
      ]
    },
    {
      "metadata": {
        "id": "vvXQvmamBzl7",
        "colab_type": "code",
        "colab": {}
      },
      "cell_type": "code",
      "source": [
        "plt.figure(figsize=(18, 12))\n",
        "plt.scatter(data['YearBuilt'], data['SalePrice'], color='black', label='Registreringer')\n",
        "plt.ylabel('Salgspris')\n",
        "plt.xlabel('Byggår')\n",
        "plt.title('Byggår mot salgspris')\n",
        "plt.legend(loc='upper left')\n",
        "plt.show()"
      ],
      "execution_count": 0,
      "outputs": []
    },
    {
      "metadata": {
        "id": "qXrAhyDVW5kn",
        "colab_type": "text"
      },
      "cell_type": "markdown",
      "source": [
        "Vi kan også plotte samme punkter for ulike nabolag, og fargekode dem forskjellig. Et nabolag filtreres ut slik:\n",
        "\n",
        "<br> $data\\_OldTown = data[data['Neighborhood'] == 'OldTown'] $<br>\n",
        "\n",
        "Deretter hentes byggår og salgspris ut som før\n",
        "\n",
        "<br> $ data\\_OldTown['YearBuilt\"] $<br>"
      ]
    },
    {
      "metadata": {
        "id": "TTq30qBqWCAq",
        "colab_type": "code",
        "colab": {}
      },
      "cell_type": "code",
      "source": [
        "plt.figure(figsize=(18, 12))\n",
        "plt.scatter(data[data['Neighborhood'] == 'OldTown']['YearBuilt'], data[data['Neighborhood'] == 'OldTown']['SalePrice'], color='red', label='OldTown')\n",
        "plt.scatter(data[data['Neighborhood'] == 'Edwards']['YearBuilt'], data[data['Neighborhood'] == 'Edwards']['SalePrice'], color='blue', label='Edwards')\n",
        "plt.scatter(data[data['Neighborhood'] == 'BrkSide']['YearBuilt'], data[data['Neighborhood'] == 'BrkSide']['SalePrice'], color='green', label='BrkSide')\n",
        "plt.ylabel('Salgspris')\n",
        "plt.xlabel('Byggår')\n",
        "plt.title('Byggår mot salgspris')\n",
        "plt.legend(loc='upper left')\n",
        "plt.show()\n",
        "\n"
      ],
      "execution_count": 0,
      "outputs": []
    },
    {
      "metadata": {
        "id": "lKrA30orwXou",
        "colab_type": "text"
      },
      "cell_type": "markdown",
      "source": [
        "##Korrelasjon\n",
        "\n",
        "For å få innsikt i hvilken effekt featurene har på hverandre er det nyttig å se på korrelasjonen mellom dem. Et korrelasjonsplot mellom variabler viser hvor my to variabler endrer seg i takt med hverandre. Om en variabel korrelerer positivt med en annen variable, vil begge typisk stige på samme tidspunkt. Om to variabler korrelerer negativt, vil den ene variabelen synke når den andre stiger.\n",
        "\n",
        "\n",
        "På korrelasjonsplottet under ser vi at det er perfekt korrelasjon langs diagonalen, noe som er naturlig siden alle variabler korrelerer perfekt med seg selv. Vi kan for eksempel se at OverallQual, som er generell kvalitet, korrelerer positivt med YearBuilt. Dette er logisk siden kvaliteten på nyere hus er typisk bedre enn på eldre hus.\n",
        "\n",
        "\n",
        "Det mest interessante å studere her er korrelasjonen mellom salgspris og de andre featurene. Merk at OverallQual korrelerer sterkt positivt med SalePrice, heller ikke så overraskende."
      ]
    },
    {
      "metadata": {
        "id": "JOt7rj23gPU5",
        "colab_type": "code",
        "colab": {}
      },
      "cell_type": "code",
      "source": [
        "plt.figure(figsize=(15,15))\n",
        "sns.heatmap(data.corr(),annot = False, cbar = True)\n",
        "plt.xticks(rotation=90)\n",
        "plt.yticks(rotation = 0)"
      ],
      "execution_count": 0,
      "outputs": []
    },
    {
      "metadata": {
        "id": "vexCu6QOFcur",
        "colab_type": "text"
      },
      "cell_type": "markdown",
      "source": [
        "## Oppgave: studer og visualiser data\n",
        "\n",
        "\n",
        "Finn følgende informasjon: \n",
        "\n",
        " - Første og siste salg (måned og år)\n",
        " \n",
        " - Største svømmebasseng\n",
        "  \n",
        " - Gjennomsnittlig antall bad i ulike nabolag\n",
        "\n",
        "\n",
        "Visualiser følgende:\n",
        "\n",
        " - Fordeling av kvadratfot på alle tomter\n",
        "\n",
        " - Fordeling over når boligene ble bygget\n",
        "\n",
        " - Hvor mange salg det er i hver måned totalt\n",
        " \n",
        " - Plot kvadratfot opp mot salgspris\n",
        "\n",
        "Lag gjerne andre visualiseringer dere syntes virker interessante."
      ]
    },
    {
      "metadata": {
        "id": "hTTEkDxjLxBa",
        "colab_type": "code",
        "colab": {}
      },
      "cell_type": "code",
      "source": [
        "\"Skriv kode her\""
      ],
      "execution_count": 0,
      "outputs": []
    },
    {
      "metadata": {
        "id": "lFGCQDkIK-x9",
        "colab_type": "text"
      },
      "cell_type": "markdown",
      "source": [
        "## Oppgave: lag nytt datasett\n",
        "\n",
        "Lag et nytt datasett og velg ut features dere tenker er nyttige. Studer dataen ved bruk av alt vi har gått gjennom, tenk at det er fordel å ha så lite unødvendig data i datasettet som mulig. Benytt korrelasjonsplottet til å velge ut features dere syntes virker nyttige. Følg oså med på telleoversikten over manglende verdier. Lag et nytt korrelasjonsplot til det nye datasettet"
      ]
    },
    {
      "metadata": {
        "id": "_BewT2fwLyog",
        "colab_type": "code",
        "colab": {}
      },
      "cell_type": "code",
      "source": [
        "#Skriv kode her"
      ],
      "execution_count": 0,
      "outputs": []
    },
    {
      "metadata": {
        "id": "U8Ol2pPSFk9D",
        "colab_type": "text"
      },
      "cell_type": "markdown",
      "source": [
        "## Løsningsforslag: studer og visualiser data"
      ]
    },
    {
      "metadata": {
        "id": "Q5B9Of2QzBLr",
        "colab_type": "code",
        "colab": {}
      },
      "cell_type": "code",
      "source": [
        "data_nabolag = data[data['Neighborhood'] == 'OldTown']\n",
        "data_nabolag.describe()"
      ],
      "execution_count": 0,
      "outputs": []
    },
    {
      "metadata": {
        "id": "oJdFPu9nlprk",
        "colab_type": "code",
        "colab": {}
      },
      "cell_type": "code",
      "source": [
        "plt.figure(figsize=(15,7))\n",
        "sns.distplot(data['LotArea'],bins=100, kde=False);\n",
        "plt.ylabel('Antall')\n",
        "plt.title('Fordeling av kvadratfot på tomt')"
      ],
      "execution_count": 0,
      "outputs": []
    },
    {
      "metadata": {
        "id": "LQsW36xKncFw",
        "colab_type": "code",
        "colab": {}
      },
      "cell_type": "code",
      "source": [
        "plt.figure(figsize=(15, 20))\n",
        "sns.countplot(y='YearBuilt', data=data)\n",
        "plt.title('Fordeling av år boligene ble bygget')"
      ],
      "execution_count": 0,
      "outputs": []
    },
    {
      "metadata": {
        "id": "ir0CSZ8u6FuS",
        "colab_type": "code",
        "colab": {}
      },
      "cell_type": "code",
      "source": [
        "plt.figure(figsize=(15,7))\n",
        "sns.countplot(data['MoSold'])\n",
        "plt.title('Salg per måned')"
      ],
      "execution_count": 0,
      "outputs": []
    },
    {
      "metadata": {
        "id": "ac8Igl26DEKA",
        "colab_type": "code",
        "colab": {}
      },
      "cell_type": "code",
      "source": [
        "plt.figure(figsize=(18, 12))\n",
        "plt.scatter(data['LotArea'], data['SalePrice'], color='black', label='Registreringer')\n",
        "plt.ylabel('Salgspris')\n",
        "plt.xlabel('LotArea')\n",
        "plt.title('Kvadratfot mot salgspris')\n",
        "plt.legend(loc='upper left')\n",
        "plt.show()"
      ],
      "execution_count": 0,
      "outputs": []
    },
    {
      "metadata": {
        "id": "Ua5NIcQijdao",
        "colab_type": "text"
      },
      "cell_type": "markdown",
      "source": [
        "##Løsningsforslag: konstruer datasett"
      ]
    },
    {
      "metadata": {
        "id": "zwI1OfUM-7YM",
        "colab_type": "code",
        "colab": {}
      },
      "cell_type": "code",
      "source": [
        "#aktuelle_kolonner = ['LotArea','Neighborhood','WoodDeckSF','Condition1','HouseStyle','OverallQual','OverallCond','YearBuilt','YearRemodAdd','ExterQual','Foundation','Heating','HeatingQC','1stFlrSF','1stFlrSF','FullBath','HalfBath','BedroomAbvGr','KitchenAbvGr','TotRmsAbvGrd','GarageCars','Fireplaces','PoolArea','MoSold','YrSold']\n",
        "aktuelle_kolonner = ['LotArea','Neighborhood','WoodDeckSF','Condition1','HouseStyle','OverallQual','OverallCond','YearBuilt','YearRemodAdd','1stFlrSF','1stFlrSF','FullBath','HalfBath','BedroomAbvGr','KitchenAbvGr','TotRmsAbvGrd','GarageCars','Fireplaces','PoolArea','MoSold','YrSold']\n",
        "data_modell = data[aktuelle_kolonner]\n",
        "data_modell['HouseAge'] = data['YrSold'] - data['YearBuilt']\n",
        "data_modell['SalePrice'] = data['SalePrice']\n",
        "data_modell.head(5)"
      ],
      "execution_count": 0,
      "outputs": []
    },
    {
      "metadata": {
        "id": "RED51JzX5XJx",
        "colab_type": "code",
        "colab": {}
      },
      "cell_type": "code",
      "source": [
        "data_modell.describe()"
      ],
      "execution_count": 0,
      "outputs": []
    },
    {
      "metadata": {
        "id": "fTJTBdf1WlNW",
        "colab_type": "code",
        "colab": {}
      },
      "cell_type": "code",
      "source": [
        "data_modell.info()"
      ],
      "execution_count": 0,
      "outputs": []
    },
    {
      "metadata": {
        "id": "wUZxcKcy0cDb",
        "colab_type": "code",
        "colab": {}
      },
      "cell_type": "code",
      "source": [
        "data_modell = data_modell.dropna()\n",
        "data_modell.info()"
      ],
      "execution_count": 0,
      "outputs": []
    },
    {
      "metadata": {
        "id": "Qs_w5rR7wLO-",
        "colab_type": "code",
        "colab": {}
      },
      "cell_type": "code",
      "source": [
        "plt.figure(figsize=(15,15))\n",
        "sns.heatmap(data_modell.corr(),annot = True,fmt = \".2f\",cbar = True)\n",
        "plt.xticks(rotation=90)\n",
        "plt.yticks(rotation = 0)"
      ],
      "execution_count": 0,
      "outputs": []
    },
    {
      "metadata": {
        "id": "GM6bxAeBE956",
        "colab_type": "text"
      },
      "cell_type": "markdown",
      "source": [
        "#Maskinlærings modeller"
      ]
    },
    {
      "metadata": {
        "id": "e1bESHsxltJb",
        "colab_type": "text"
      },
      "cell_type": "markdown",
      "source": [
        "Til maskinlæringsmodellene vil vi benytte datasettet fra løsningsforslaget i første seksjon. Vi ønsker å predikere salgsprisen basert på informasjonen vi inkluderte i dette datasettet. Altså vil input til modellen være utvalgte features, og outputen vil være salgspris. Dette deler vi opp i to ulike objekter. Data kan aksesseres i pandas objekter ved å bruke index istedenfør kolonnenanv. Dermed kan vi hente ut alle features, X, bortsett fra den siste, det er salgsprisen, Y.\n",
        "\n",
        "Dette gjøres med pandas funksjon:\n",
        "\n",
        "<br> $data.iloc[rad, kolonne] $ <br>\n",
        "\n",
        "I python betyr \":\" alle, altså alle rader, og \"0:-1\" betyre fra og med 0 til (og ikke med) element (-1)"
      ]
    },
    {
      "metadata": {
        "id": "mry8x7W-xr2e",
        "colab_type": "code",
        "colab": {}
      },
      "cell_type": "code",
      "source": [
        "#Velg alle kolonner untatt den siste. Denne inneholder Salgsprisen som vi ønsker å predikere\n",
        "input_data = data_modell.iloc[:,0:-1]\n",
        "\n",
        "#Velg kun siste kolonne. Dette er salgsprisen\n",
        "output_data = data_modell['SalePrice']\n",
        "\n",
        "print('Datastørrelse på features: {}, datastørrelse på priser: {}'.format(input_data.shape,output_data.shape))"
      ],
      "execution_count": 0,
      "outputs": []
    },
    {
      "metadata": {
        "id": "_dMtjG5ZPRnu",
        "colab_type": "code",
        "colab": {}
      },
      "cell_type": "code",
      "source": [
        "data_modell.head(5)"
      ],
      "execution_count": 0,
      "outputs": []
    },
    {
      "metadata": {
        "id": "eoQMiqIMy5oK",
        "colab_type": "text"
      },
      "cell_type": "markdown",
      "source": [
        "Maskinlæringsmodellene ser kun tallverdier, det er derfor ikke mulig å servere den kategoriske verdier som \"Neighborhood\". Vi må derfor konvertere all kategorisk input til tallverdier. Et enkelt eksempel er å se på \"Street\" featuren, som kun har to kategorier."
      ]
    },
    {
      "metadata": {
        "id": "pIHARmIR0Uqc",
        "colab_type": "code",
        "colab": {}
      },
      "cell_type": "code",
      "source": [
        "data[\"Street\"].value_counts()"
      ],
      "execution_count": 0,
      "outputs": []
    },
    {
      "metadata": {
        "id": "KmzoFkjf16-y",
        "colab_type": "text"
      },
      "cell_type": "markdown",
      "source": [
        "Disse kategoriene kan oversettes til [0 , 1] istedenfor ['Pvae' , 'Grvl'] slik at de blir lesbare for modellene våre. Dette må gjøres med alle kategoriske verdier i datasettet vi skal bruke. Scikit-learn har funksjoner som gjør dette enkelt.\n",
        "\n",
        "se mer: http://scikit-learn.org/stable/modules/generated/sklearn.preprocessing.LabelEncoder.html"
      ]
    },
    {
      "metadata": {
        "id": "UHXq3aab0aCp",
        "colab_type": "code",
        "colab": {}
      },
      "cell_type": "code",
      "source": [
        "from sklearn import preprocessing\n",
        "\n",
        "## Oppretter encodere for de ulike kategoriene vi ønsker å transformere fra tekst til tall.\n",
        "Neighborhood = preprocessing.LabelEncoder()\n",
        "Condition1 = preprocessing.LabelEncoder()\n",
        "HouseStyle = preprocessing.LabelEncoder()\n",
        "\n",
        "## Konverterer kolonnene som inneholder tekstverdier til tallverdier\n",
        "input_data['Neighborhood'] = Neighborhood.fit_transform(input_data['Neighborhood'])\n",
        "input_data['Condition1'] = Condition1.fit_transform(input_data['Condition1'])\n",
        "input_data['HouseStyle'] = HouseStyle.fit_transform(input_data['HouseStyle'])\n",
        "\n",
        "## Sjekker at kolonnene med kategoriske features har fått tallverdier\n",
        "input_data.head(5)"
      ],
      "execution_count": 0,
      "outputs": []
    },
    {
      "metadata": {
        "id": "hMRQynDG3D5G",
        "colab_type": "text"
      },
      "cell_type": "markdown",
      "source": [
        "Som nevnt i presentasjonen, må vi fordele dataen inn i trenings, validerings og testsett. Nå tar vi ut et test sett, og gjemmer det til slutten for å gjennomføre en endelig test av de ferdige modellene. Vi benytter funksjonen\n",
        "\n",
        "<br> $ train_test_split(X, Y, test_sett_andel) $ <br>\n",
        "\n",
        "http://scikit-learn.org/stable/modules/generated/sklearn.model_selection.train_test_split.html\n"
      ]
    },
    {
      "metadata": {
        "id": "hL3vBWoIvVtC",
        "colab_type": "code",
        "colab": {}
      },
      "cell_type": "code",
      "source": [
        "#Dataen deles opp i to sett: treningssett og testsett. Test_size bestemmer andelen av dataen som blir brukt til testing av modellen\n",
        "from sklearn.model_selection import train_test_split\n",
        "\n",
        "input_treningsdata, input_testdata, output_treningsdata, output_testdata = train_test_split(input_data, output_data, test_size=0.2, random_state=1)\n",
        "\n",
        "print('Input_treningsdata: {}, input_testdata: {}, output_treningsdata: {} og output_testdata: {}'.format(input_treningsdata.shape, input_testdata.shape, output_treningsdata.shape, output_testdata.shape))\n"
      ],
      "execution_count": 0,
      "outputs": []
    },
    {
      "metadata": {
        "id": "mKqHguRC3nQk",
        "colab_type": "code",
        "colab": {}
      },
      "cell_type": "code",
      "source": [
        "input_treningsdata.info()"
      ],
      "execution_count": 0,
      "outputs": []
    },
    {
      "metadata": {
        "id": "VKqM6AkePyCE",
        "colab_type": "code",
        "colab": {}
      },
      "cell_type": "code",
      "source": [
        "input_testdata.info(5)"
      ],
      "execution_count": 0,
      "outputs": []
    },
    {
      "metadata": {
        "id": "IxKP04VR8WRE",
        "colab_type": "text"
      },
      "cell_type": "markdown",
      "source": [
        "Vi importerer en metode for å måle graden av feilprediksjon. Dette vil forklares senere"
      ]
    },
    {
      "metadata": {
        "id": "ZAnOFH9i8VOs",
        "colab_type": "code",
        "colab": {}
      },
      "cell_type": "code",
      "source": [
        "## Importerer metode for å måle gjennomsnittlig absolutt feil\n",
        "from sklearn.metrics import mean_absolute_error"
      ],
      "execution_count": 0,
      "outputs": []
    },
    {
      "metadata": {
        "id": "YwgJLVuG1bQh",
        "colab_type": "text"
      },
      "cell_type": "markdown",
      "source": [
        "##Lineær regresjon\n",
        "\n",
        "Linær regresjon er modell der man forsøker å tilpasse en rett linje til data. Målet er å minimere den totale avstanden fra datapunktene til linjen. \n",
        "\n",
        "<img src=\"https://upload.wikimedia.org/wikipedia/commons/thumb/3/3a/Linear_regression.svg/438px-Linear_regression.svg.png\">\n",
        "\n",
        "Les mer om <a href=\"https://en.wikipedia.org/wiki/Linear_regression\">Linear regression</a><br>\n",
        "<a href=\"http://scikit-learn.org/stable/modules/generated/sklearn.linear_model.LinearRegression.html\" >Scikit-learn dokumentasjon</a>\n",
        "\n",
        "<p>\n",
        "  ###  Trene lineær modell\n",
        "  For å trene en modell basert på lineær regresjon må man importere riktig modell fra Scikit-learn. Deretter må man lage et objekt som representerer modellen. Dette kan gjøres ved å skrive: <br>\n",
        " $modell\\_lineær = LinearRegression()$ <br>\n",
        "  Når modell-objektet er opprettet må man kalle objektets metode $fit()$. Denne metoden tar to parametere; features og tilhørende output, eller X og y. I vårt tilfelle er features alle kolonner som beskriver huset, mens output er salgsprisen. For å trene modellen til dette datasette skriver man derfor: <br>\n",
        "  $modell\\_lineær.fit(input\\_treningsdata, output\\_treningsdata)$ <br>\n",
        "  Den lærte sammenhengen mellom husets egenskaper og salgspris er nå lagret i modellen. \n",
        "  \n",
        "<p/>"
      ]
    },
    {
      "metadata": {
        "id": "fWNg2sqX1bCq",
        "colab_type": "code",
        "colab": {}
      },
      "cell_type": "code",
      "source": [
        "#Treningsfase\n",
        "from sklearn.linear_model import LinearRegression\n",
        "\n",
        "#Regressjons-objekt fra scikit-learn\n",
        "modell_lineær = LinearRegression()\n",
        "\n",
        "#Tilpass regressjonskoeffesienter med treningsdata\n",
        "modell_lineær.fit(input_treningsdata, output_treningsdata)"
      ],
      "execution_count": 0,
      "outputs": []
    },
    {
      "metadata": {
        "id": "Dh8Wzx-XWPiO",
        "colab_type": "text"
      },
      "cell_type": "markdown",
      "source": [
        "###Predikere salgspris med lineær modell <br>\n",
        "Den lærte modellen kan nå brukes til å predikere salgspriser på hus. Siden vi har spart endel data som modellen ikke har sett før, kan man måle hvor nøyaktig modellen er til å predikere salgspris.<br>\n",
        "Dette kan gjøres ved å kalle $modell\\_lineær.predict()$. <br>\n",
        "Metoden $predict()$ tar en parameter; $input\\_testdata$. Dette er dataene som vi har reservert for testing av modellen.  Resultatet av prediksjonen lagrer vi i $pris\\_prediksjoner\\_lineær$<br>\n",
        "<p>\n",
        "Vi ønsker å måle feilprediksjonen kvantitativt, og trenger derfor en feilmåling. Gjennomsnittet av absolutt feil er en simpel og oversiktlig måte å beregne feilprediksjoner på. Heldigvis slipper vi å regne ut dette selv da scikit-learn har ferdigbygde metoder for dette. For å få til dette må vi  kalle $mean\\_absolute\\_error()$.  Metoden må gis to parametre; $pris\\_prediksjoner\\_lineær$ og $output\\_testdata$. På den måten kan gjennomsnittlig absloutt feil regnes ut og lagres i $MAE\\_lin$<p>\n"
      ]
    },
    {
      "metadata": {
        "id": "rd7u24kM1_Gi",
        "colab_type": "code",
        "colab": {}
      },
      "cell_type": "code",
      "source": [
        "#Testfase\n",
        "\n",
        "#Gjør pris-prediksjon på testdataen. \n",
        "pris_prediksjoner_lineær = modell_lineær.predict(input_testdata)\n",
        "\n",
        "#Beregn feil\n",
        "MAE_lin = mean_absolute_error(pris_prediksjoner_lineær, output_testdata)\n",
        "\n",
        "#Feilen skrives ut\n",
        "print(\"MAE: {}\".format(MAE_lin))"
      ],
      "execution_count": 0,
      "outputs": []
    },
    {
      "metadata": {
        "id": "9r0Uz2gv5xEA",
        "colab_type": "text"
      },
      "cell_type": "markdown",
      "source": [
        "Her benytter vi plt sin plottefunksjon for å lage et punktplot\n",
        "\n",
        "<br> $plt.scatter(x, y) $ <br>\n",
        "\n",
        "Her plotter vi altså predikert pris mot ekte pris. Optimalt skulle disse ligget langs en rett linje."
      ]
    },
    {
      "metadata": {
        "id": "LZFxrZOY9nmq",
        "colab_type": "code",
        "colab": {}
      },
      "cell_type": "code",
      "source": [
        "plt.figure(figsize=(15, 10))\n",
        "plt.scatter(x=output_testdata, y=pris_prediksjoner_lineær)\n",
        "plt.xlabel('Pris')\n",
        "plt.ylabel('Prediskjon')\n",
        "plt.title('Faktisk pris mot estimert pris')\n",
        "plt.show()"
      ],
      "execution_count": 0,
      "outputs": []
    },
    {
      "metadata": {
        "id": "CGoRukkIFvuu",
        "colab_type": "text"
      },
      "cell_type": "markdown",
      "source": [
        "## Decision tree regression\n",
        "\n",
        "Decision trees baserer seg på å forsøke å dele datasettet i undergrupper. Ved å bevege seg gjennom treet kan et data klassifiseres. Decision trees kan også brukes til regresjon. \n",
        "\n",
        "<img src=\"https://upload.wikimedia.org/wikipedia/commons/f/f3/CART_tree_titanic_survivors.png\">\n",
        "\n",
        "Les mer om <a href=\"https://en.wikipedia.org/wiki/Decision_tree_learning\">Decision tree</a><br>\n",
        "<a href=\"http://scikit-learn.org/stable/modules/generated/sklearn.tree.DecisionTreeRegressor.html\">Scikit-learn dokumentasjon</a>\n",
        "\n",
        "<p>\n",
        "  ### Trene Decision tree \n",
        " På samme måte som tidligere må man importere riktig modell fra Scikit-learn. Vi skal ha $DecisionTreeRegressor$. Deretter må modellen lages ved å skrive. <br>\n",
        " $model\\_tre = DecisionTreeRegresseor()$ <br>\n",
        "  \n",
        "  Vi trener modellen på samme vis <br>\n",
        "  $model\\_tre.fit(input\\_treningsdata, output\\_treningsdata)$ <br>\n",
        "Sammenhengen er nå lagret i modell-objektet. \n",
        "  \n",
        "<p/>"
      ]
    },
    {
      "metadata": {
        "id": "Cz0m8BKfaWpk",
        "colab_type": "code",
        "colab": {}
      },
      "cell_type": "code",
      "source": [
        "## Importerer DecisionTreeRegressor fra sklearn\n",
        "from sklearn.tree import DecisionTreeRegressor\n",
        "\n",
        "## Oppretter modell\n",
        "model_tre = DecisionTreeRegressor()\n",
        "\n",
        "## Trener modell med features og labels. \n",
        "model_tre.fit(input_treningsdata, output_treningsdata)"
      ],
      "execution_count": 0,
      "outputs": []
    },
    {
      "metadata": {
        "id": "p3-iMUvpahKv",
        "colab_type": "code",
        "colab": {}
      },
      "cell_type": "code",
      "source": [
        "\n",
        "pris_prediksjon_tre = model_tre.predict(input_testdata)\n",
        "\n",
        "MAE_tre = mean_absolute_error(pris_prediksjon_tre, output_testdata)\n",
        "\n",
        "print(\"MAE: {}\".format(MAE_tre))"
      ],
      "execution_count": 0,
      "outputs": []
    },
    {
      "metadata": {
        "id": "z4g8fHoRatms",
        "colab_type": "code",
        "colab": {}
      },
      "cell_type": "code",
      "source": [
        "plt.figure(figsize=(15, 10))\n",
        "plt.scatter(output_testdata, pris_prediksjon_tre)\n",
        "plt.xlabel('Predkisjon')\n",
        "plt.xlabel('Pris')\n",
        "plt.title('Faktisk pris mot estimert pris')\n",
        "plt.show()"
      ],
      "execution_count": 0,
      "outputs": []
    },
    {
      "metadata": {
        "id": "5hvA0IPRFq36",
        "colab_type": "text"
      },
      "cell_type": "markdown",
      "source": [
        "##Skog regressjon\n",
        "Skogmodeller tar utgangspunkt i Decision trees. Istedenfor å generere et tre, så kan skogmodeller generere mange trær. Et valgtre kan se forskjellig ut for samme datasett mellom hver gang det genereres, så mange ulike trær kan i samspill lage en mer robust prediksjon enn et eneste valgtre. Trærne i skogen \"stemmer over\"/\"enes om\" riktig resultat.\n",
        "\n",
        "<img src=\"https://upload.wikimedia.org/wikipedia/commons/7/76/Random_forest_diagram_complete.png\">\n",
        "\n",
        "Les mer om <a href=\"https://en.wikipedia.org/wiki/Random_forest\">Skogregresjon</a><br>\n",
        "<a href=\"http://scikit-learn.org/stable/modules/generated/sklearn.ensemble.RandomForestRegressor.html\">Scikit-learn dokumentasjon</a>"
      ]
    },
    {
      "metadata": {
        "id": "T0Spzq3U4eS2",
        "colab_type": "code",
        "colab": {}
      },
      "cell_type": "code",
      "source": [
        "#Forest regression\n",
        "\n",
        "from sklearn.ensemble import RandomForestRegressor\n",
        "\n",
        "modell_skog = RandomForestRegressor(random_state=1)\n",
        "\n",
        "modell_skog.fit(input_treningsdata, output_treningsdata)"
      ],
      "execution_count": 0,
      "outputs": []
    },
    {
      "metadata": {
        "id": "kf_75UuA_rJv",
        "colab_type": "code",
        "colab": {}
      },
      "cell_type": "code",
      "source": [
        "pris_prediksjon_skog = modell_skog.predict(input_testdata)\n",
        "\n",
        "MAE_skog = mean_absolute_error(pris_prediksjon_skog, output_testdata)\n",
        "\n",
        "print(\"MAE: {}\".format(MAE_skog))"
      ],
      "execution_count": 0,
      "outputs": []
    },
    {
      "metadata": {
        "id": "bvmdjFOkAH_i",
        "colab_type": "code",
        "colab": {}
      },
      "cell_type": "code",
      "source": [
        "plt.figure(figsize=(15, 10))\n",
        "plt.plot([0,0],[400000,400000],'k-',linestyle='solid')\n",
        "\n",
        "plt.scatter(output_testdata, pris_prediksjon_skog)\n",
        "plt.xlabel('Predkisjon')\n",
        "plt.xlabel('Pris')\n",
        "plt.title('Faktisk pris mot estimert pris')\n",
        "plt.show()"
      ],
      "execution_count": 0,
      "outputs": []
    },
    {
      "metadata": {
        "id": "6SiivxKBeaOO",
        "colab_type": "text"
      },
      "cell_type": "markdown",
      "source": [
        "##Nevralt nettverk regressjon\n",
        "\n",
        "Nevrale nettverk er kjent for å være en god regresjonsmetode når dataen er kompleks og stor. Det er ikke nødvendigvis bedre enn de mer klassiske maskinlæringsmodellene og krever  mer tilpassing av parametere. \n",
        "\n",
        "<img src=\"https://upload.wikimedia.org/wikipedia/commons/thumb/4/46/Colored_neural_network.svg/296px-Colored_neural_network.svg.png\">\n",
        "\n",
        "Les mer om <a href=\"https://en.wikipedia.org/wiki/Artificial_neural_network\">nevrale nettverk</a><br>\n",
        "<a href=\"http://scikit-learn.org/stable/modules/generated/sklearn.neural_network.MLPRegressor.html\">Scikit-learn dokumentasjon</a>\n",
        "\n",
        "Noen viktige parametere å tenke på er:\n",
        "\n",
        " - Hidden_layer_sizes: Antall gjemte lag i nettverket, og antall noder i disse lagene. Det i-ende elementet er antall noder i det i-ende laget. (#noder i lag 1, #noder i lag 2, ... , #noder i lag n)\n",
        " - Learning_rate_init: hastigheten på læringen. For fort gjør at nettverket lærer for hurtig og aggressivt, da finne det nødvendigvis ikke de beste løsningene. For sakte gjør at nettverket aldri når de gode løsningene, men bare lærer i all evighet.\n",
        " - Max_iter: Maximalt antall treningsiterasjoner over hele datasettet, hvis denne er for liten rekker ikke nettverket å trene ferdig.\n",
        " - Validation_fraction: Andel av input dataen som vil bli brukt til validering. Rundt 0.15 pleier å være et greit valg.\n",
        "\n",
        "\n",
        "En grei huskeregel er at jo mer kompleks dataen er, altså jo flere features, jo mer komplekst burde nettverket være. Ofte er det lurt å begynne smått, kanskje to lage med 50 noder, og så utvide til du ser at feilen blir større. Det samme kan gjøres med learning rate, start med den veldig liten og øk den gradvis."
      ]
    },
    {
      "metadata": {
        "id": "udablqB1cNx1",
        "colab_type": "code",
        "colab": {}
      },
      "cell_type": "code",
      "source": [
        "from sklearn.neural_network import MLPRegressor\n",
        "\n",
        "modell_MLPR = MLPRegressor(hidden_layer_sizes=(200,100,20), activation='relu',solver='adam', max_iter=300, learning_rate_init=0.01, momentum = 0.9, validation_fraction = 0.2)\n",
        "\n",
        "modell_MLPR.fit(input_treningsdata, output_treningsdata)"
      ],
      "execution_count": 0,
      "outputs": []
    },
    {
      "metadata": {
        "id": "jgMIdlRceF5H",
        "colab_type": "code",
        "colab": {}
      },
      "cell_type": "code",
      "source": [
        "pris_prediksjon_MLPR = modell_MLPR.predict(input_testdata)\n",
        "\n",
        "MAE_MLPR = mean_absolute_error(pris_prediksjon_MLPR, output_testdata)\n",
        "\n",
        "print(\"MAE: {}\".format(MAE_MLPR))"
      ],
      "execution_count": 0,
      "outputs": []
    },
    {
      "metadata": {
        "id": "NnDi0ltdegsR",
        "colab_type": "code",
        "colab": {}
      },
      "cell_type": "code",
      "source": [
        "plt.figure(figsize=(15, 10))\n",
        "plt.scatter(output_testdata, pris_prediksjon_MLPR)\n",
        "plt.xlabel('Predkisjon')\n",
        "plt.xlabel('Pris')\n",
        "plt.title('Faktisk pris mot estimert pris')\n",
        "plt.show()"
      ],
      "execution_count": 0,
      "outputs": []
    },
    {
      "metadata": {
        "id": "xWtDnACYAJxU",
        "colab_type": "text"
      },
      "cell_type": "markdown",
      "source": [
        "## Gradient boosted regression\n",
        "\n",
        "Gradient boosting kan sammenliknes med forest regression. I forest regression modellen konstrueres mange uavhengige og ulike valgtre-modeller som utfører hver sin prediksjon. Alle disse prediksjonene blir til slutt slått sammen til den endelige prediksjonen ved å ta gjennomsnittet for eksempel. I gradient boosting lages det også mange forskjellige valgtrer, men disse lages sekvensielt. De er altså avhengig av hverandre. Prinsippet er at når første valgtre blir laget og testet, så blir neste valgtre laget basert på feilen til den første modellen. Målet er å minimere denne feilen. Altså stepper neste modell inn for å rette opp det forrige modell gjorde det dårligst på. Dette kan gjøres evig, og ofte setter man en grense på hvor mange valgtrær man tillater modellen å lage. Prinsippet er forklart i mer detalj <a href=\"https://medium.com/mlreview/gradient-boosting-from-scratch-1e317ae4587d\n",
        "\">her</a>\n",
        "\n",
        "Les mer om <a href=\"https://en.wikipedia.org/wiki/Gradient_boosting\">gradient boosting</a><br>\n",
        "<a href=\"http://scikit-learn.org/stable/modules/generated/sklearn.ensemble.GradientBoostingRegressor.html\n",
        "\">Scikit-learn dokumentasjon</a>"
      ]
    },
    {
      "metadata": {
        "id": "3POGTDinAIco",
        "colab_type": "code",
        "colab": {}
      },
      "cell_type": "code",
      "source": [
        "from sklearn.ensemble import GradientBoostingRegressor\n",
        "from sklearn.ensemble.partial_dependence import plot_partial_dependence\n",
        "from sklearn.ensemble.partial_dependence import partial_dependence\n",
        "\n",
        "modell_boostreg = GradientBoostingRegressor(learning_rate = 0.1, max_depth = 3, random_state=1)\n",
        "\n",
        "modell_boostreg.fit(input_treningsdata, output_treningsdata)"
      ],
      "execution_count": 0,
      "outputs": []
    },
    {
      "metadata": {
        "id": "hNrXrJgEAVj-",
        "colab_type": "code",
        "colab": {}
      },
      "cell_type": "code",
      "source": [
        "pris_prediksjon_boostreg = modell_boostreg.predict(input_testdata)\n",
        "\n",
        "MAE_boostreg = mean_absolute_error(pris_prediksjon_boostreg, output_testdata)\n",
        "\n",
        "print(\"MAE: {}\".format(MAE_boostreg))"
      ],
      "execution_count": 0,
      "outputs": []
    },
    {
      "metadata": {
        "id": "lIRtmFmZAhgi",
        "colab_type": "code",
        "colab": {}
      },
      "cell_type": "code",
      "source": [
        "plt.figure(figsize=(15, 10))\n",
        "plt.scatter(output_testdata, pris_prediksjon_boostreg)\n",
        "plt.xlabel('Predkisjon')\n",
        "plt.xlabel('Pris')\n",
        "plt.title('Faktisk pris mot estimert pris')\n",
        "plt.show()"
      ],
      "execution_count": 0,
      "outputs": []
    },
    {
      "metadata": {
        "id": "C3TcE9YiGJEy",
        "colab_type": "text"
      },
      "cell_type": "markdown",
      "source": [
        "# Analyse av resultater"
      ]
    },
    {
      "metadata": {
        "id": "wIaO4mw6kbzz",
        "colab_type": "text"
      },
      "cell_type": "markdown",
      "source": [
        "##Sammenlikning av modeller"
      ]
    },
    {
      "metadata": {
        "id": "LcgdRlZpihpK",
        "colab_type": "text"
      },
      "cell_type": "markdown",
      "source": [
        "Nå som vi har prediksjoner fra alle modellene, kan vi slå sammen til en pandas dataframe for å lettere sammenlikne outputen. Dette gjør vi ved å samle dataen i en dictionary (hashtabell)\n",
        "\n",
        "<br> $ dict = \\{ 'modell1' : prediksjoner1, 'modell2':prediksjoner2 \\} $ <br>\n",
        "\n",
        "Deretter opprettes en ny pandas dataframe med denne hashtabellen. Se <a href=\"https://pandas.pydata.org/pandas-docs/stable/generated/pandas.DataFrame.html\"> dokumentasjonen </a>  på denne funksjonen\n",
        " "
      ]
    },
    {
      "metadata": {
        "id": "l_urruhMg2Rn",
        "colab_type": "code",
        "colab": {}
      },
      "cell_type": "code",
      "source": [
        "kolonner_resultat = ['output_testdata', 'pris_prediksjoner_lineær', 'pris_prediksjon_tre','pris_prediksjon_skog', 'pris_prediksjon_MLPR','pris_prediksjon_boostreg']\n",
        "resultat_data = {'output_testdata':output_testdata, 'pris_prediksjoner_lineær':pris_prediksjoner_lineær, 'pris_prediksjon_tre':pris_prediksjon_tre, 'pris_prediksjon_skog':pris_prediksjon_skog, 'pris_prediksjon_MLPR':pris_prediksjon_MLPR, 'pris_prediksjon_boostreg':pris_prediksjon_boostreg}\n",
        "\n",
        "resultat = pd.DataFrame(data=resultat_data, columns = kolonner_resultat)\n",
        "resultat.head(5)"
      ],
      "execution_count": 0,
      "outputs": []
    },
    {
      "metadata": {
        "id": "hhPMfECJ99GF",
        "colab_type": "text"
      },
      "cell_type": "markdown",
      "source": [
        "Vi samler også alle de kvantitative feilmålingene av modellene"
      ]
    },
    {
      "metadata": {
        "id": "amQ3kNFLi0GA",
        "colab_type": "code",
        "colab": {}
      },
      "cell_type": "code",
      "source": [
        "#Alle modeller må være kjørt\n",
        "MAE_kolonner = ['MAE_lin','MAE_tre','MAE_skog','MAE_MLPR','MAE_boostreg']\n",
        "MAE_alle = pd.DataFrame(data={'MAE_lin':[MAE_lin], 'MAE_tre':[MAE_tre], 'MAE_skog':[MAE_skog],'MAE_MLPR':[MAE_MLPR], 'MAE_boostreg':MAE_boostreg},columns=MAE_kolonner)\n",
        "MAE_alle.head()"
      ],
      "execution_count": 0,
      "outputs": []
    },
    {
      "metadata": {
        "id": "-fOjTsBeioQR",
        "colab_type": "text"
      },
      "cell_type": "markdown",
      "source": [
        "Vi kan også plott alle prediksjonspunktene til hver modell mot hverandre for å visualisere hvordan prediksjons-distribusjonen ser ut. Her plotter vi predikert pris mot reell pris, hadde modellene predikert 100% korrekt ville alle punktene ligget langs diagonalen."
      ]
    },
    {
      "metadata": {
        "id": "xALfnHUAUgcN",
        "colab_type": "code",
        "colab": {}
      },
      "cell_type": "code",
      "source": [
        "plt.figure(figsize=(18, 12))\n",
        "plt.scatter(output_testdata, output_testdata, color='black', label='Faktisk pris')\n",
        "plt.scatter(output_testdata, pris_prediksjoner_lineær, color='yellow', label='Lineær regressjon')\n",
        "plt.scatter(output_testdata, pris_prediksjon_tre, color='blue', label='Decision tree')\n",
        "plt.scatter(output_testdata, pris_prediksjon_skog, color='green', label='Skog regressjon')\n",
        "plt.scatter(output_testdata, pris_prediksjon_MLPR, color='red', label='Nevralt netverk')\n",
        "plt.scatter(output_testdata, pris_prediksjon_boostreg, color='purple', label='Boosted regression')\n",
        "plt.ylabel('Predkisjon')\n",
        "plt.xlabel('Pris')\n",
        "plt.title('Sammenlikning av modeller')\n",
        "plt.legend(loc='upper left')\n",
        "plt.show()"
      ],
      "execution_count": 0,
      "outputs": []
    },
    {
      "metadata": {
        "id": "kXGZYcT_BIgL",
        "colab_type": "text"
      },
      "cell_type": "markdown",
      "source": [
        "Det kan være mer oversiktlig å visualisereprediksjonene til en modell mot den ekte outputen av gangen."
      ]
    },
    {
      "metadata": {
        "id": "mutH536sBNK3",
        "colab_type": "code",
        "colab": {}
      },
      "cell_type": "code",
      "source": [
        "plt.figure(figsize=(18, 12))\n",
        "plt.scatter(output_testdata, output_testdata, color='black', label='Faktisk pris')\n",
        "plt.scatter(output_testdata, pris_prediksjon_boostreg, color='purple', label='Boosted regression')\n",
        "plt.ylabel('Predkisjon')\n",
        "plt.xlabel('Pris')\n",
        "plt.title('Boosted regression prediksjoner')\n",
        "plt.legend(loc='upper left')\n",
        "plt.show()"
      ],
      "execution_count": 0,
      "outputs": []
    },
    {
      "metadata": {
        "id": "epS-Bk7FsFwz",
        "colab_type": "text"
      },
      "cell_type": "markdown",
      "source": [
        "## Partial dependence plots\n",
        "\n",
        "Partial dependence plots viser hvordan hver input variabel påvirker prediksjonen, eller output. Dette bidrar til å forstå hvordan modellen oppfører seg. \n",
        "\n",
        "Slik det funker er at den ferdig trente modellen blir testet for ulike features. En registrering blir sent inn i modellen, men så blir featuren vi ønsker å undersøke økt fra minimal verdi til maksimal verdi. Skal vi for eksempel teste for kvadratfot, begynner vi å teste for 0 kvf. Deretter øker vi kvf fot gradvis og ser hvordan prisprediksjonen endrer seg, inntil vi når mengden til den største tomten i datasettet. Under kan man ser hvordan prisen økergradvis i takt med økende kvf. Altså har LotArea en positiv effekt på pris, jo større tomt jo dyrere pris.\n",
        "\n",
        "\n",
        "Les mer <a href=\"http://scikit-learn.org/stable/modules/generated/sklearn.ensemble.partial_dependence.plot_partial_dependence.html#sklearn.ensemble.partial_dependence.plot_partial_dependence\n",
        "\">Scikit-learn dokumentasjon</a>"
      ]
    },
    {
      "metadata": {
        "id": "Ch-gSGTtsIR5",
        "colab_type": "code",
        "colab": {}
      },
      "cell_type": "code",
      "source": [
        "features = input_treningsdata.columns\n",
        "\n",
        "my_plot = plot_partial_dependence(modell_boostreg, features=[0, 7], X=input_treningsdata, feature_names=features, grid_resolution=10, n_cols=2)\n"
      ],
      "execution_count": 0,
      "outputs": []
    },
    {
      "metadata": {
        "id": "vTQZvTnR3sTj",
        "colab_type": "text"
      },
      "cell_type": "markdown",
      "source": [
        "Her ser vi at husalder har en negativ påvirkning på prisen når den stiger, men den påvirker negativt i like stor grad når huset er over ca 35 år. Det er derimot en veldig positiv påvirkning når huset er under 10 år gammelt."
      ]
    },
    {
      "metadata": {
        "id": "MW1iEkTK5bTq",
        "colab_type": "code",
        "colab": {}
      },
      "cell_type": "code",
      "source": [
        "\n",
        "my_plot = plot_partial_dependence(modell_boostreg, features=[18, 21], X=input_treningsdata, feature_names=features, grid_resolution=10, n_cols=2)"
      ],
      "execution_count": 0,
      "outputs": []
    },
    {
      "metadata": {
        "id": "7VzPh9Wfy5Jo",
        "colab_type": "text"
      },
      "cell_type": "markdown",
      "source": [
        "Vi kan teste dette på andre features i treningssettet, de er nummerert fra 0 til 22 nedover. Under er alle featurene printet ut med tilhørende index.\n",
        "\n",
        "**merk at scikit-learn støtter denne funksjonen kun for gradient boosting modellen**"
      ]
    },
    {
      "metadata": {
        "id": "-Bm4nS1Ryy5G",
        "colab_type": "code",
        "colab": {}
      },
      "cell_type": "code",
      "source": [
        "#Nummerering på hver feature\n",
        "for i, element in enumerate(features):\n",
        "  print(i,element)"
      ],
      "execution_count": 0,
      "outputs": []
    },
    {
      "metadata": {
        "id": "kfZGKM3NF7WB",
        "colab_type": "text"
      },
      "cell_type": "markdown",
      "source": [
        "##Oppgave: Bygg model\n",
        "\n",
        "Bygg din egen modell på datasettet du lagde i tidligere seksjon. Husk å dele opp datasettet i trenings og test data ved å bruke:\n",
        "\n",
        "<br> $ train\\_test\\_split(x,y,test_size = 0.2, random_state=1) $ <br>\n",
        "\n",
        "**NB! Ha med test_size = 0.2 og  random_state = 1 slik at samme registreringer blir utvalgt til å være i testsettet, slik blir resultatene mer sammenliknbare mellom modellene og alle som deltar.**\n",
        "\n",
        "Velg hvilken modell du vil bruke, gjerne noen andre enn de som er gått gjennom her, og juster modell parametrene for å få så lav MAE som mulig.\n",
        "\n",
        "\n",
        "\n",
        "<a href=\"http://scikit-learn.org/stable/supervised_learning.html\n",
        "\">Scikit-learn supervised learning</a>\n",
        "\n",
        "Bruk også gjerne modellene og datasettet som allerede er satt opp og endre parameterene og utvalgte features for å forbedre modellen. Visualiser resultatene fra modellen(e).\n",
        "\n",
        "Til slutt: lag en boosted regression modell på datasettet ditt og skriv ut partial dependence plots."
      ]
    },
    {
      "metadata": {
        "id": "NqAIyV080KZC",
        "colab_type": "code",
        "colab": {}
      },
      "cell_type": "code",
      "source": [
        "#Skriv kode her"
      ],
      "execution_count": 0,
      "outputs": []
    },
    {
      "metadata": {
        "id": "g_oKucUm58Og",
        "colab_type": "code",
        "colab": {}
      },
      "cell_type": "code",
      "source": [
        ""
      ],
      "execution_count": 0,
      "outputs": []
    }
  ]
}