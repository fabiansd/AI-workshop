{
  "nbformat": 4,
  "nbformat_minor": 0,
  "metadata": {
    "colab": {
      "name": "AI workshop.ipynb",
      "version": "0.3.2",
      "provenance": [],
      "include_colab_link": true
    }
  },
  "cells": [
    {
      "cell_type": "markdown",
      "metadata": {
        "id": "view-in-github",
        "colab_type": "text"
      },
      "source": [
        "[View in Colaboratory](https://colab.research.google.com/github/fabiansd/AI-workshop/blob/master/AI_workshop.ipynb)"
      ]
    },
    {
      "metadata": {
        "id": "8rVB8cPVwNbx",
        "colab_type": "text"
      },
      "cell_type": "markdown",
      "source": [
        "# **AI workshop - business case**"
      ]
    },
    {
      "metadata": {
        "id": "IXEaJo9HwAgM",
        "colab_type": "text"
      },
      "cell_type": "markdown",
      "source": [
        "## **Beskrivelse av dataset**\n",
        "\n",
        "*En av datasettene må utvelges som case study i denne workshopen, alle er interessante på ulik måte*\n",
        "\n",
        "###**Alkoholkonsumpsjon blant studenter**\n",
        "Datasettet er en undersøkelse av studenter og deres alkohol-konsum i hverdager og helg. Dataen inneholder features som fam- utdanning, relasjon, jobb og størrelse, karakternivå, tid brukt på å studere og reise til skolen, antall stryk, støtte hjemmefra og fra skolen, fritid, fravær og mer.\n",
        "\n",
        "Morsom case, relevant ift studenter. De kan jo tross alt predikere på seg selv.. Denne tror jeg kan bli veldig morsom og engasjerende.\n",
        "\n",
        "Fin til visualisering og se sammenhenger i data, kan predikere på studenter og anslå hvem som står i fare for å konsumere for mye alkohol. Da kan man sette in grep mot å forhindre at de blir alkoholikere etter studiet.\n",
        "\n",
        "https://www.kaggle.com/uciml/student-alcohol-consumption#student-mat.csv\n",
        "\n",
        "\n",
        "###** Boligpriser i Melbourne**\n",
        "Et klassisk datasett med informasjon over boligpriser i Melbourne. Inneholder features som: Kvm, nabolag, nærhet til vei/togskinner, boligtype, husstil, kvalitet, år bygget, varmeanlegg, aircon, soverom, bad, garasje og mye mer. \n",
        "\n",
        "Klassisk case: predikere pris på salg ved bruk av ulike features og AI-algoritmer. Beskriver godt at utvalget av features er viktig. Ganske business-relevant case. Mulig det tryggeste valget som er mest \"rett frem\"\n",
        "\n",
        "Her kan påvirkning av avstand til byggeområder og til Melbourne sentrum på boligpris studeres med visualisering og analyse av prediksjonsresultat f.eks.\n",
        "\n",
        "https://www.kaggle.com/c/home-data-for-ml-course/data\n",
        "\n",
        "###**Olympiske leker statistisk data**\n",
        "Data fra OL siden 1896 i Athen til 2016 i Rio. Inneholder features som: Navn, alder, høyde, vekt, team, game, sesong, by event medalje, sport.\n",
        "\n",
        "Interessant case, mer fokusert på visualisering og tolking av data. Mulig mer egnet om nivået er litt lavt på Python programmering siden er et enkelere datasett.\n",
        "\n",
        "Caser: Fordeling av kvinner/menn i ulike sporter/medaljer, variasjon av vekt/høyde over ulike grener, medalje per nasjonalitet og alder i ulike grener. Mye spennede og interessante trender å oppdage. \n",
        "\n",
        "AI-case kan være clustering av nasjonaliteter i sporter e.l. Kan vi klassifisere nasjonalitet til atleter basert på alder/vekt/medalje/gren med clustering f.eks.?\n",
        "\n",
        "https://www.kaggle.com/marcogdepinto/let-s-discover-more-about-the-olympic-games\n",
        "\n",
        "#####################################################################"
      ]
    },
    {
      "metadata": {
        "id": "pdebD3VqZo_8",
        "colab_type": "text"
      },
      "cell_type": "markdown",
      "source": [
        "##**Agenda - Workshop**\n",
        "\n",
        "### **Opplasting av dataset**\n",
        "\n",
        "CSV fil lasters opp ved bruk av *Pandas* biblioteket. \n",
        "\n",
        "* Fjerne missing values\n",
        "* Se på dataen på en øyevennlig måte\n",
        "* Få generell oversikt\n",
        "* Utvelge datakolonner og lage nye subsett\n",
        "\n",
        "Pandas benyttes til å åpne og lese datasettet fra Google Drive.\n",
        "\n",
        "### **Utforsking av dataset**\n",
        "\n",
        "Dataset visualiseres for å få bedre forståelse av dataset (Seaborn eller Matplotlib)\n",
        "\n",
        "Visualisering:\n",
        "* Histogram av ulike features (undersøke fordelinger for numerisk og kategorisk data)\n",
        "* Korrelasjonsplot (en variabel plottes mot en annen)\n",
        "\n",
        "Ønsker å få frem at \"maskinlæring\" er 90% databehandling.. Alt ligger i kvaliteten og oppsettet til dataen\n",
        "\n",
        "\n",
        "### **Maskinlæring modeller**\n",
        "\n",
        "Lage maskinlærings-modeller som regresjon, decision tree, clustering ... (scikit-learn)\n",
        "* Regresjon\n",
        "* Decision tree regresjon\n",
        "* Support Vector Machine regresjon\n",
        "* Nevralt nettverk regresjon?\n",
        "* (Clustering)\n",
        "\n",
        "Skal kun kreve noen få linjer å bygge dette, datasett(ene) fra forrige seksjon brukes her. Datasett med ulike features kan brukes. Prediksjonserror måles.\n",
        "\n",
        "### **Analyse av resultat**\n",
        "\n",
        "Resultatene (prediksjonene) visualiseres i oversiktlige plots.\n",
        "\n",
        "Plots som hjelper til med å tolke resultatet, og mulig sammenlikner resultat fra ulike metoder i forrige seksjon\n",
        "\n",
        "Poenget her er å få frem at maskinlæring ikke er trylling men smart bruk av statistikk\n"
      ]
    },
    {
      "metadata": {
        "id": "ymc2IfXbdXQe",
        "colab_type": "text"
      },
      "cell_type": "markdown",
      "source": [
        "#################################################################\n",
        "\n",
        "## **undervisningsmetode:**\n",
        "\n",
        "### **Presentasjon**\n",
        "\n",
        " - Intro (Accenture og AI initiativ, viktighet av AI i industrien og utvikling av AI generelt - eksempler)\n",
        " - Hva er AI og ML (kjapt)\n",
        " - Viktighet av data (Viktighet av datakvalitet, rensking og undersøkelse og utforsking som første steg)\n",
        " - Lett gjennomgang av metodene vi skal bruke (regresjon, decision tree, clustering og kanskje Neural Nets)\n",
        "\n",
        "Cae study: Gjennomgang av oppgave og agenda\n",
        "\n",
        "###**Workshop**\n",
        "\n",
        "Folk jobber i grupper på 2-4?\n",
        "\n",
        "Alle laster ned initialiseringsscript som setter opp colab, installerer biblioteker som trengs og laster ned git med workshopen. Git repository inneholder:\n",
        "\n",
        "*   Datasett som CSV fil\n",
        "*   Workshopscript med kode og oppgaver\n",
        "\n",
        "I workshopscriptet blir alt gjennomgått med eksplisitte eksempler. Deretter er det små oppgaver til hver av de fire delene. Disse oppgavene er lik eksemplene men i ulik kontekst. Slik får man prøvd seg på koding, men man kan likevel gå videre om man ikke klarer et segment. \n",
        "\n",
        "Hvis tid:\n",
        "* Det vedlegges en nedtrekkbar meny med hint til hvert segment og en med løsningsforslag.\n",
        "* Bonusoppgave: den endelige modellen kan prøves på en irl case. info hentes fra internett, og man fyller inn og tester (setter opp en form til dette for å gjøre det enkelt)\n",
        "\n",
        "Bruk form til prediksjon:\n",
        "https://colab.research.google.com/notebooks/forms.ipynb#scrollTo=3jKM6GfzlgpS\n",
        "\n",
        "###**Pitfalls**\n",
        "\n",
        "* Har ikke testet dette på MAC\n",
        "* Usikker på nivået ift. koding i Python\n",
        "* Ikke testet hvor mye tid workshopen tar\n",
        "* Kluss med setup av google collab og nedlasting av Git (brukte selv to forsøk og litt mer tid en ønskelig på å sette alt opp) \n",
        "\n",
        "\n",
        "\n",
        "\n"
      ]
    }
  ]
}